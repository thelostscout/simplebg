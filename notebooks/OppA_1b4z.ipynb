{
 "cells": [
  {
   "cell_type": "markdown",
   "id": "683dafe7-8c81-4e51-89c2-668565b513aa",
   "metadata": {},
   "source": [
    "# Setup"
   ]
  },
  {
   "cell_type": "code",
   "id": "18b8363c-0ff6-4fd2-a3d6-1889608a75ac",
   "metadata": {
    "ExecuteTime": {
     "end_time": "2024-07-16T13:10:32.981568Z",
     "start_time": "2024-07-16T13:10:32.974693Z"
    }
   },
   "source": [
    "from ipdb import set_trace as bp\n",
    "import torch\n",
    "import mdtraj as md\n",
    "import os\n",
    "import numpy as np\n",
    "from scipy.stats import shapiro\n",
    "import warnings\n",
    "from typing import Union\n",
    "import openmm\n",
    "from openmm import LocalEnergyMinimizer\n",
    "from openmm.unit import *\n",
    "from contextlib import redirect_stdout\n",
    "from tqdm import tqdm\n",
    "from mdtraj.reporters import NetCDFReporter\n",
    "import copy\n",
    "from itertools import combinations\n",
    "import nflows\n",
    "import scipy\n",
    "from scipy import stats\n",
    "import math\n",
    "\n",
    "\n",
    "#BGMOL\n",
    "import bgmol\n",
    "import bgflow as bg\n",
    "from bgflow.utils.types import assert_numpy\n",
    "from simplebg.utils.peptide import Peptide\n",
    "from bgmol.zmatrix import ZMatrixFactory\n",
    "from bgflow.nn.flow.transformer.base import Flow\n",
    "from bgflow import (BoltzmannGeneratorBuilder, BONDS, ANGLES, TORSIONS, FIXED, AUGMENTED, ORIGIN, ROTATION, ShapeDictionary)\n",
    "from bgflow import InternalCoordinateMarginals, BoltzmannGeneratorBuilder\n",
    "from bgmol import bond_constraints\n",
    "from bgflow.distribution.energy.clipped import LinLogCutEnergy\n",
    "from bgflow.utils import as_numpy\n",
    "\n",
    "#Plotting and Visualisation\n",
    "import nglview as nv\n",
    "from matplotlib import pyplot as plt\n",
    "import matplotlib.patches as mpatches\n",
    "import matplotlib as mpl\n",
    "import seaborn as sns\n",
    "from sklearn.decomposition import PCA\n",
    "from sklearn.decomposition import IncrementalPCA\n",
    "import ipywidgets as widgets\n"
   ],
   "outputs": [],
   "execution_count": 7
  },
  {
   "cell_type": "code",
   "id": "b55ddbb7-a917-4e51-9d0c-300955dfff10",
   "metadata": {
    "ExecuteTime": {
     "end_time": "2024-07-16T13:10:35.443391Z",
     "start_time": "2024-07-16T13:10:35.370310Z"
    }
   },
   "source": [
    "%load_ext autoreload\n",
    "\n",
    "%autoreload 2"
   ],
   "outputs": [],
   "execution_count": 8
  },
  {
   "cell_type": "code",
   "id": "danish-antique",
   "metadata": {
    "ExecuteTime": {
     "end_time": "2024-07-16T13:10:35.514431Z",
     "start_time": "2024-07-16T13:10:35.448843Z"
    }
   },
   "source": [
    "device = torch.device(\"cpu\") if torch.cuda.is_available() else torch.device(\"cpu\")\n",
    "dtype = torch.float32\n",
    "\n",
    "# a context tensor to send data to the right device and dtype via '.to(ctx)'\n",
    "ctx = {\"device\": device, \"dtype\": dtype}\n",
    "\n",
    "# a brief check if this module is the main executable (or imported)\n",
    "main = (__name__ == \"__main__\")"
   ],
   "outputs": [],
   "execution_count": 9
  },
  {
   "cell_type": "markdown",
   "id": "d684afa8-5b84-4c2c-8cc4-cd91c228ecbb",
   "metadata": {
    "tags": []
   },
   "source": [
    "# Define Peptide/load data"
   ]
  },
  {
   "metadata": {},
   "cell_type": "markdown",
   "source": [
    "#first four lines have to adapted\n",
    "complex_name = 'OppA'\n",
    "peptide_name = '1b4z'\n",
    "n_atoms = 59\n",
    "n_res = 3\n",
    "\n",
    "#filepath = f'/data/mcm/meyerml/BG/Systems/{complex_name}/Peptides/{peptide_name}'\n",
    "filepath = f'/hits/basement/mcm/emmertme/Boltzmann/BG/Systems/{complex_name}/Peptides/{peptide_name}/10_7_steps'\n",
    "system = peptide(short = False, n_atoms=n_atoms, n_res=n_res, filepath=filepath, complex_name=complex_name, peptide_name=peptide_name)\n",
    "topology = system._mdtraj_topology"
   ],
   "id": "8193e575e496bfc3"
  },
  {
   "cell_type": "code",
   "id": "94f683ea-b735-45ae-aef0-98fcbd894f37",
   "metadata": {
    "ExecuteTime": {
     "end_time": "2024-07-16T13:10:35.932691Z",
     "start_time": "2024-07-16T13:10:35.576244Z"
    }
   },
   "source": [
    "ala2 = bgmol.datasets.Ala2TSF300(download=False, read=True)\n",
    "system = ala2.system\n",
    "topology = system.topology"
   ],
   "outputs": [
    {
     "name": "stdout",
     "output_type": "stream",
     "text": [
      "Using downloaded and verified file: /tmp/alanine-dipeptide-nowater.pdb\n"
     ]
    }
   ],
   "execution_count": 10
  },
  {
   "metadata": {
    "ExecuteTime": {
     "end_time": "2024-07-16T13:10:35.978604Z",
     "start_time": "2024-07-16T13:10:35.934890Z"
    }
   },
   "cell_type": "code",
   "source": "system.system",
   "id": "bbd12d4e818439fb",
   "outputs": [
    {
     "data": {
      "text/plain": [
       "<openmm.openmm.System; proxy of <Swig Object of type 'OpenMM::System *' at 0x7f3118ef6610> >"
      ]
     },
     "execution_count": 11,
     "metadata": {},
     "output_type": "execute_result"
    }
   ],
   "execution_count": 11
  },
  {
   "cell_type": "code",
   "id": "773f39d4-84f7-46d9-b4c1-8a9d13ceb4b3",
   "metadata": {
    "ExecuteTime": {
     "end_time": "2024-07-16T13:10:36.020300Z",
     "start_time": "2024-07-16T13:10:35.979531Z"
    }
   },
   "source": "traj = ala2.trajectory",
   "outputs": [],
   "execution_count": 12
  },
  {
   "cell_type": "code",
   "id": "e07578db-05a8-42a0-95e4-82aeea67996d",
   "metadata": {
    "ExecuteTime": {
     "end_time": "2024-07-16T13:10:36.062169Z",
     "start_time": "2024-07-16T13:10:36.021842Z"
    }
   },
   "source": "data = traj.xyz.reshape(len(traj.xyz), -1)",
   "outputs": [],
   "execution_count": 13
  },
  {
   "cell_type": "markdown",
   "id": "b9038967-9ebe-4655-9dc1-8a893a399f20",
   "metadata": {
    "tags": []
   },
   "source": [
    "## Load explicit solvent traj"
   ]
  },
  {
   "cell_type": "code",
   "id": "dc736bf6-62cf-41f1-8260-5abd2582d804",
   "metadata": {
    "scrolled": true,
    "tags": [],
    "ExecuteTime": {
     "end_time": "2024-07-16T13:10:36.066112Z",
     "start_time": "2024-07-16T13:10:36.063884Z"
    }
   },
   "source": "",
   "outputs": [],
   "execution_count": 13
  },
  {
   "cell_type": "code",
   "id": "d18db7bc-41c2-4ebc-92a2-e09a0f688c52",
   "metadata": {
    "ExecuteTime": {
     "end_time": "2024-07-16T13:10:36.106707Z",
     "start_time": "2024-07-16T13:10:36.104104Z"
    }
   },
   "source": "",
   "outputs": [],
   "execution_count": 13
  },
  {
   "cell_type": "code",
   "id": "d5846169-8c9c-4d3d-bff3-24ecdf497fee",
   "metadata": {
    "ExecuteTime": {
     "end_time": "2024-07-16T13:10:36.237754Z",
     "start_time": "2024-07-16T13:10:36.189379Z"
    }
   },
   "source": [
    "#list(expl_traj.topology.atoms)"
   ],
   "outputs": [],
   "execution_count": 14
  },
  {
   "cell_type": "markdown",
   "id": "6277d2f2-3289-4439-9f68-e981c0bafb7c",
   "metadata": {},
   "source": [
    "# Visualize MD Data"
   ]
  },
  {
   "cell_type": "code",
   "id": "d5fa4760-71ef-4f6e-9450-e2d8063b5730",
   "metadata": {
    "ExecuteTime": {
     "end_time": "2024-07-16T13:10:37.641679Z",
     "start_time": "2024-07-16T13:10:36.444323Z"
    }
   },
   "source": [
    "def show_structures(traj, top=system.mdtraj_topology):\n",
    "    if not isinstance(traj, md.Trajectory):\n",
    "        n_samples = traj.shape[0]\n",
    "        traj = md.Trajectory(traj.reshape(n_samples, -1, 3), topology=top)\n",
    "    traj.superpose(traj)\n",
    "    widget = nv.show_mdtraj(traj)\n",
    "    widget.add_representation(\"licorice\")\n",
    "    return widget\n",
    "\n",
    "wid=show_structures(data)\n",
    "wid"
   ],
   "outputs": [
    {
     "data": {
      "text/plain": [
       "NGLWidget(max_frame=999999)"
      ],
      "application/vnd.jupyter.widget-view+json": {
       "version_major": 2,
       "version_minor": 0,
       "model_id": "c940b41ffd014b45aba4bd9d74a76c74"
      }
     },
     "metadata": {},
     "output_type": "display_data"
    }
   ],
   "execution_count": 15
  },
  {
   "cell_type": "markdown",
   "id": "7b052d28-a855-4d1a-b705-ccb68c2f837a",
   "metadata": {},
   "source": [
    "## Split MD Data"
   ]
  },
  {
   "cell_type": "code",
   "id": "metric-reply",
   "metadata": {
    "ExecuteTime": {
     "end_time": "2024-07-16T13:10:37.896067Z",
     "start_time": "2024-07-16T13:10:37.643470Z"
    }
   },
   "source": [
    "#system.mdtraj_topology.to_dataframe()\n",
    "xyz = traj.xyz #xyz are the trajectories coordinates\n",
    "print('number of snapshots:', len(data))\n",
    "\n",
    "n_train = len(data)//2\n",
    "n_test = len(data) - n_train\n",
    "permutation = np.random.permutation(n_train)\n",
    "\n",
    "all_data = xyz.reshape(-1, traj.n_atoms*3)\n",
    "training_data = torch.tensor(all_data[permutation], **ctx)\n",
    "test_data = torch.tensor(all_data[permutation + n_train], **ctx)\n",
    "\n",
    "print('dimensions training and test data:', training_data.shape, test_data.shape)"
   ],
   "outputs": [
    {
     "name": "stdout",
     "output_type": "stream",
     "text": [
      "number of snapshots: 1000000\n",
      "dimensions training and test data: torch.Size([500000, 66]) torch.Size([500000, 66])\n"
     ]
    }
   ],
   "execution_count": 16
  },
  {
   "cell_type": "markdown",
   "id": "5e9a42e4-9491-4d20-8139-0e0e0e3b9b1a",
   "metadata": {
    "tags": []
   },
   "source": [
    "## PCA"
   ]
  },
  {
   "cell_type": "code",
   "id": "db13f565-9bf3-47d5-8624-d7967126b0a8",
   "metadata": {
    "ExecuteTime": {
     "end_time": "2024-07-16T13:10:37.941703Z",
     "start_time": "2024-07-16T13:10:37.897272Z"
    }
   },
   "source": [
    "# define target_energy, is later used in 'Build the BG'\n",
    "system.reinitialize_energy_model(temperature=300, platform_name=\"CPU\")\n",
    "target_energy = system._energy_model "
   ],
   "outputs": [
    {
     "name": "stderr",
     "output_type": "stream",
     "text": [
      "/home/kortkamp/mambaforge/envs/lightning_bg/lib/python3.10/site-packages/bgflow/distribution/energy/openmm.py:200: It looks like you are using an OpenMMBridge with multiple workers in an ipython environment. This can behave a bit silly upon KeyboardInterrupt (e.g., kill the stdout stream). If you experience any issues, consider initializing the bridge with n_workers=1 in ipython/jupyter.\n"
     ]
    }
   ],
   "execution_count": 17
  },
  {
   "metadata": {},
   "cell_type": "markdown",
   "source": [
    "def distances(xyz):\n",
    "    distance_matrix_ca = np.linalg.norm(xyz[:, None, :, :] - xyz[:, :, None, :], axis=-1)\n",
    "    n_ca = distance_matrix_ca.shape[-1]\n",
    "    m, n = np.triu_indices(n_ca, k=1)\n",
    "    distances_ca = distance_matrix_ca[:, m, n]\n",
    "    return distances_ca\n",
    "\n",
    "def dihedrals(xyz):\n",
    "    n_atoms = xyz.shape[1]\n",
    "    top, traj = bgmol.build_fake_topology(n_atoms, coordinates=xyz)\n",
    "    dihedral_indices = np.array( [list(range(i,i+4)) for i in range(n_atoms-3)] )\n",
    "    dihedrals = md.compute_dihedrals(traj, dihedral_indices)\n",
    "    return dihedrals\n",
    "\n",
    "c_atoms = system.mdtraj_topology.select(\"backbone and (name C or name N)\")#[:3]\n",
    "\n",
    "system.reinitialize_energy_model(temperature=300, platform_name=\"CPU\", n_workers = 1)\n",
    "system.mdtraj_topology\n",
    "\n",
    "def plot_pcs(ax, pcs, bins=100):\n",
    "    #ax.set_xlim(-1, 1.5)\n",
    "    #ax.set_ylim(-1.5, 2)\n",
    "    ax.set_xlabel(\"PC1\")\n",
    "    ax.set_ylabel(\"PC2\")\n",
    "    ax.hist2d(pcs[...,0], pcs[...,1], bins=bins, #range=[[-.5,1.5], [-1.5,1]],\n",
    "              density=True, norm=mpl.colors.LogNorm())"
   ],
   "id": "b085cb807ac13278"
  },
  {
   "metadata": {},
   "cell_type": "markdown",
   "source": [
    "pca2 = PCA(n_components=2)\n",
    "\n",
    "atom_pairs = list(combinations(range(traj.n_atoms), 2))\n",
    "pairwise_distances = md.geometry.compute_distances(traj, atom_pairs)\n",
    "print(pairwise_distances.shape)\n",
    "reduced_distances = pca2.fit_transform(pairwise_distances)\n",
    "\n",
    "plt.figure()\n",
    "#plt.scatter(reduced_cartesian[:, 0], reduced_cartesian[:,1], marker='o', c=traj.time)\n",
    "plt.hist2d(reduced_cartesian[:, 0], reduced_cartesian[:,1], bins=100, density=True, norm=mpl.colors.LogNorm())\n",
    "plt.xlabel('PC1')\n",
    "plt.ylabel('PC2')\n",
    "plt.title('Cartesian coordinate PCA: 1b4z')\n",
    "cbar = plt.colorbar()\n",
    "cbar.set_label('log(Time [4 ps])')"
   ],
   "id": "24b41f4777a10160"
  },
  {
   "metadata": {},
   "cell_type": "markdown",
   "source": [
    "pca_fit_md = PCA(n_components=2)\n",
    "dihed = dihedrals(xyz)\n",
    "pca_fit_md.fit(dihed)\n",
    "dihed = pca_fit_md.transform(dihed)\n",
    "\n",
    "fig, axes = plt.subplots(figsize=(5,5))\n",
    "plot_pcs(axes, dihed)\n",
    "fig.tight_layout()\n",
    "fig.show()\n",
    "plt.savefig(f\"figures/PCA_{nb_fname}_MD_7.png\")"
   ],
   "id": "e19ecaef1b97ec23"
  },
  {
   "cell_type": "markdown",
   "id": "2e9f4706-2300-43f4-b07b-d8561b4fef62",
   "metadata": {
    "tags": []
   },
   "source": [
    "### Vacuum Trajectory"
   ]
  },
  {
   "metadata": {},
   "cell_type": "markdown",
   "source": [
    "filepath = f'/hits/basement/mcm/emmertme/Boltzmann/BG/Systems/{complex_name}/Peptides/{peptide_name}/vacuum'\n",
    "\n",
    "traj_vacuum_md = md.load_pdb(os.path.join(filepath,'out_md.pdb'))\n",
    "\n",
    "traj_vacuum_md.save(f'traj{nb_fname}_vacuum_md.h5')"
   ],
   "id": "b8faf3a18e9f1004"
  },
  {
   "metadata": {},
   "cell_type": "markdown",
   "source": [
    "traj_vacuum_md=md.load_hdf5(f'traj{nb_fname}_vacuum_md.h5')\n",
    "\n",
    "traj_KLL_no_GB=md.load_hdf5(f\"bg_traj_KLL_no_GB_{nb_fname}.h5\")"
   ],
   "id": "7730638497ff1826"
  },
  {
   "metadata": {},
   "cell_type": "markdown",
   "source": [
    "#First run the dihedrals function\n",
    "pca = PCA(n_components=2)\n",
    "dihed = dihedrals(traj_vacuum_md.xyz)\n",
    "pca.fit(dihed)\n",
    "dihed = pca.transform(dihed)\n",
    "\n",
    "fig, axes = plt.subplots(figsize=(5,5))\n",
    "plot_pcs(axes, dihed)\n",
    "fig.tight_layout()\n",
    "fig.show()\n",
    "plt.savefig(f\"figures/PCA_{nb_fname}_vacuum_MD.png\")\n",
    "\n",
    "#First run the dihedrals function\n",
    "\n",
    "dihed = dihedrals(traj_KLL_no_GB.xyz)\n",
    "dihed = pca.transform(dihed)\n",
    "\n",
    "fig, axes = plt.subplots(figsize=(5,5))\n",
    "plot_pcs(axes, dihed)\n",
    "fig.tight_layout()\n",
    "fig.show()\n",
    "plt.savefig(f\"figures/PCA_{nb_fname}_vacuum_BG.png\")"
   ],
   "id": "d960385a5e3c729b"
  },
  {
   "cell_type": "markdown",
   "id": "069b7e6e-6f6c-4166-be63-2d523b57ace6",
   "metadata": {},
   "source": [
    "# Prepare Data"
   ]
  },
  {
   "cell_type": "markdown",
   "id": "db0a4cde-b315-4778-b630-f292d50e7c13",
   "metadata": {},
   "source": [
    "## Create Z-Matrix and assign (non-)gaussian torsions"
   ]
  },
  {
   "cell_type": "code",
   "id": "05cdf10b-51fe-4d39-ab3c-f00f84a06b46",
   "metadata": {
    "ExecuteTime": {
     "end_time": "2024-07-16T14:55:22.782411Z",
     "start_time": "2024-07-16T14:55:13.743996Z"
    }
   },
   "source": [
    "zfactory = ZMatrixFactory(system.mdtraj_topology)\n",
    "\n",
    "z_matrix, fixed_atoms = zfactory.build_with_templates()\n",
    "#wird fuer die transformation von internen koordinaten (ICs) in kartesische Koordinaten  gebraucht.\n",
    "#in jeder reihe: plaziere atom 1 besierend auf den kartesischen koordinaten der atome 2,3,4, sowie den ICs\n",
    "\n",
    "FOLD_METHYL = False\n",
    "\n",
    "#set if torsion is gaussian and if has to be shifted\n",
    "with torch.no_grad():\n",
    "    coordinate_transform = bg.GlobalInternalCoordinateTransformation(z_matrix)\n",
    "    torsions_values = assert_numpy(coordinate_transform.forward(training_data)[2])#[:50_000]\n",
    "    is_methyl = bgmol.is_methyl_torsion(z_matrix, system.mdtraj_topology)\n",
    "    if FOLD_METHYL:\n",
    "        #set methyl groups. these are also trivial, but some are too uniform to be modelled as truncated gaussian\n",
    "        torsions_values[:, is_methyl[3:]] = (torsions_values[:, is_methyl[3:]] % (1/3)) *3 #fold the methyls\n",
    "    n_torsions = torsions_values.shape[-1]\n",
    "\n",
    "\n",
    "with warnings.catch_warnings():\n",
    "    warnings.filterwarnings('ignore', message='p-value may not be accurate for N > 5000.')\n",
    "    is_gaussian = np.full(n_torsions, False)\n",
    "    is_tobe_shifted = np.full(n_torsions, False)\n",
    "    for t in range(n_torsions):\n",
    "        pvalue = shapiro(torsions_values[:,t])[1]\n",
    "        print(t, pvalue)\n",
    "        if pvalue > 1e-30:\n",
    "            is_gaussian[t] = True\n",
    "        else:\n",
    "            pvalue = shapiro((torsions_values[:,t]+0.5)%1)[1]\n",
    "            print(\"shifted\", pvalue)\n",
    "            if pvalue > 1e-30:\n",
    "                is_tobe_shifted[t] = True\n",
    "\n",
    "is_gaussian = np.append(np.full(3, False), is_gaussian) #add first three anchor points\n",
    "is_tobe_shifted = np.append(np.full(3, False), is_tobe_shifted) #add first three anchor points\n",
    "is_trivial = is_gaussian + is_tobe_shifted\n",
    "n_trivialt = (is_trivial).sum()\n",
    "\n",
    "if FOLD_METHYL:\n",
    "    print('Tot methyl:', is_methyl.sum(), 'of which', np.logical_and(is_trivial, is_methyl).sum(), 'are gaussian')\n",
    "print('Tot Gaussian:', is_gaussian.sum())\n",
    "print('Tot Gaussian-if-shifted:', is_tobe_shifted.sum())\n",
    "print('Tot trivial torsions:', n_trivialt)\n",
    "z_matrix = np.vstack((z_matrix[~is_trivial], z_matrix[is_gaussian], z_matrix[is_tobe_shifted]))"
   ],
   "outputs": [
    {
     "name": "stderr",
     "output_type": "stream",
     "text": [
      "/home/kortkamp/mambaforge/envs/lightning_bg/lib/python3.10/site-packages/scipy/stats/_axis_nan_policy.py:531: scipy.stats.shapiro: For N > 5000, computed p-value may not be accurate. Current N is 500000.\n"
     ]
    },
    {
     "name": "stdout",
     "output_type": "stream",
     "text": [
      "0 3.0203887579930988e-151\n",
      "shifted 7.99624742367205e-171\n",
      "1 8.478278283962811e-157\n",
      "shifted 1.7111801552026854e-150\n",
      "2 1.1548358670459532e-184\n",
      "shifted 0.001584024778826204\n",
      "3 3.3498393228295964e-05\n",
      "4 8.868329276192916e-186\n",
      "shifted 0.9793550604002239\n",
      "5 7.541516089994893e-128\n",
      "shifted 8.048184627993202e-121\n",
      "6 2.1804370518085654e-25\n",
      "7 4.420144217921251e-28\n",
      "8 8.75778806448473e-57\n",
      "shifted 8.757849161489702e-57\n",
      "9 4.492670153279877e-186\n",
      "shifted 0.11491616865379789\n",
      "10 8.577832457835535e-15\n",
      "11 2.8368149394567877e-184\n",
      "shifted 2.4407027824794603e-11\n",
      "12 2.952822362821871e-135\n",
      "shifted 1.0895784190198576e-150\n",
      "13 2.177718016800942e-26\n",
      "14 1.2288301109568176e-27\n",
      "15 2.481310534690452e-184\n",
      "shifted 1.07355374300609e-09\n",
      "16 1.921153513106726e-119\n",
      "shifted 2.8220633676168776e-123\n",
      "17 3.8751641794298675e-27\n",
      "18 3.5184168178661505e-29\n",
      "Tot Gaussian: 8\n",
      "Tot Gaussian-if-shifted: 5\n",
      "Tot trivial torsions: 13\n"
     ]
    }
   ],
   "execution_count": 30
  },
  {
   "metadata": {
    "ExecuteTime": {
     "end_time": "2024-07-16T14:57:35.110978Z",
     "start_time": "2024-07-16T14:57:35.038283Z"
    }
   },
   "cell_type": "code",
   "source": "n_torsions",
   "id": "91e3d4d96cfb4d4e",
   "outputs": [
    {
     "data": {
      "text/plain": [
       "19"
      ]
     },
     "execution_count": 33,
     "metadata": {},
     "output_type": "execute_result"
    }
   ],
   "execution_count": 33
  },
  {
   "metadata": {
    "ExecuteTime": {
     "end_time": "2024-07-16T13:10:53.291825Z",
     "start_time": "2024-07-16T13:10:47.591375Z"
    }
   },
   "cell_type": "code",
   "source": [
    "fig, ax = plt.subplots(4,5, figsize=(20,16))\n",
    "for i in range(4):\n",
    "    for j in range(5):\n",
    "        if 5*i+j >= n_torsions:\n",
    "            break\n",
    "        if is_methyl[5*i+j+3]:\n",
    "            c = \"orange\"            \n",
    "        if is_gaussian[5*i+j+3]:\n",
    "            c = \"red\"\n",
    "        elif is_tobe_shifted[5*i+j+3]:\n",
    "            c = \"green\"\n",
    "        else:\n",
    "            c = \"blue\"\n",
    "        ax[i,j].hist(torsions_values[:,5*i+j], bins=100, range=(0,1), density=True, color=c)\n",
    "        ax[i,j].set_xlim(0,1)"
   ],
   "id": "4d0a5f0c11d1e299",
   "outputs": [
    {
     "data": {
      "text/plain": [
       "<Figure size 2000x1600 with 20 Axes>"
      ],
      "image/png": "[encoded data removed]"
     },
     "metadata": {},
     "output_type": "display_data"
    }
   ],
   "execution_count": 20
  },
  {
   "cell_type": "markdown",
   "id": "6143a51e-681f-4920-96a3-4457e570e88c",
   "metadata": {},
   "source": [
    "## Flow to shift gaussian to uniform distribution"
   ]
  },
  {
   "cell_type": "code",
   "id": "1c3f6075-2067-4798-b256-d4c7fe7cb51b",
   "metadata": {
    "ExecuteTime": {
     "end_time": "2024-07-16T13:10:53.337775Z",
     "start_time": "2024-07-16T13:10:53.293464Z"
    }
   },
   "source": [
    "def _assert_in_unit_interval(x):\n",
    "    if (x > 1 + 1e-6).any() or (x < - 1e-6).any():\n",
    "        raise ValueError(f'IncreaseMultiplicityFlow operates on [0,1] but input was {x}')\n",
    "\n",
    "class CircularShiftFlow(Flow):\n",
    "    \"\"\"A flow that shifts the position of torsional degrees of freedom.\n",
    "    The input and output tensors are expected to be in [0,1].\n",
    "    The output is a translated version of the input, respecting circulariry.\n",
    "    Parameters\n",
    "    ----------\n",
    "    shift : Union[torch.Tensor, float]\n",
    "        A tensor that defines the translation of the circular interval\n",
    "    \"\"\"\n",
    "\n",
    "    def __init__(self, shift):\n",
    "        super().__init__()\n",
    "        self.register_buffer(\"_shift\", torch.as_tensor(shift))\n",
    "\n",
    "    def _forward(self, x, **kwargs):\n",
    "        _assert_in_unit_interval(x)\n",
    "        y = (x + self._shift) % 1\n",
    "        dlogp = torch.zeros_like(x[..., [0]])\n",
    "        return y, dlogp\n",
    "\n",
    "    def _inverse(self, x, **kwargs):\n",
    "        _assert_in_unit_interval(x)\n",
    "        y = (x - self._shift) % 1\n",
    "        dlogp = torch.zeros_like(x[..., [0]])\n",
    "        return y, dlogp"
   ],
   "outputs": [],
   "execution_count": 21
  },
  {
   "cell_type": "markdown",
   "id": "c1756422-472f-4a8b-98d1-3f97d429d5d3",
   "metadata": {},
   "source": [
    "## Coordinate Transformation"
   ]
  },
  {
   "cell_type": "code",
   "id": "52c76b24-a4ef-49f3-98a9-763837ecbd9c",
   "metadata": {
    "ExecuteTime": {
     "end_time": "2024-07-16T13:10:58.637103Z",
     "start_time": "2024-07-16T13:10:53.339088Z"
    }
   },
   "source": [
    "ic = bg.GlobalInternalCoordinateTransformation(z_matrix) #internal coordinates\n",
    "\n",
    "coordinate_transform = ic.to(**ctx)\n",
    "constrained_indices, constrained_lengths = bgmol.bond_constraints(\n",
    "    system.system,\n",
    "    coordinate_transform\n",
    ")\n",
    "shape_info = ShapeDictionary.from_coordinate_transform(\n",
    "    coordinate_transform,\n",
    "    n_constraints=system.system.getNumConstraints()\n",
    ")\n",
    "\n",
    "torsions_shift = torch.zeros(n_torsions).to(**ctx)\n",
    "torsions_shift[-is_tobe_shifted.sum():] = 0.5  #those to be shifted where placed at the end\n",
    "\n",
    "prepareTorsions = CircularShiftFlow(torsions_shift)\n",
    "\n",
    "#build marginal for trivial torsions\n",
    "with torch.no_grad():\n",
    "    torsions_values = coordinate_transform.forward(training_data)[2]\n",
    "    trivial_torsions_values = prepareTorsions(torsions_values)[0][:,-n_trivialt:]\n",
    "        \n",
    "trivial_torsions_marginal = bg.TruncatedNormalDistribution(\n",
    "    mu=trivial_torsions_values.mean(axis=0),\n",
    "    sigma=trivial_torsions_values.std(axis=0),\n",
    "    lower_bound=torch.tensor(0),\n",
    "    upper_bound=torch.tensor(1)\n",
    ").to(**ctx)\n",
    "with torch.no_grad():\n",
    "    print(trivial_torsions_marginal.sample(1).shape)\n",
    "\n",
    "    \n",
    "\n",
    "#md_data = torch.as_tensor(traj.xyz.reshape(-1,3*len(list(system.topology.atoms()))))\n",
    "#bonds, angles, torsions, origin, rotation, dlogp = ic.forward(md_data)\n",
    "\n",
    "\n",
    "\n",
    "NONTRIVIAL_TORSIONS = bg.TensorInfo(name='NONTRIVIAL_TORSIONS', is_circular=True)\n",
    "TRIVIAL_TORSIONS = bg.TensorInfo(name='TRIVIAL_TORSIONS', is_circular=True)\n",
    "\n",
    "shape_info.split(\n",
    "    TORSIONS,\n",
    "    into=(NONTRIVIAL_TORSIONS, TRIVIAL_TORSIONS),\n",
    "    sizes=(n_torsions-n_trivialt, n_trivialt)\n",
    ")\n",
    "\n",
    "print(shape_info) #die shape info sagt dir, wie der latent space des BG aussehen soll. ( how many dimensions, circular or not.)"
   ],
   "outputs": [
    {
     "name": "stdout",
     "output_type": "stream",
     "text": [
      "torch.Size([1, 13])\n",
      "ShapeDictionary([(TensorInfo(name='BONDS', is_circular=False, is_cartesian=False), (9,)), (TensorInfo(name='ANGLES', is_circular=False, is_cartesian=False), (20,)), (TensorInfo(name='NONTRIVIAL_TORSIONS', is_circular=True, is_cartesian=False), (6,)), (TensorInfo(name='TRIVIAL_TORSIONS', is_circular=True, is_cartesian=False), (13,))])\n"
     ]
    }
   ],
   "execution_count": 22
  },
  {
   "cell_type": "code",
   "id": "605a088f-4d29-4c70-a326-e9f386369894",
   "metadata": {
    "scrolled": true,
    "tags": [],
    "ExecuteTime": {
     "end_time": "2024-07-16T13:10:58.681702Z",
     "start_time": "2024-07-16T13:10:58.638332Z"
    }
   },
   "source": [
    "z_matrix"
   ],
   "outputs": [
    {
     "data": {
      "text/plain": [
       "array([[ 4, -1, -1, -1],\n",
       "       [ 6,  4, -1, -1],\n",
       "       [ 8,  6,  4, -1],\n",
       "       [14,  8,  6,  4],\n",
       "       [16, 14,  8,  6],\n",
       "       [ 0,  1,  4,  5],\n",
       "       [10,  8, 14,  6],\n",
       "       [11, 10,  8,  6],\n",
       "       [19, 18, 16, 14],\n",
       "       [ 5,  4,  6,  8],\n",
       "       [ 2,  1,  4,  0],\n",
       "       [ 3,  1,  4,  0],\n",
       "       [ 9,  8,  6, 14],\n",
       "       [12, 10,  8, 11],\n",
       "       [13, 10,  8, 11],\n",
       "       [20, 18, 16, 19],\n",
       "       [21, 18, 16, 19],\n",
       "       [18, 16, 14,  8],\n",
       "       [ 1,  4,  6,  5],\n",
       "       [15, 14,  8, 16],\n",
       "       [ 7,  6,  8,  4],\n",
       "       [17, 16, 14, 18]])"
      ]
     },
     "execution_count": 23,
     "metadata": {},
     "output_type": "execute_result"
    }
   ],
   "execution_count": 23
  },
  {
   "cell_type": "code",
   "id": "52a6286c-e91c-49e2-b3fc-6baf1f87f0fd",
   "metadata": {
    "ExecuteTime": {
     "end_time": "2024-07-16T13:10:58.733228Z",
     "start_time": "2024-07-16T13:10:58.684902Z"
    }
   },
   "source": [
    "#z_translated = np.empty([59])\n",
    "z_t = []\n",
    "for row in z_matrix:\n",
    "    row_translated = []\n",
    "    for entry in row:\n",
    "        row_translated.append(list(topology.atoms())[entry])\n",
    "    z_t.append(row_translated)\n",
    "z_t = np.array(z_t)"
   ],
   "outputs": [],
   "execution_count": 24
  },
  {
   "cell_type": "code",
   "id": "4fa0ec37-6b67-4110-9e48-6435f4de77af",
   "metadata": {
    "scrolled": true,
    "tags": [],
    "ExecuteTime": {
     "end_time": "2024-07-16T13:10:58.785281Z",
     "start_time": "2024-07-16T13:10:58.735093Z"
    }
   },
   "source": [
    "z_t"
   ],
   "outputs": [
    {
     "data": {
      "text/plain": [
       "array([[<Atom 4 (C) of chain 0 residue 0 (ACE)>,\n",
       "        <Atom 21 (H3) of chain 0 residue 2 (NME)>,\n",
       "        <Atom 21 (H3) of chain 0 residue 2 (NME)>,\n",
       "        <Atom 21 (H3) of chain 0 residue 2 (NME)>],\n",
       "       [<Atom 6 (N) of chain 0 residue 1 (ALA)>,\n",
       "        <Atom 4 (C) of chain 0 residue 0 (ACE)>,\n",
       "        <Atom 21 (H3) of chain 0 residue 2 (NME)>,\n",
       "        <Atom 21 (H3) of chain 0 residue 2 (NME)>],\n",
       "       [<Atom 8 (CA) of chain 0 residue 1 (ALA)>,\n",
       "        <Atom 6 (N) of chain 0 residue 1 (ALA)>,\n",
       "        <Atom 4 (C) of chain 0 residue 0 (ACE)>,\n",
       "        <Atom 21 (H3) of chain 0 residue 2 (NME)>],\n",
       "       [<Atom 14 (C) of chain 0 residue 1 (ALA)>,\n",
       "        <Atom 8 (CA) of chain 0 residue 1 (ALA)>,\n",
       "        <Atom 6 (N) of chain 0 residue 1 (ALA)>,\n",
       "        <Atom 4 (C) of chain 0 residue 0 (ACE)>],\n",
       "       [<Atom 16 (N) of chain 0 residue 2 (NME)>,\n",
       "        <Atom 14 (C) of chain 0 residue 1 (ALA)>,\n",
       "        <Atom 8 (CA) of chain 0 residue 1 (ALA)>,\n",
       "        <Atom 6 (N) of chain 0 residue 1 (ALA)>],\n",
       "       [<Atom 0 (H1) of chain 0 residue 0 (ACE)>,\n",
       "        <Atom 1 (CH3) of chain 0 residue 0 (ACE)>,\n",
       "        <Atom 4 (C) of chain 0 residue 0 (ACE)>,\n",
       "        <Atom 5 (O) of chain 0 residue 0 (ACE)>],\n",
       "       [<Atom 10 (CB) of chain 0 residue 1 (ALA)>,\n",
       "        <Atom 8 (CA) of chain 0 residue 1 (ALA)>,\n",
       "        <Atom 14 (C) of chain 0 residue 1 (ALA)>,\n",
       "        <Atom 6 (N) of chain 0 residue 1 (ALA)>],\n",
       "       [<Atom 11 (HB1) of chain 0 residue 1 (ALA)>,\n",
       "        <Atom 10 (CB) of chain 0 residue 1 (ALA)>,\n",
       "        <Atom 8 (CA) of chain 0 residue 1 (ALA)>,\n",
       "        <Atom 6 (N) of chain 0 residue 1 (ALA)>],\n",
       "       [<Atom 19 (H1) of chain 0 residue 2 (NME)>,\n",
       "        <Atom 18 (C) of chain 0 residue 2 (NME)>,\n",
       "        <Atom 16 (N) of chain 0 residue 2 (NME)>,\n",
       "        <Atom 14 (C) of chain 0 residue 1 (ALA)>],\n",
       "       [<Atom 5 (O) of chain 0 residue 0 (ACE)>,\n",
       "        <Atom 4 (C) of chain 0 residue 0 (ACE)>,\n",
       "        <Atom 6 (N) of chain 0 residue 1 (ALA)>,\n",
       "        <Atom 8 (CA) of chain 0 residue 1 (ALA)>],\n",
       "       [<Atom 2 (H2) of chain 0 residue 0 (ACE)>,\n",
       "        <Atom 1 (CH3) of chain 0 residue 0 (ACE)>,\n",
       "        <Atom 4 (C) of chain 0 residue 0 (ACE)>,\n",
       "        <Atom 0 (H1) of chain 0 residue 0 (ACE)>],\n",
       "       [<Atom 3 (H3) of chain 0 residue 0 (ACE)>,\n",
       "        <Atom 1 (CH3) of chain 0 residue 0 (ACE)>,\n",
       "        <Atom 4 (C) of chain 0 residue 0 (ACE)>,\n",
       "        <Atom 0 (H1) of chain 0 residue 0 (ACE)>],\n",
       "       [<Atom 9 (HA) of chain 0 residue 1 (ALA)>,\n",
       "        <Atom 8 (CA) of chain 0 residue 1 (ALA)>,\n",
       "        <Atom 6 (N) of chain 0 residue 1 (ALA)>,\n",
       "        <Atom 14 (C) of chain 0 residue 1 (ALA)>],\n",
       "       [<Atom 12 (HB2) of chain 0 residue 1 (ALA)>,\n",
       "        <Atom 10 (CB) of chain 0 residue 1 (ALA)>,\n",
       "        <Atom 8 (CA) of chain 0 residue 1 (ALA)>,\n",
       "        <Atom 11 (HB1) of chain 0 residue 1 (ALA)>],\n",
       "       [<Atom 13 (HB3) of chain 0 residue 1 (ALA)>,\n",
       "        <Atom 10 (CB) of chain 0 residue 1 (ALA)>,\n",
       "        <Atom 8 (CA) of chain 0 residue 1 (ALA)>,\n",
       "        <Atom 11 (HB1) of chain 0 residue 1 (ALA)>],\n",
       "       [<Atom 20 (H2) of chain 0 residue 2 (NME)>,\n",
       "        <Atom 18 (C) of chain 0 residue 2 (NME)>,\n",
       "        <Atom 16 (N) of chain 0 residue 2 (NME)>,\n",
       "        <Atom 19 (H1) of chain 0 residue 2 (NME)>],\n",
       "       [<Atom 21 (H3) of chain 0 residue 2 (NME)>,\n",
       "        <Atom 18 (C) of chain 0 residue 2 (NME)>,\n",
       "        <Atom 16 (N) of chain 0 residue 2 (NME)>,\n",
       "        <Atom 19 (H1) of chain 0 residue 2 (NME)>],\n",
       "       [<Atom 18 (C) of chain 0 residue 2 (NME)>,\n",
       "        <Atom 16 (N) of chain 0 residue 2 (NME)>,\n",
       "        <Atom 14 (C) of chain 0 residue 1 (ALA)>,\n",
       "        <Atom 8 (CA) of chain 0 residue 1 (ALA)>],\n",
       "       [<Atom 1 (CH3) of chain 0 residue 0 (ACE)>,\n",
       "        <Atom 4 (C) of chain 0 residue 0 (ACE)>,\n",
       "        <Atom 6 (N) of chain 0 residue 1 (ALA)>,\n",
       "        <Atom 5 (O) of chain 0 residue 0 (ACE)>],\n",
       "       [<Atom 15 (O) of chain 0 residue 1 (ALA)>,\n",
       "        <Atom 14 (C) of chain 0 residue 1 (ALA)>,\n",
       "        <Atom 8 (CA) of chain 0 residue 1 (ALA)>,\n",
       "        <Atom 16 (N) of chain 0 residue 2 (NME)>],\n",
       "       [<Atom 7 (H) of chain 0 residue 1 (ALA)>,\n",
       "        <Atom 6 (N) of chain 0 residue 1 (ALA)>,\n",
       "        <Atom 8 (CA) of chain 0 residue 1 (ALA)>,\n",
       "        <Atom 4 (C) of chain 0 residue 0 (ACE)>],\n",
       "       [<Atom 17 (H) of chain 0 residue 2 (NME)>,\n",
       "        <Atom 16 (N) of chain 0 residue 2 (NME)>,\n",
       "        <Atom 14 (C) of chain 0 residue 1 (ALA)>,\n",
       "        <Atom 18 (C) of chain 0 residue 2 (NME)>]], dtype=object)"
      ]
     },
     "execution_count": 25,
     "metadata": {},
     "output_type": "execute_result"
    }
   ],
   "execution_count": 25
  },
  {
   "cell_type": "code",
   "id": "8c31408b-8d1d-4225-9ef1-9ed279bdd1c8",
   "metadata": {
    "scrolled": true,
    "tags": [],
    "ExecuteTime": {
     "end_time": "2024-07-16T13:10:58.836441Z",
     "start_time": "2024-07-16T13:10:58.786489Z"
    }
   },
   "source": "list(topology.atoms())",
   "outputs": [
    {
     "data": {
      "text/plain": [
       "[<Atom 0 (H1) of chain 0 residue 0 (ACE)>,\n",
       " <Atom 1 (CH3) of chain 0 residue 0 (ACE)>,\n",
       " <Atom 2 (H2) of chain 0 residue 0 (ACE)>,\n",
       " <Atom 3 (H3) of chain 0 residue 0 (ACE)>,\n",
       " <Atom 4 (C) of chain 0 residue 0 (ACE)>,\n",
       " <Atom 5 (O) of chain 0 residue 0 (ACE)>,\n",
       " <Atom 6 (N) of chain 0 residue 1 (ALA)>,\n",
       " <Atom 7 (H) of chain 0 residue 1 (ALA)>,\n",
       " <Atom 8 (CA) of chain 0 residue 1 (ALA)>,\n",
       " <Atom 9 (HA) of chain 0 residue 1 (ALA)>,\n",
       " <Atom 10 (CB) of chain 0 residue 1 (ALA)>,\n",
       " <Atom 11 (HB1) of chain 0 residue 1 (ALA)>,\n",
       " <Atom 12 (HB2) of chain 0 residue 1 (ALA)>,\n",
       " <Atom 13 (HB3) of chain 0 residue 1 (ALA)>,\n",
       " <Atom 14 (C) of chain 0 residue 1 (ALA)>,\n",
       " <Atom 15 (O) of chain 0 residue 1 (ALA)>,\n",
       " <Atom 16 (N) of chain 0 residue 2 (NME)>,\n",
       " <Atom 17 (H) of chain 0 residue 2 (NME)>,\n",
       " <Atom 18 (C) of chain 0 residue 2 (NME)>,\n",
       " <Atom 19 (H1) of chain 0 residue 2 (NME)>,\n",
       " <Atom 20 (H2) of chain 0 residue 2 (NME)>,\n",
       " <Atom 21 (H3) of chain 0 residue 2 (NME)>]"
      ]
     },
     "execution_count": 26,
     "metadata": {},
     "output_type": "execute_result"
    }
   ],
   "execution_count": 26
  },
  {
   "cell_type": "markdown",
   "id": "9f626ec2-1885-482d-83e1-e4d2f5ff4d2d",
   "metadata": {},
   "source": [
    "# Investigate Structure"
   ]
  },
  {
   "cell_type": "markdown",
   "id": "bc19b68f-6a9b-40fd-9ddf-a7e2cb3d1884",
   "metadata": {
    "tags": []
   },
   "source": [
    "# Calculate Distances between interesting atoms and compare"
   ]
  },
  {
   "cell_type": "markdown",
   "id": "8a059b84-bb21-42b3-b182-c1ae2ea8dfd7",
   "metadata": {},
   "source": [
    "The following 3 atom pairs either show interactions (LYS3-O and LYS1-NZ; ASP2-OD2 and LYS1-NZ) or are relevant to investigate the overall structure of the samples (LYS3-NZ and LYS1-NZ) as they both are on opposite ends of the peptide, and therefore show how stretched it is."
   ]
  },
  {
   "cell_type": "code",
   "id": "1118511a-9427-4d37-ac2d-f4b6ce35cf74",
   "metadata": {
    "ExecuteTime": {
     "end_time": "2024-07-16T13:10:58.879485Z",
     "start_time": "2024-07-16T13:10:58.837598Z"
    }
   },
   "source": [
    "#calculate distances between two specific atoms for each frame\n",
    "def dist_atoms(traj, atom1, atom2):\n",
    "    distances = []\n",
    "    for frame in range(0,traj.n_frames):\n",
    "        xyz = traj.xyz\n",
    "        a = xyz[frame,atom1,:] #np.ndarray, shape=(n_frames, n_atoms, 3)\n",
    "        b = xyz[frame,atom2,:]\n",
    "        dist = np.linalg.norm(a-b)*10\n",
    "        distances.append(dist)\n",
    "    distances = np.array(distances)\n",
    "\n",
    "    #mean = np.mean(distances)\n",
    "    #std = np.std(distances)\n",
    "    return distances #mean, std"
   ],
   "outputs": [],
   "execution_count": 27
  },
  {
   "cell_type": "code",
   "id": "aa15a75a-ece6-4a3e-ba62-f3edfb5141dd",
   "metadata": {
    "ExecuteTime": {
     "end_time": "2024-07-16T13:10:58.966890Z",
     "start_time": "2024-07-16T13:10:58.880689Z"
    }
   },
   "source": [
    "#Barplot\n",
    "plt.bar(range(len(dist_values)), dist_values, align='center', yerr=std_values)\n",
    "plt.xticks(range(len(dist_values)), keys)\n",
    "ax = plt.gca()\n",
    "#ax.set_ylim([-1000, 4000])\n",
    "max_y_lim = max(dist_values) + max(std_values) + 0.1\n",
    "min_y_lim = min(dist_values) - max(std_values) - 0.1\n",
    "plt.ylim(min_y_lim, max_y_lim)\n",
    "plt.ylabel('Distance LYS3-O and LYS1-NZ [Å]')\n",
    "#ax.set_yscale('symlog')\n",
    "plt.xticks(rotation=90)\n",
    "#plt.savefig(f\"figures/Dist_LYS3-O_LYS1-NZ_{nb_fname}_Comp.png\", bbox_inches=\"tight\")\n",
    "plt.show()"
   ],
   "outputs": [
    {
     "ename": "NameError",
     "evalue": "name 'dist_values' is not defined",
     "output_type": "error",
     "traceback": [
      "\u001B[0;31m---------------------------------------------------------------------------\u001B[0m",
      "\u001B[0;31mNameError\u001B[0m                                 Traceback (most recent call last)",
      "Cell \u001B[0;32mIn[28], line 2\u001B[0m\n\u001B[1;32m      1\u001B[0m \u001B[38;5;66;03m#Barplot\u001B[39;00m\n\u001B[0;32m----> 2\u001B[0m plt\u001B[38;5;241m.\u001B[39mbar(\u001B[38;5;28mrange\u001B[39m(\u001B[38;5;28mlen\u001B[39m(\u001B[43mdist_values\u001B[49m)), dist_values, align\u001B[38;5;241m=\u001B[39m\u001B[38;5;124m'\u001B[39m\u001B[38;5;124mcenter\u001B[39m\u001B[38;5;124m'\u001B[39m, yerr\u001B[38;5;241m=\u001B[39mstd_values)\n\u001B[1;32m      3\u001B[0m plt\u001B[38;5;241m.\u001B[39mxticks(\u001B[38;5;28mrange\u001B[39m(\u001B[38;5;28mlen\u001B[39m(dist_values)), keys)\n\u001B[1;32m      4\u001B[0m ax \u001B[38;5;241m=\u001B[39m plt\u001B[38;5;241m.\u001B[39mgca()\n",
      "\u001B[0;31mNameError\u001B[0m: name 'dist_values' is not defined"
     ]
    }
   ],
   "execution_count": 28
  },
  {
   "cell_type": "markdown",
   "id": "50f9a871-44fb-40d5-a1f1-7f0874cb75ab",
   "metadata": {},
   "source": [
    "## LYS3-O and LYS1-NZ (interaction)"
   ]
  },
  {
   "cell_type": "code",
   "id": "30815466-0f3e-4fd1-8302-ed660d19bc8c",
   "metadata": {},
   "source": [
    "# Calculate distance between LYS3-O and LYS1-NZ\n",
    "atom_1 = 41\n",
    "atom_2 = 20\n",
    "dist_MD_impl = dist_atoms(traj, atom_1, atom_2)\n",
    "\n",
    "dist_MD_expl = dist_atoms(expl_traj, atom_1, atom_2)\n",
    "\n",
    "dist_NLL = dist_atoms(traj_NLL, atom_1, atom_2)\n",
    "\n",
    "dist_Mixed = dist_atoms(traj_Mixed, atom_1, atom_2)\n",
    "\n",
    "dist_KLL = dist_atoms(traj_KLL, atom_1, atom_2)\n",
    "\n",
    "dist_KLL_no_GB = dist_atoms(traj_KLL_no_GB, atom_1, atom_2)\n",
    "\n",
    "keys = [\"o\", \"MD - implicit\", \"MD - explicit\", \"NLL\", \"Mixed\", \"KLL\", \"KLL (no GB)\"]\n",
    "\n",
    "dist_values = [dist_MD_impl, dist_MD_expl, dist_NLL, dist_Mixed, dist_KLL, dist_KLL_no_GB]\n",
    "\n",
    "\n",
    "# Plot in Boxplot\n",
    "fig = plt.figure()\n",
    " \n",
    "# Creating axes instance\n",
    "ax = fig.add_axes([0, 0, 1, 1])\n",
    "ax.set_xticklabels(keys)\n",
    " \n",
    "# Creating plot\n",
    "bp = ax.violinplot(dist_values, showmedians=True, showextrema=True, quantiles=[(0.25, 0.75), (0.25, 0.75), (0.25, 0.75), (0.25, 0.75), (0.25, 0.75),(0.25, 0.75)])\n",
    "\n",
    "plt.xticks(rotation=90)\n",
    "plt.ylabel('Distance LYS3-O and LYS1-NZ [Å]')\n",
    "\n",
    "plt.savefig(f\"figures/Dist_LYS3-O_LYS1-NZ_{nb_fname}_Comp.png\", bbox_inches=\"tight\")\n",
    "plt.show()\n",
    "\n",
    "#Performing a 2-sided t-test on the data\n",
    "test = scipy.stats.ttest_ind(dist_MD_impl, dist_KLL)\n",
    "print(test)"
   ],
   "outputs": [],
   "execution_count": null
  },
  {
   "cell_type": "markdown",
   "id": "3b8c3136-d190-45e5-acee-bef4d840ff2d",
   "metadata": {},
   "source": [
    "## ASP2-OD2 and LYS1-NZ (interaction)"
   ]
  },
  {
   "cell_type": "code",
   "id": "3b47db22-6363-49cb-8a0c-555f070cc553",
   "metadata": {},
   "source": [
    "# Calculate distance between ASP2-OD2 and LYS1-NZ\n",
    "atom_1 = 34\n",
    "atom_2 = 20\n",
    "dist_MD_impl = dist_atoms(traj, atom_1, atom_2)\n",
    "\n",
    "dist_MD_expl = dist_atoms(expl_traj, atom_1, atom_2)\n",
    "\n",
    "dist_NLL = dist_atoms(traj_NLL, atom_1, atom_2)\n",
    "\n",
    "dist_Mixed = dist_atoms(traj_Mixed, atom_1, atom_2)\n",
    "\n",
    "dist_KLL = dist_atoms(traj_KLL, atom_1, atom_2)\n",
    "\n",
    "dist_KLL_no_GB = dist_atoms(traj_KLL_no_GB, atom_1, atom_2)\n",
    "\n",
    "keys = [\"o\", \"MD - implicit\", \"MD - explicit\", \"NLL\", \"Mixed\", \"KLL\", \"KLL (no GB)\"]\n",
    "\n",
    "dist_values = [dist_MD_impl, dist_MD_expl, dist_NLL, dist_Mixed, dist_KLL, dist_KLL_no_GB]\n",
    "\n",
    "\n",
    "# Plot in Boxplot\n",
    "fig = plt.figure()\n",
    " \n",
    "# Creating axes instance\n",
    "ax = fig.add_axes([0, 0, 1, 1])\n",
    "ax.set_xticklabels(keys)\n",
    " \n",
    "# Creating plot\n",
    "bp = ax.violinplot(dist_values, showmedians=True, showextrema=True, quantiles=[(0.25, 0.75), (0.25, 0.75), (0.25, 0.75), (0.25, 0.75), (0.25, 0.75),(0.25, 0.75)])\n",
    "\n",
    "plt.xticks(rotation=90)\n",
    "plt.ylabel('Distance ASP2-OD2 and LYS1-NZ [Å]')\n",
    "\n",
    "plt.savefig(f\"figures/Dist_ASP2-OD2_LYS1-NZ_{nb_fname}_Comp.png\", bbox_inches=\"tight\")\n",
    "plt.show()\n",
    "\n",
    "#Performing a 2-sided t-test on the data\n",
    "test = scipy.stats.ttest_ind(dist_MD_impl, dist_KLL)\n",
    "print(test)"
   ],
   "outputs": [],
   "execution_count": null
  },
  {
   "cell_type": "markdown",
   "id": "f13410f9-cf89-42f5-9ec5-3eb9bb010c0e",
   "metadata": {},
   "source": [
    "## LYS1-NZ and LYS3-NZ (opposite ends)"
   ]
  },
  {
   "cell_type": "code",
   "id": "d541e603-8d47-4a1d-8631-0b3407d27df4",
   "metadata": {},
   "source": [
    "# Calculate distance between LYS3-NZ and LYS1-NZ\n",
    "atom_1 = 54\n",
    "atom_2 = 20\n",
    "dist_MD_impl = dist_atoms(traj, atom_1, atom_2)\n",
    "\n",
    "dist_MD_expl = dist_atoms(expl_traj, atom_1, atom_2)\n",
    "\n",
    "dist_NLL = dist_atoms(traj_NLL, atom_1, atom_2)\n",
    "\n",
    "dist_Mixed = dist_atoms(traj_Mixed, atom_1, atom_2)\n",
    "\n",
    "dist_KLL = dist_atoms(traj_KLL, atom_1, atom_2)\n",
    "\n",
    "dist_KLL_no_GB = dist_atoms(traj_KLL_no_GB, atom_1, atom_2)\n",
    "\n",
    "keys = [\"o\", \"MD - implicit\", \"MD - explicit\", \"NLL\", \"Mixed\", \"KLL\", \"KLL (no GB)\"]\n",
    "\n",
    "dist_values = [dist_MD_impl, dist_MD_expl, dist_NLL, dist_Mixed, dist_KLL, dist_KLL_no_GB]\n",
    "\n",
    "\n",
    "# Plot in Boxplot\n",
    "fig = plt.figure()\n",
    " \n",
    "# Creating axes instance\n",
    "ax = fig.add_axes([0, 0, 1, 1])\n",
    "ax.set_xticklabels(keys)\n",
    " \n",
    "# Creating plot\n",
    "bp = ax.violinplot(dist_values, showmedians=True, showextrema=True, quantiles=[(0.25, 0.75), (0.25, 0.75), (0.25, 0.75), (0.25, 0.75), (0.25, 0.75),(0.25, 0.75)])\n",
    "\n",
    "plt.xticks(rotation=90)\n",
    "plt.ylabel('Distance LYS3-NZ and LYS1-NZ [Å]')\n",
    "\n",
    "plt.savefig(f\"figures/Dist_LYS3-NZ_LYS1-NZ_{nb_fname}_Comp.png\", bbox_inches=\"tight\")\n",
    "plt.show()\n",
    "\n",
    "#Performing a 2-sided t-test on the data\n",
    "test = scipy.stats.ttest_ind(dist_MD_impl, dist_KLL)\n",
    "print(test)"
   ],
   "outputs": [],
   "execution_count": null
  },
  {
   "cell_type": "markdown",
   "id": "7a4df61a-6c68-4b85-820d-e0dd7eac56b1",
   "metadata": {
    "tags": []
   },
   "source": [
    "# Compare Torsions in a Ramachandran Plot"
   ]
  },
  {
   "cell_type": "code",
   "id": "cfcb2f96-d7ef-49ad-aaa0-710c44070173",
   "metadata": {},
   "source": [
    "#calculate distances between two specific atoms for each frame\n",
    "def dihed_torsions(traj, torsion1, torsion2):\n",
    "    dihedrals = []\n",
    "    for frame in range(0,traj.n_frames):\n",
    "        \n",
    "        diheds = md.compute_dihedrals(traj, dihedral_indices)\n",
    "        \n",
    "        dihedrals.append(dihed)\n",
    "    dihedrals = np.array(dihed)\n",
    "    \n",
    "    mean = np.mean(distances)\n",
    "    std = np.std(distances)\n",
    "    \n",
    "    return distances #mean, std"
   ],
   "outputs": [],
   "execution_count": null
  },
  {
   "cell_type": "markdown",
   "id": "b2a34162-c1b3-497c-8c4d-9f425a5cf9ec",
   "metadata": {},
   "source": [
    "## Torsion 56 [LYS3-OXT, LYS3-C, LYS3-CA, LYS3-O] and 8 [LYS3-NZ, LYS3-CE, LYS3-CD, LYS3-CG]"
   ]
  },
  {
   "cell_type": "code",
   "id": "a6111f56-f277-4ab7-8151-f7e3d2af9533",
   "metadata": {},
   "source": [
    "#MD\n",
    "R = md.compute_dihedrals(traj, [[58, 40, 38, 41],[20, 17, 14, 11]])\n",
    "R = np.degrees(R)\n",
    "\n",
    "plt.figure()\n",
    "plt.hist2d(R[:, 0], R[:,1], bins=100, density=True, norm=mpl.colors.LogNorm())\n",
    "plt.xlabel('Ψ')\n",
    "plt.ylabel('Φ')\n",
    "plt.title('Ramachandran Plot: 1b4z - MD')\n",
    "cbar = plt.colorbar()\n",
    "cbar.set_label('log(10 000 samples)')\n",
    "plt.savefig(f\"figures/Tors_56_8_{nb_fname}_MD.png\", bbox_inches=\"tight\")\n",
    "plt.show()\n",
    "\n",
    "\n",
    "#NLL\n",
    "R = md.compute_dihedrals(traj_NLL, [[58, 40, 38, 41],[20, 17, 14, 11]])\n",
    "R = np.degrees(R)\n",
    "\n",
    "plt.figure()\n",
    "plt.hist2d(R[:, 0], R[:,1], bins=100, density=True, norm=mpl.colors.LogNorm())\n",
    "plt.xlabel('Ψ')\n",
    "plt.ylabel('Φ')\n",
    "plt.title('Ramachandran Plot: 1b4z - NLL')\n",
    "cbar = plt.colorbar()\n",
    "cbar.set_label('log(10 000 samples)')\n",
    "plt.savefig(f\"figures/Tors_56_8_{nb_fname}_NLL.png\", bbox_inches=\"tight\")\n",
    "plt.show()\n",
    "\n",
    "#KLL\n",
    "R = md.compute_dihedrals(traj_KLL, [[58, 40, 38, 41],[20, 17, 14, 11]])\n",
    "R = np.degrees(R)\n",
    "\n",
    "plt.figure()\n",
    "plt.hist2d(R[:, 0], R[:,1], bins=100, density=True, norm=mpl.colors.LogNorm())\n",
    "plt.xlabel('Ψ')\n",
    "plt.ylabel('Φ')\n",
    "plt.title('Ramachandran Plot: 1b4z - KLL')\n",
    "cbar = plt.colorbar()\n",
    "cbar.set_label('log(10 000 samples)')\n",
    "plt.savefig(f\"figures/Tors_56_8_{nb_fname}_KLL.png\", bbox_inches=\"tight\")\n",
    "plt.show()\n",
    "\n",
    "\n",
    "#KLL (no GB)\n",
    "R = md.compute_dihedrals(traj_KLL_no_GB, [[58, 40, 38, 41],[20, 17, 14, 11]])\n",
    "R = np.degrees(R)\n",
    "\n",
    "plt.figure()\n",
    "plt.hist2d(R[:, 0], R[:,1], bins=100, density=True, norm=mpl.colors.LogNorm())\n",
    "plt.xlabel('Ψ')\n",
    "plt.ylabel('Φ')\n",
    "plt.title('Ramachandran Plot: 1b4z - KLL (no GB)')\n",
    "cbar = plt.colorbar()\n",
    "cbar.set_label('log(10 000 samples)')\n",
    "plt.savefig(f\"figures/Tors_56_8_{nb_fname}_KLL_no_GB.png\", bbox_inches=\"tight\")\n",
    "plt.show()"
   ],
   "outputs": [],
   "execution_count": null
  },
  {
   "cell_type": "markdown",
   "id": "76fd6d14-b1fa-459a-9e14-1fe8790db7d5",
   "metadata": {},
   "source": [
    "## Torsion [18, 17, 14, 20] and 6 [LYS1-CD, LYS1-CG, LYS1-CB, LYS1-CA]"
   ]
  },
  {
   "cell_type": "code",
   "id": "312bc351-6e46-4368-95b9-3b27f485d231",
   "metadata": {},
   "source": [
    "#MD\n",
    "R = md.compute_dihedrals(traj, [[18, 17, 14, 20],[14, 11,  8,  4]])\n",
    "R = np.degrees(R)\n",
    "\n",
    "plt.figure()\n",
    "plt.hist2d(R[:, 0], R[:,1], bins=100, density=True, norm=mpl.colors.LogNorm())\n",
    "plt.xlabel('Ψ')\n",
    "plt.ylabel('Φ')\n",
    "plt.title('Ramachandran Plot: 1b4z - MD')\n",
    "cbar = plt.colorbar()\n",
    "cbar.set_label('log(10 000 samples)')\n",
    "plt.savefig(f\"figures/Tors_56_6_{nb_fname}_MD.png\", bbox_inches=\"tight\")\n",
    "plt.show()\n",
    "\n",
    "\n",
    "#NLL\n",
    "R = md.compute_dihedrals(traj_NLL, [[18, 17, 14, 20],[14, 11,  8,  4]])\n",
    "R = np.degrees(R)\n",
    "\n",
    "plt.figure()\n",
    "plt.hist2d(R[:, 0], R[:,1], bins=100, density=True, norm=mpl.colors.LogNorm())\n",
    "plt.xlabel('Ψ')\n",
    "plt.ylabel('Φ')\n",
    "plt.title('Ramachandran Plot: 1b4z - NLL')\n",
    "cbar = plt.colorbar()\n",
    "cbar.set_label('log(10 000 samples)')\n",
    "plt.savefig(f\"figures/Tors_56_6_{nb_fname}_NLL.png\", bbox_inches=\"tight\")\n",
    "plt.show()\n",
    "\n",
    "#KLL\n",
    "R = md.compute_dihedrals(traj_KLL, [[18, 17, 14, 20],[14, 11,  8,  4]])\n",
    "R = np.degrees(R)\n",
    "\n",
    "plt.figure()\n",
    "plt.hist2d(R[:, 0], R[:,1], bins=100, density=True, norm=mpl.colors.LogNorm())\n",
    "plt.xlabel('Ψ')\n",
    "plt.ylabel('Φ')\n",
    "plt.title('Ramachandran Plot: 1b4z - KLL')\n",
    "cbar = plt.colorbar()\n",
    "cbar.set_label('log(10 000 samples)')\n",
    "plt.savefig(f\"figures/Tors_56_6_{nb_fname}_KLL.png\", bbox_inches=\"tight\")\n",
    "plt.show()\n",
    "\n",
    "\n",
    "#KLL (no GB)\n",
    "R = md.compute_dihedrals(traj_KLL_no_GB, [[18, 17, 14, 20],[14, 11,  8,  4]])\n",
    "R = np.degrees(R)\n",
    "\n",
    "plt.figure()\n",
    "plt.hist2d(R[:, 0], R[:,1], bins=100, density=True, norm=mpl.colors.LogNorm())\n",
    "plt.xlabel('Ψ')\n",
    "plt.ylabel('Φ')\n",
    "plt.title('Ramachandran Plot: 1b4z - KLL (no GB)')\n",
    "cbar = plt.colorbar()\n",
    "cbar.set_label('log(10 000 samples)')\n",
    "plt.savefig(f\"figures/Tors_56_6_{nb_fname}_KLL_no_GB.png\", bbox_inches=\"tight\")\n",
    "plt.show()"
   ],
   "outputs": [],
   "execution_count": null
  },
  {
   "cell_type": "markdown",
   "id": "12d05ae7-2adb-4b29-a7fc-25708121eb70",
   "metadata": {},
   "source": [
    "# Build the BG"
   ]
  },
  {
   "cell_type": "code",
   "id": "f7b91238-aaf4-4501-b544-288a6e928d11",
   "metadata": {
    "scrolled": true,
    "tags": [],
    "ExecuteTime": {
     "end_time": "2024-07-16T14:54:38.747965Z",
     "start_time": "2024-07-16T14:54:37.812145Z"
    }
   },
   "source": [
    "builder = BoltzmannGeneratorBuilder(shape_info, target_energy, **ctx)\n",
    "\n",
    "# first, work on torsions, as they are the hardest part\n",
    "t1, t2 = builder.add_split(\n",
    "    NONTRIVIAL_TORSIONS,\n",
    "    into=[\"T1\", \"T2\"],\n",
    "    sizes_or_indices=[shape_info[NONTRIVIAL_TORSIONS][0]//2,shape_info[NONTRIVIAL_TORSIONS][0] - shape_info[NONTRIVIAL_TORSIONS][0]//2],\n",
    "    #sizes_or_indices=[np.arange(0,7,2), np.arange(1,7,2)]\n",
    ")\n",
    "for i in range(6):\n",
    "    builder.add_condition(t1, on=t2,\n",
    "                          #hidden=(512,512)\n",
    "                         )\n",
    "    builder.add_condition(t2, on=t1,\n",
    "                          #hidden=(512,512)\n",
    "                         )\n",
    "builder.add_merge(\n",
    "    (t1, t2),\n",
    "    to=NONTRIVIAL_TORSIONS,\n",
    "    sizes_or_indices=[shape_info[NONTRIVIAL_TORSIONS][0]//2,shape_info[NONTRIVIAL_TORSIONS][0] - shape_info[NONTRIVIAL_TORSIONS][0]//2],\n",
    ")\n",
    "t1, t2 = builder.add_split(\n",
    "    TRIVIAL_TORSIONS,\n",
    "    into=[\"T1\", \"T2\"],\n",
    "    sizes_or_indices=[shape_info[TRIVIAL_TORSIONS][0]//2,shape_info[TRIVIAL_TORSIONS][0] - shape_info[TRIVIAL_TORSIONS][0]//2],\n",
    "    #sizes_or_indices=[np.arange(0,7,2), np.arange(1,7,2)]\n",
    ")\n",
    "for i in range(6):\n",
    "    builder.add_condition(t1, on=(t2,NONTRIVIAL_TORSIONS)\n",
    "                          #hidden=(512,512)\n",
    "                         )\n",
    "    builder.add_condition(t2, on=(t1,NONTRIVIAL_TORSIONS)\n",
    "                          #hidden=(512,512)\n",
    "                         )\n",
    "builder.add_merge(\n",
    "    (t1, t2),\n",
    "    to=TRIVIAL_TORSIONS,\n",
    "    sizes_or_indices=[shape_info[TRIVIAL_TORSIONS][0]//2,shape_info[TRIVIAL_TORSIONS][0] - shape_info[TRIVIAL_TORSIONS][0]//2],\n",
    ")\n",
    "\n",
    "\n",
    "\n",
    "# then, do angles and bonds\n",
    "a1, a2 = builder.add_split(\n",
    "    ANGLES,\n",
    "    into=[\"A1\", \"A2\"],\n",
    "    sizes_or_indices=[shape_info[ANGLES][0]//2,shape_info[ANGLES][0] - shape_info[ANGLES][0]//2],\n",
    ")\n",
    "for i in range(4):\n",
    "    builder.add_condition(a1, on=[a2, NONTRIVIAL_TORSIONS, TRIVIAL_TORSIONS],\n",
    "                          #hidden=(512,512)\n",
    "                         )\n",
    "    builder.add_condition(a2, on=[a1, NONTRIVIAL_TORSIONS, TRIVIAL_TORSIONS],\n",
    "                          #hidden=(512,512)\n",
    "                         )\n",
    "builder.add_merge(\n",
    "    (a1, a2),\n",
    "    to=ANGLES,\n",
    "    sizes_or_indices=[shape_info[ANGLES][0]//2,shape_info[ANGLES][0] - shape_info[ANGLES][0]//2],\n",
    ")\n",
    "\n",
    "b1, b2 = builder.add_split(\n",
    "    BONDS,\n",
    "    into=[\"B1\", \"B2\"],\n",
    "    sizes_or_indices=[shape_info[BONDS][0]//2,shape_info[BONDS][0] - shape_info[BONDS][0]//2],\n",
    ")\n",
    "for i in range(4):\n",
    "    builder.add_condition(b1, on=[b2, ANGLES, NONTRIVIAL_TORSIONS, TRIVIAL_TORSIONS],\n",
    "                          #hidden=(512,512)\n",
    "                         )\n",
    "    builder.add_condition(b2, on=[b1, ANGLES, NONTRIVIAL_TORSIONS, TRIVIAL_TORSIONS],\n",
    "                          #hidden=(512,512)\n",
    "                         )\n",
    "builder.add_merge(\n",
    "    (b1, b2),\n",
    "    to=BONDS,\n",
    "    sizes_or_indices=[shape_info[BONDS][0]//2,shape_info[BONDS][0] - shape_info[BONDS][0]//2],\n",
    ")\n",
    "cdfs = InternalCoordinateMarginals( #Annahmen der cumulative density function\n",
    "    builder.current_dims,\n",
    "    builder.ctx,\n",
    "    bonds=BONDS,\n",
    "    angles=ANGLES,\n",
    "    torsions=None,#TORSIONS,\n",
    "    fixed=None,\n",
    "    bond_mu=0.2,\n",
    "    bond_sigma=2.0,\n",
    "    bond_upper=1.0,\n",
    "    bond_lower=0.03,\n",
    "    #angle_mu=0.7,\n",
    "    angle_lower=0.1,\n",
    "    angle_upper=0.9\n",
    ")\n",
    "cdfs.inform_with_data(torch.tensor(xyz[:1000], **ctx).reshape(1000, -1), coordinate_transform ,\n",
    "                      constrained_bond_indices = bond_constraints(system.system, coordinate_transform)[0]) #inform_with_data updatet die Annahme mit der marginal_distribution\n",
    "\n",
    "\n",
    "cdfs[TRIVIAL_TORSIONS] = trivial_torsions_marginal\n",
    "icdf_maps = builder.add_map_to_ic_domains(cdfs, return_layers=True)\n",
    "\n",
    "builder.add_merge([NONTRIVIAL_TORSIONS, TRIVIAL_TORSIONS], to=TORSIONS)\n",
    "fmod_layer = CircularShiftFlow(torsions_shift).to(**ctx)\n",
    "builder.add_layer(fmod_layer,what=(TORSIONS, ))\n",
    "\n",
    "\n",
    "builder.add_merge_constraints(*bond_constraints(system.system, coordinate_transform))\n",
    "builder.add_map_to_cartesian(coordinate_transform)\n",
    "\n",
    "\n",
    "#generator = builder.build_generator(zero_parameters=False)\n",
    "generator = builder.build_generator()"
   ],
   "outputs": [
    {
     "name": "stderr",
     "output_type": "stream",
     "text": [
      "INFO: BG Builder  :::  (BONDS: (9,); ANGLES: (20,); NONTRIVIAL_TORSIONS: (6,); TRIVIAL_TORSIONS: (13,))\n",
      "INFO:   + Split: NONTRIVIAL_TORSIONS -> (T1, T2)\n",
      "/home/kortkamp/mambaforge/envs/lightning_bg/lib/python3.10/site-packages/bgflow/nn/flow/transformer/spline.py:80: your nflows version does not support 'enable_identity_init'.See https://github.com/bayesiains/nflows/pull/65\n",
      "INFO:   + Coupling Layer: (T2) -> (T1)\n",
      "INFO:   + Coupling Layer: (T1) -> (T2)\n",
      "INFO:   + Coupling Layer: (T2) -> (T1)\n",
      "INFO:   + Coupling Layer: (T1) -> (T2)\n",
      "INFO:   + Coupling Layer: (T2) -> (T1)\n",
      "INFO:   + Coupling Layer: (T1) -> (T2)\n",
      "INFO:   + Coupling Layer: (T2) -> (T1)\n",
      "INFO:   + Coupling Layer: (T1) -> (T2)\n",
      "INFO:   + Coupling Layer: (T2) -> (T1)\n",
      "INFO:   + Coupling Layer: (T1) -> (T2)\n",
      "INFO:   + Coupling Layer: (T2) -> (T1)\n",
      "INFO:   + Coupling Layer: (T1) -> (T2)\n",
      "INFO:   + Merge: (T1, T2) -> ['NONTRIVIAL_TORSIONS']\n",
      "INFO:   + Split: TRIVIAL_TORSIONS -> (T1, T2)\n",
      "INFO:   + Coupling Layer: (T2, NONTRIVIAL_TORSIONS) -> (T1)\n",
      "INFO:   + Coupling Layer: (T1, NONTRIVIAL_TORSIONS) -> (T2)\n",
      "INFO:   + Coupling Layer: (T2, NONTRIVIAL_TORSIONS) -> (T1)\n",
      "INFO:   + Coupling Layer: (T1, NONTRIVIAL_TORSIONS) -> (T2)\n",
      "INFO:   + Coupling Layer: (T2, NONTRIVIAL_TORSIONS) -> (T1)\n",
      "INFO:   + Coupling Layer: (T1, NONTRIVIAL_TORSIONS) -> (T2)\n",
      "INFO:   + Coupling Layer: (T2, NONTRIVIAL_TORSIONS) -> (T1)\n",
      "INFO:   + Coupling Layer: (T1, NONTRIVIAL_TORSIONS) -> (T2)\n",
      "INFO:   + Coupling Layer: (T2, NONTRIVIAL_TORSIONS) -> (T1)\n",
      "INFO:   + Coupling Layer: (T1, NONTRIVIAL_TORSIONS) -> (T2)\n",
      "INFO:   + Coupling Layer: (T2, NONTRIVIAL_TORSIONS) -> (T1)\n",
      "INFO:   + Coupling Layer: (T1, NONTRIVIAL_TORSIONS) -> (T2)\n",
      "INFO:   + Merge: (T1, T2) -> ['TRIVIAL_TORSIONS']\n",
      "INFO:   + Split: ANGLES -> (A1, A2)\n",
      "INFO:   + Coupling Layer: (A2, NONTRIVIAL_TORSIONS, TRIVIAL_TORSIONS) -> (A1)\n",
      "INFO:   + Coupling Layer: (A1, NONTRIVIAL_TORSIONS, TRIVIAL_TORSIONS) -> (A2)\n",
      "INFO:   + Coupling Layer: (A2, NONTRIVIAL_TORSIONS, TRIVIAL_TORSIONS) -> (A1)\n",
      "INFO:   + Coupling Layer: (A1, NONTRIVIAL_TORSIONS, TRIVIAL_TORSIONS) -> (A2)\n",
      "INFO:   + Coupling Layer: (A2, NONTRIVIAL_TORSIONS, TRIVIAL_TORSIONS) -> (A1)\n",
      "INFO:   + Coupling Layer: (A1, NONTRIVIAL_TORSIONS, TRIVIAL_TORSIONS) -> (A2)\n",
      "INFO:   + Coupling Layer: (A2, NONTRIVIAL_TORSIONS, TRIVIAL_TORSIONS) -> (A1)\n",
      "INFO:   + Coupling Layer: (A1, NONTRIVIAL_TORSIONS, TRIVIAL_TORSIONS) -> (A2)\n",
      "INFO:   + Merge: (A1, A2) -> ['ANGLES']\n",
      "INFO:   + Split: BONDS -> (B1, B2)\n",
      "INFO:   + Coupling Layer: (B2, ANGLES, NONTRIVIAL_TORSIONS, TRIVIAL_TORSIONS) -> (B1)\n",
      "INFO:   + Coupling Layer: (B1, ANGLES, NONTRIVIAL_TORSIONS, TRIVIAL_TORSIONS) -> (B2)\n",
      "INFO:   + Coupling Layer: (B2, ANGLES, NONTRIVIAL_TORSIONS, TRIVIAL_TORSIONS) -> (B1)\n",
      "INFO:   + Coupling Layer: (B1, ANGLES, NONTRIVIAL_TORSIONS, TRIVIAL_TORSIONS) -> (B2)\n",
      "INFO:   + Coupling Layer: (B2, ANGLES, NONTRIVIAL_TORSIONS, TRIVIAL_TORSIONS) -> (B1)\n",
      "INFO:   + Coupling Layer: (B1, ANGLES, NONTRIVIAL_TORSIONS, TRIVIAL_TORSIONS) -> (B2)\n",
      "INFO:   + Coupling Layer: (B2, ANGLES, NONTRIVIAL_TORSIONS, TRIVIAL_TORSIONS) -> (B1)\n",
      "INFO:   + Coupling Layer: (B1, ANGLES, NONTRIVIAL_TORSIONS, TRIVIAL_TORSIONS) -> (B2)\n",
      "INFO:   + Merge: (B1, B2) -> ['BONDS']\n",
      "INFO:   + Merge: (NONTRIVIAL_TORSIONS, TRIVIAL_TORSIONS) -> ['TORSIONS']\n",
      "INFO:   + Set Constant: TensorInfo(name='BONDS_constrained', is_circular=False, is_cartesian=False) at index 3\n",
      "INFO:   + Merge: (BONDS, BONDS_constrained) -> ['BONDS']\n",
      "INFO:   + Set Constant: TensorInfo(name='ORIGIN', is_circular=False, is_cartesian=True) at index 3\n",
      "INFO:   + Set Constant: TensorInfo(name='ROTATION', is_circular=False, is_cartesian=False) at index 4\n",
      "INFO: --------------- cleared builder ----------------\n"
     ]
    }
   ],
   "execution_count": 29
  },
  {
   "metadata": {},
   "cell_type": "code",
   "source": "shape_info",
   "id": "62b14e316edbc733",
   "outputs": [],
   "execution_count": null
  },
  {
   "metadata": {},
   "cell_type": "code",
   "source": "help(generator.prior)",
   "id": "a52af79d9234cc24",
   "outputs": [],
   "execution_count": null
  },
  {
   "cell_type": "code",
   "id": "0fc6a227-d291-4efd-bb38-c074eb69b287",
   "metadata": {},
   "source": [
    "print('parameters:', sum([np.prod(p.shape) for p in generator.parameters()]))\n",
    "\n",
    "generator.sample(10).shape\n",
    "generator.energy(training_data[:10,...])\n",
    "#check if it works without error"
   ],
   "outputs": [],
   "execution_count": null
  },
  {
   "cell_type": "markdown",
   "id": "7ea40b6a",
   "metadata": {},
   "source": [
    "## NLL Training"
   ]
  },
  {
   "cell_type": "code",
   "id": "02d14311-8c91-495c-8efa-33facc2a694c",
   "metadata": {},
   "source": [
    "# train using only training by Example\n",
    "\n",
    "full_nll_optimizer = torch.optim.Adam(generator.parameters(), lr=1e-4)\n",
    "full_nll_trainer = bg.KLTrainer(\n",
    "    generator, \n",
    "    optim=full_nll_optimizer,\n",
    "    train_energy=False,\n",
    "    test_likelihood = True\n",
    ")\n",
    "\n",
    "if True:\n",
    "    generator.train(True)\n",
    "    full_nll_trainer.train(\n",
    "        n_iter=2000, \n",
    "        data=training_data,\n",
    "        testdata = test_data,\n",
    "        batchsize=1024,\n",
    "        n_print=100, \n",
    "        w_energy=0.0\n",
    "    )\n",
    "    generator.train(False)"
   ],
   "outputs": [],
   "execution_count": null
  },
  {
   "cell_type": "code",
   "id": "19a5c50c-b372-49bd-82e7-161da9eee32c",
   "metadata": {},
   "source": [
    "nb_fname = ipynbname.name()\n",
    "nb_path = ipynbname.path()\n",
    "\n",
    "#torch.save(generator.state_dict(), f\"models/{nb_fname}_NLL_{peptide_name}_7.pic\")\n",
    "\n",
    "generator.load_state_dict(torch.load(f\"models/{nb_fname}_NLL_{peptide_name}_7.pic\"))"
   ],
   "outputs": [],
   "execution_count": null
  },
  {
   "cell_type": "markdown",
   "id": "cb222a96-4e86-46bb-9f87-a091d5776c0d",
   "metadata": {},
   "source": [
    "## Mixed Training"
   ]
  },
  {
   "cell_type": "code",
   "id": "f430da58-dc5e-4df3-b249-713004c27b87",
   "metadata": {},
   "source": [
    "#combined training of training by example and a little bit training by energy\n",
    "\n",
    "#we have found a way to make training by energy work better: \n",
    "#when calculating the reverse KL Diveregence ( the Training by Energy Loss), you discard the worst of the samples\n",
    "#exactly how many samples to discard is a bit hacky, it depends on how good your samples are in the first place.\n",
    "#here we train on the better 90%\n",
    "\n",
    "#hier geben die Loss-werte nicht wirklich aufschuss über den training progress. mit diesem training-procedure\n",
    "#werden die samples aber besser, wie man weiter unter sehen kann (energy plots).\n",
    "\n",
    "def quantile_truncated_energy_loss(batch_size = 32, quantile = 0.5):\n",
    "    kld = generator.kldiv(batch_size)\n",
    "    lower = kld <= kld.quantile(quantile)\n",
    "    loss = kld[lower].mean()\n",
    "    #bp()\n",
    "    return(loss)\n",
    "\n",
    "mixed_optimizer = torch.optim.Adam(generator.parameters(), lr=1e-4)\n",
    "mixed_trainer = bg.KLTrainer(\n",
    "    generator, \n",
    "    optim=mixed_optimizer,\n",
    "    train_energy=True,\n",
    "    custom_loss = quantile_truncated_energy_loss\n",
    ")\n",
    "\n",
    "loss_names = [\"KLL\", \"NLL\", \"truncated_energy_loss\"]\n",
    "\n",
    "\n",
    "mixed_trainer.reporter = bg.LossReporter(*loss_names)\n",
    "\n",
    "#mixed_trainer.reporter._n_reported = 3\n",
    "\n",
    "if True:\n",
    "    generator.train(True)\n",
    "    mixed_trainer.train(\n",
    "        n_iter=600, \n",
    "        data=training_data,\n",
    "        batchsize=32,#128\n",
    "        n_print=10, \n",
    "        w_energy=0.,\n",
    "        w_custom = 0.8,\n",
    "        w_likelihood = 0.2,\n",
    "        custom_loss_kwargs = {\"batch_size\": 32,\n",
    "                              \"quantile\": 0.9},\n",
    "        clip_forces=None\n",
    "    )\n",
    "    generator.train(False)\n"
   ],
   "outputs": [],
   "execution_count": null
  },
  {
   "cell_type": "code",
   "id": "a8ba3e85-26f4-40af-a6ce-f156b07f73db",
   "metadata": {},
   "source": [
    "nb_fname = ipynbname.name()\n",
    "nb_path = ipynbname.path()\n",
    "\n",
    "torch.save(generator.state_dict(), f\"models/{nb_fname}_Mixed_{peptide_name}_7.pic\")\n",
    "\n",
    "generator.load_state_dict(torch.load(f\"models/{nb_fname}_Mixed_{peptide_name}_7.pic\"))"
   ],
   "outputs": [],
   "execution_count": null
  },
  {
   "cell_type": "markdown",
   "id": "49fdc88d-60d9-4e23-81c9-a74f6a55e5ed",
   "metadata": {},
   "source": [
    "## KLL Training"
   ]
  },
  {
   "cell_type": "code",
   "id": "996e9038-8986-43f3-9a66-fc2b955df1b3",
   "metadata": {},
   "source": [
    "# now we drop the NLL loss completely\n",
    "\n",
    "if True:\n",
    "    generator.train(True)\n",
    "    mixed_trainer.train(\n",
    "        n_iter=3000, \n",
    "        data=training_data,\n",
    "        batchsize=32,#128\n",
    "        n_print=100, \n",
    "        w_energy=0.,\n",
    "        w_custom = 0.8,\n",
    "        w_likelihood = 0,\n",
    "        custom_loss_kwargs = {\"batch_size\": 32,\n",
    "                              \"quantile\": 0.9},\n",
    "        clip_forces=None\n",
    "    )\n",
    "    generator.train(False)\n"
   ],
   "outputs": [],
   "execution_count": null
  },
  {
   "cell_type": "code",
   "id": "700f28c3-58ae-4379-9015-667645848aaf",
   "metadata": {},
   "source": [
    "nb_fname = ipynbname.name()\n",
    "nb_path = ipynbname.path()\n",
    "\n",
    "torch.save(generator.state_dict(), f\"models/{nb_fname}_KLL_{peptide_name}_7.pic\")\n",
    "\n",
    "generator.load_state_dict(torch.load(f\"models/{nb_fname}_KLL_{peptide_name}_7.pic\"))"
   ],
   "outputs": [],
   "execution_count": null
  },
  {
   "cell_type": "markdown",
   "id": "48e626e2-a0e9-40e9-ad8f-8927e09d0cec",
   "metadata": {},
   "source": [
    "## KLL (no GB)"
   ]
  },
  {
   "cell_type": "code",
   "id": "736359de-905b-4b10-bb6b-d024d47cac10",
   "metadata": {},
   "source": [
    "### nach diesem training haben wir schöne energies, aber beim genauen hinsehen merken wir,\n",
    "### dass die nonbonded energies immer noch nicht so super sind, das wird lediglich durch den GB-Term kompensiert (implicit solvent)\n",
    "\n",
    "### wir versuchen mal, die nonbonded terms weiter zu optimieren:\n",
    "#dazu nehmen wir den GB-Term aus der Energiefunktion heraus\n",
    "\n",
    "#limiting the values that the energy can reach makes training more stable.\n",
    "CutTarget = LinLogCutEnergy(target_energy)\n",
    "\n",
    "generator._target = CutTarget\n",
    "\n",
    "generator._target.delegate._bridge.context_wrapper._system.getForces()\n",
    "#GB_force = generator._target.delegate._bridge.context_wrapper._system.getForce(4)\n",
    "generator._target.delegate._bridge.context_wrapper._system.removeForce(4)"
   ],
   "outputs": [],
   "execution_count": null
  },
  {
   "cell_type": "code",
   "id": "2ae868ca-1a04-40fb-843d-6270fdad4a92",
   "metadata": {},
   "source": [
    "mixed_optimizer = torch.optim.Adam(generator.parameters(), lr=1e-4)\n",
    "mixed_trainer = bg.KLTrainer(\n",
    "    generator, \n",
    "    optim=mixed_optimizer,\n",
    "    train_energy=True,\n",
    "    custom_loss = quantile_truncated_energy_loss\n",
    ")\n",
    "\n",
    "loss_names = [\"KLL\", \"NLL\", \"truncated_energy_loss\"]\n",
    "\n",
    "\n",
    "mixed_trainer.reporter = bg.LossReporter(*loss_names)\n",
    "\n",
    "if True:\n",
    "    generator.train(True)\n",
    "    mixed_trainer.train(\n",
    "        n_iter=3000, \n",
    "        data=training_data,\n",
    "        batchsize=32,#128\n",
    "        n_print=10, \n",
    "        w_energy=0.,\n",
    "        w_custom = 0.8,\n",
    "        w_likelihood = 0,\n",
    "        custom_loss_kwargs = {\"batch_size\": 32,\n",
    "                              \"quantile\": 0.9},\n",
    "        clip_forces=None\n",
    "    )\n",
    "    generator.train(False)\n"
   ],
   "outputs": [],
   "execution_count": null
  },
  {
   "cell_type": "code",
   "id": "24d1755e-d800-44e1-8ee6-a5fe83fcc972",
   "metadata": {},
   "source": [
    "## now for the evaluation we add the force again:\n",
    "#generator._target.delegate._bridge.context_wrapper._system.addForce(GB_force)\n",
    "#this doesnt work so we have to rebuild the generator and load the state dict\n",
    "\n",
    "nb_fname = ipynbname.name()\n",
    "nb_path = ipynbname.path()\n",
    "\n",
    "#torch.save(generator.state_dict(), f\"models/{nb_fname}_KLL_no_GB_{peptide_name}.pic\")\n",
    "generator.load_state_dict(torch.load(f\"models/{nb_fname}_KLL_no_GB_{peptide_name}.pic\"))\n",
    "#generator._target._bridge._openmm_system.getForces()#__dict__#.context_wrapper.__dict__\n",
    "\n",
    "CutTarget = LinLogCutEnergy(generator._target)\n",
    "sum([np.prod(p.shape) for p in generator.parameters()])"
   ],
   "outputs": [],
   "execution_count": null
  },
  {
   "cell_type": "markdown",
   "id": "6b4c8eb6-7010-4ad8-99e7-278f66437bcb",
   "metadata": {
    "tags": []
   },
   "source": [
    "# Evaluate"
   ]
  },
  {
   "cell_type": "code",
   "id": "5d590d6b-f092-4ad9-befb-c2e0dead0c4b",
   "metadata": {},
   "source": [
    "generator._target\n",
    "#generator._target._bridge.context_wrapper\n",
    "#generator._target._bridge.__dict__\n",
    "generator._target = system._energy_model\n",
    "\n",
    "\n",
    "for force in range(len(system.system.getForces())):\n",
    "    system.system.getForces()[force].setForceGroup(force)\n",
    "\n",
    "system.reinitialize_energy_model(temperature=300, platform_name=\"CPU\", n_workers = 1)\n",
    "target_real = system._energy_model\n",
    "\n",
    "NUM_SAMPLES = 3\n",
    "\n",
    "positions = test_data[:NUM_SAMPLES].reshape(NUM_SAMPLES, -1, 3)\n",
    "\n",
    "#target_real._bridge.context_wrapper\n",
    "#generator._target._bridge._openmm_system\n",
    "Context = target_real._bridge.context_wrapper._openmm_context\n",
    "#Context = generator._target._bridge._openmm_system\n",
    "print(Context.getPlatform().getName())\n",
    "\n",
    "p = positions[0]\n",
    "\n",
    "p=p.to('cpu').numpy()\n",
    "\n",
    "\n",
    "Context.setPositions(p)\n",
    "\n",
    "state = Context.getState(\n",
    "                    getEnergy=True,\n",
    "                    getForces=False,\n",
    "                    getPositions=False)\n",
    "UNIT = state.getPotentialEnergy().unit\n",
    "\n",
    "kbT = target_real._bridge._reduce_units\n",
    "\n",
    "\n",
    "\n",
    "print(shape_info)\n",
    "\n",
    "Context.getSystem().getForces()"
   ],
   "outputs": [],
   "execution_count": null
  },
  {
   "cell_type": "code",
   "id": "ee02ad52-6055-486f-8f28-a5fa1bd68e0d",
   "metadata": {
    "tags": []
   },
   "source": [
    "with open(f\"metrics/{nb_fname}_NLL_{peptide_name}_7.pic\", 'w+') as f:\n",
    "    with redirect_stdout(f):\n",
    "        NUM_SAMPLES = 10000\n",
    "        BATCHSIZE = 32\n",
    "        #generator_metrics(generator, valdata = valdata[:10000])\n",
    "        ## MD samples\n",
    "        \n",
    "        energies = {}\n",
    "        quants = []\n",
    "        for q in range(9):\n",
    "            quants.append(openmm.unit.quantity.Quantity(unit = UNIT))\n",
    "        #quants = [openmm.unit.quantity.Quantity(unit = UNIT)]*7\n",
    "        names = [\"Bonds\",\"Angles\",\"Torsion\",\"Nonbonded\",\"CMMremover\", \"GB\"]\n",
    "        for q,n in zip(quants,names):\n",
    "            energies[n] = q\n",
    "        \n",
    "        \n",
    "        #\n",
    "        #data_native = data[:NUM_SAMPLES]\n",
    "        #\n",
    "        #positions,_ = data_native.reshape(NUM_SAMPLES,-1,3)\n",
    "        \n",
    "        n_batches = NUM_SAMPLES//BATCHSIZE\n",
    "        #for i in range(n_batches):\n",
    "         #   positions_batch = generator.sample(1000).cpu().detach().reshape(1000,-1,3).numpy()\n",
    "         #   positions\n",
    "        \n",
    "        positions = test_data[:NUM_SAMPLES].reshape(NUM_SAMPLES,-1,3)\n",
    "        \n",
    "        for p in tqdm(positions):\n",
    "            Context.setPositions(p.cpu().numpy())\n",
    "            for i, (q, n) in enumerate(zip(quants,names)):\n",
    "                #ipdb.set_trace()\n",
    "                state = Context.getState(\n",
    "                                getEnergy=True,\n",
    "                                getForces=False,\n",
    "                                getPositions=False,\n",
    "                                groups = {i})\n",
    "                #ipdb.set_trace()\n",
    "                energies[n].append(state.getPotentialEnergy())\n",
    "        \n",
    "        #for key in energies:\n",
    "        #    print(f\"{key}: {energies[key].mean()}\")\n",
    "        print(\"*****MD-Data*****\")\n",
    "        resdict_MD = {}\n",
    "        for key in energies:\n",
    "            val = kbT(np.array(energies[key]._value))\n",
    "            print(f\"{key}: {val}\")\n",
    "            resdict_MD[key] = val\n",
    "\n",
    "######### de-novo samples\n",
    "        \n",
    "        \n",
    "        energies = {}\n",
    "        quants = []\n",
    "        for q in range(9):\n",
    "            quants.append(openmm.unit.quantity.Quantity(unit = UNIT))\n",
    "        #quants = [openmm.unit.quantity.Quantity(unit = UNIT)]*7\n",
    "        for q,n in zip(quants,names):\n",
    "            energies[n] = q\n",
    "        \n",
    "        \n",
    "        #\n",
    "        #data_native = data[:NUM_SAMPLES]\n",
    "        #\n",
    "        #positions,_ = data_native.reshape(NUM_SAMPLES,-1,3)\n",
    "        \n",
    "        n_batches = NUM_SAMPLES//BATCHSIZE\n",
    "        #for i in range(n_batches):\n",
    "         #   positions_batch = generator.sample(1000).cpu().detach().reshape(1000,-1,3).numpy()\n",
    "         #   positions\n",
    "        pos = []\n",
    "        #B, A, T, BB, c1, C2, C3, C4, j = generator.flow(torch.Tensor(valdata[:BATCHSIZE]).to(ctx[\"device\"]), inverse = True)\n",
    "        for _ in tqdm(range(n_batches)):\n",
    "\n",
    "\n",
    "            zB, zA, znT, ztT = generator.prior.sample(BATCHSIZE)\n",
    "            #bp()\n",
    "            samples = generator.flow(zB, zA, znT, ztT)[0].detach().cpu().reshape(BATCHSIZE,-1,3).numpy()\n",
    "            #p = generator.sample(BATCHSIZE).cpu().detach().reshape(BATCHSIZE,-1,3).numpy()\n",
    "            pos.append(samples)\n",
    "\n",
    "        \n",
    "        positions = np.concatenate(pos)\n",
    "        for p in tqdm(positions):\n",
    "            Context.setPositions(p)\n",
    "            for i, (q, n) in enumerate(zip(quants,names)):\n",
    "                #ipdb.set_trace()\n",
    "                state = Context.getState(\n",
    "                                getEnergy=True,\n",
    "                                getForces=False,\n",
    "                                getPositions=False,\n",
    "                                groups = {i})\n",
    "                #ipdb.set_trace()\n",
    "                energies[n].append(state.getPotentialEnergy())\n",
    "        \n",
    "        #for key in energies:\n",
    "        #    print(f\"{key}: {energies[key].mean()}\")\n",
    "        print(\"*****de-novo-samples*****\")\n",
    "        resdict_NLL = {}\n",
    "        for key in energies:\n",
    "            val = kbT(np.array(energies[key]._value))\n",
    "            print(f\"{key}: {val}\")\n",
    "            resdict_NLL[key] = val\n",
    "resdict_NLL.pop(\"CMMremover\")\n",
    "resdict_MD.pop(\"CMMremover\")"
   ],
   "outputs": [],
   "execution_count": null
  },
  {
   "cell_type": "markdown",
   "id": "6486cac8-7b88-42f1-9aee-7620f7e296d1",
   "metadata": {},
   "source": [
    "## MD"
   ]
  },
  {
   "cell_type": "code",
   "id": "56fec463-e0c5-4908-b48d-5d402f4441f3",
   "metadata": {},
   "source": [
    "#np.save(f'resdict_MD_{nb_fname}.npy', resdict_MD)\n",
    "# Load\n",
    "resdict_MD = np.load(f'resdict_MD_{nb_fname}.npy',allow_pickle='TRUE').item()\n",
    "D_MD = resdict_MD\n",
    "D_MD"
   ],
   "outputs": [],
   "execution_count": null
  },
  {
   "cell_type": "code",
   "id": "dc7d9015-6505-4fb5-ae0a-d62fa96e8eeb",
   "metadata": {},
   "source": [
    "# Plot in Boxplot\n",
    "fig = plt.figure()\n",
    " \n",
    "# Creating axes instance\n",
    "ax = fig.add_axes([ 0, 0, 1, 1])\n",
    "keys = ['O', 'Bonds', 'Angles', 'Torsion', 'Nonbonded', 'GB']\n",
    "ax.set_xticklabels(keys)\n",
    "\n",
    "plt.ylabel('Energy Term [kbT]')\n",
    "#ax.set_yscale('symlog')\n",
    " \n",
    "# Creating plot\n",
    "bp = ax.violinplot(list(D_MD.values()), showmedians=True, showextrema=True, quantiles=[(0.25, 0.75), (0.25, 0.75), (0.25, 0.75), (0.25, 0.75),(0.25, 0.75)])\n",
    "\n",
    "plt.xticks(rotation=90)\n",
    "plt.title('MD: Energy Term Violin Plot of 1b4z/KDK')\n",
    "plt.savefig(f\"figures/ETerms_{nb_fname}_MD.png\", bbox_inches=\"tight\")\n",
    "plt.show()"
   ],
   "outputs": [],
   "execution_count": null
  },
  {
   "cell_type": "markdown",
   "id": "75f00022-ebd9-45ca-88fb-39267728d097",
   "metadata": {},
   "source": [
    "## NLL"
   ]
  },
  {
   "cell_type": "code",
   "id": "894059e5-0973-4c35-89d1-635ed02019d1",
   "metadata": {},
   "source": [
    "#np.save(f'resdict_NLL_{nb_fname}.npy', resdict_NLL)\n",
    "# Load\n",
    "resdict_NLL = np.load(f'resdict_NLL_{nb_fname}.npy',allow_pickle='TRUE').item()\n",
    "D_NLL = resdict_NLL\n",
    "D_NLL"
   ],
   "outputs": [],
   "execution_count": null
  },
  {
   "cell_type": "code",
   "id": "942e0ed5-6968-423f-8ba9-c3bbcf9bd816",
   "metadata": {},
   "source": [
    "D_NLL[\"Nonbonded\"] = D_NLL[\"Nonbonded\"][D_NLL[\"Nonbonded\"] < np.percentile(D_NLL[\"Nonbonded\"], 90)]"
   ],
   "outputs": [],
   "execution_count": null
  },
  {
   "cell_type": "code",
   "id": "92bf8790-8ed6-4e40-8c8c-03157fecd89a",
   "metadata": {},
   "source": [
    "# Plot in Boxplot\n",
    "fig = plt.figure()\n",
    " \n",
    "# Creating axes instance\n",
    "ax = fig.add_axes([ 0, 0, 1, 1])\n",
    "keys = ['O', 'Bonds', 'Angles', 'Torsion', 'Nonbonded', 'GB']\n",
    "ax.set_xticklabels(keys)\n",
    "\n",
    "plt.ylabel('Energy Term [kbT]')\n",
    "ax.set_yscale('symlog')\n",
    "\n",
    "# Creating plot\n",
    "bp = ax.violinplot(list(D_NLL.values()), showmedians=True, showextrema=True, quantiles=[(0.25, 0.75), (0.25, 0.75), (0.25, 0.75), (0.25, 0.75),(0.25, 0.75)])\n",
    "\n",
    "plt.xticks(rotation=90)\n",
    "plt.title('BG (NLL): Energy Term Violin Plot of 1b4z/KDK')\n",
    "plt.savefig(f\"figures/ETerms_{nb_fname}_NLL.png\", bbox_inches=\"tight\")\n",
    "plt.show()"
   ],
   "outputs": [],
   "execution_count": null
  },
  {
   "cell_type": "markdown",
   "id": "e6557afe-47a0-4429-93df-20bd7cb2bdf4",
   "metadata": {},
   "source": [
    "## Mixed"
   ]
  },
  {
   "cell_type": "code",
   "id": "5ea2bc73-875e-4d0b-8414-26b602721411",
   "metadata": {},
   "source": [
    "#np.save(f'resdict_Mixed_{nb_fname}.npy', resdict_Mixed)\n",
    "# Load\n",
    "resdict_Mixed = np.load(f'resdict_Mixed_{nb_fname}.npy',allow_pickle='TRUE').item()\n",
    "D_Mix = resdict_Mixed\n",
    "D_Mix"
   ],
   "outputs": [],
   "execution_count": null
  },
  {
   "cell_type": "code",
   "id": "8f1136a0-73dc-4d0b-b589-feb608927308",
   "metadata": {},
   "source": [
    "D_Mix[\"Nonbonded\"] = D_Mix[\"Nonbonded\"][D_Mix[\"Nonbonded\"] < np.percentile(D_Mix[\"Nonbonded\"], 90)]"
   ],
   "outputs": [],
   "execution_count": null
  },
  {
   "cell_type": "code",
   "id": "bbc65e95-c861-43e2-bb6f-30d200f03371",
   "metadata": {},
   "source": [
    "# Plot in Boxplot\n",
    "fig = plt.figure()\n",
    " \n",
    "# Creating axes instance\n",
    "ax = fig.add_axes([ 0, 0, 1, 1])\n",
    "keys = ['O', 'Bonds', 'Angles', 'Torsion', 'Nonbonded', 'GB']\n",
    "ax.set_xticklabels(keys)\n",
    "\n",
    "plt.ylabel('Energy Term [kbT]')\n",
    "ax.set_yscale('symlog')\n",
    "\n",
    "# Creating plot\n",
    "bp = ax.violinplot(list(D_Mix.values()), showmedians=True, showextrema=True, quantiles=[(0.25, 0.75), (0.25, 0.75), (0.25, 0.75), (0.25, 0.75),(0.25, 0.75)])\n",
    "\n",
    "plt.xticks(rotation=90)\n",
    "plt.title('BG (NLL+KLL): Energy Term Violin Plot of 1b4z/KDK')\n",
    "plt.savefig(f\"figures/ETerms_{nb_fname}_Mixed.png\", bbox_inches=\"tight\")\n",
    "plt.show()"
   ],
   "outputs": [],
   "execution_count": null
  },
  {
   "cell_type": "markdown",
   "id": "17127461-f107-4f36-98ab-b85e3e3ecd6e",
   "metadata": {},
   "source": [
    "## KLL"
   ]
  },
  {
   "cell_type": "code",
   "id": "778d8d33-efb9-4a12-886e-a89403d97b5d",
   "metadata": {},
   "source": [
    "#np.save(f'resdict_KLL_{nb_fname}.npy', resdict_KLL)\n",
    "# Load\n",
    "resdict_KLL = np.load(f'resdict_KLL_{nb_fname}.npy',allow_pickle='TRUE').item()\n",
    "D_KLL = resdict_KLL\n",
    "D_KLL"
   ],
   "outputs": [],
   "execution_count": null
  },
  {
   "cell_type": "code",
   "id": "3fed3e18-4135-4f85-b2d1-c7df69312b6e",
   "metadata": {},
   "source": [
    "D_KLL[\"Nonbonded\"] = D_KLL[\"Nonbonded\"][D_KLL[\"Nonbonded\"] < np.percentile(D_KLL[\"Nonbonded\"], 90)]"
   ],
   "outputs": [],
   "execution_count": null
  },
  {
   "cell_type": "code",
   "id": "2545f96e-7a0b-4f51-b338-c1d6d1feb4b2",
   "metadata": {},
   "source": [
    "# Plot in Boxplot\n",
    "fig = plt.figure()\n",
    " \n",
    "# Creating axes instance\n",
    "ax = fig.add_axes([ 0, 0, 1, 1])\n",
    "keys = ['O', 'Bonds', 'Angles', 'Torsion', 'Nonbonded', 'GB']\n",
    "ax.set_xticklabels(keys)\n",
    "\n",
    "plt.ylabel('Energy Term [kbT]')\n",
    "ax.set_yscale('symlog')\n",
    "\n",
    "# Creating plot\n",
    "bp = ax.violinplot(list(D_KLL.values()), showmedians=True, showextrema=True, quantiles=[(0.25, 0.75), (0.25, 0.75), (0.25, 0.75), (0.25, 0.75),(0.25, 0.75)])\n",
    "\n",
    "plt.xticks(rotation=90)\n",
    "plt.title('BG (KLL): Energy Term Violin Plot of 1b4z/KDK')\n",
    "plt.savefig(f\"figures/ETerms_{nb_fname}_KLL.png\", bbox_inches=\"tight\")\n",
    "plt.show()"
   ],
   "outputs": [],
   "execution_count": null
  },
  {
   "cell_type": "markdown",
   "id": "6a92ad2c-c17b-45ba-b837-90e2e55e6ea7",
   "metadata": {},
   "source": [
    "## KLL (no GB)"
   ]
  },
  {
   "cell_type": "code",
   "id": "c32be0ad-f9ab-4220-a50d-35e016be3b96",
   "metadata": {},
   "source": [
    "#np.save(f'resdict_KLL_no_GB_{nb_fname}.npy', resdict_KLL_no_GB)\n",
    "# Load\n",
    "resdict_KLL_no_GB = np.load(f'resdict_KLL_no_GB_{nb_fname}.npy',allow_pickle='TRUE').item()\n",
    "D_KLL_no_GB = resdict_KLL_no_GB\n",
    "D_KLL_no_GB"
   ],
   "outputs": [],
   "execution_count": null
  },
  {
   "cell_type": "code",
   "id": "77d93cb8-af83-4e5b-a436-2b1161501b57",
   "metadata": {},
   "source": [
    "D_KLL_no_GB[\"Nonbonded\"] = D_KLL_no_GB[\"Nonbonded\"][D_KLL_no_GB[\"Nonbonded\"] < np.percentile(D_KLL_no_GB[\"Nonbonded\"], 90)]"
   ],
   "outputs": [],
   "execution_count": null
  },
  {
   "cell_type": "code",
   "id": "fc9bd1eb-7ac4-423a-b323-9e0fc07f2b5d",
   "metadata": {},
   "source": [
    "# Plot in Boxplot\n",
    "fig = plt.figure()\n",
    " \n",
    "# Creating axes instance\n",
    "ax = fig.add_axes([ 0, 0, 1, 1])\n",
    "keys = ['O', 'Bonds', 'Angles', 'Torsion', 'Nonbonded', 'GB']\n",
    "ax.set_xticklabels(keys)\n",
    "\n",
    "plt.ylabel('Energy Term [kbT]')\n",
    "ax.set_yscale('symlog')\n",
    "\n",
    "# Creating plot\n",
    "bp = ax.violinplot(list(D_KLL_no_GB.values()), showmedians=True, showextrema=True, quantiles=[(0.25, 0.75), (0.25, 0.75), (0.25, 0.75), (0.25, 0.75),(0.25, 0.75)])\n",
    "\n",
    "plt.xticks(rotation=90)\n",
    "plt.title('BG (KLL (no GB)): Energy Term Violin Plot of 1b4z/KDK')\n",
    "plt.savefig(f\"figures/ETerms_{nb_fname}_KLL_no_GB.png\", bbox_inches=\"tight\")\n",
    "plt.show()"
   ],
   "outputs": [],
   "execution_count": null
  },
  {
   "cell_type": "markdown",
   "id": "15666c03-7c06-4419-874d-d497a181433e",
   "metadata": {
    "tags": []
   },
   "source": [
    "## Compare NB and GB between MD and BG"
   ]
  },
  {
   "cell_type": "markdown",
   "id": "f036b90e-e971-439e-9d9b-23de8ecf8e05",
   "metadata": {},
   "source": [
    "First we directly compare the different energy terms directly after training by example and which differ most."
   ]
  },
  {
   "cell_type": "markdown",
   "id": "63e0559b-76c4-4dcb-8497-f65b8f2eff70",
   "metadata": {
    "tags": []
   },
   "source": [
    "### Violinplot"
   ]
  },
  {
   "cell_type": "code",
   "id": "f3336d4e-bf5f-4093-a046-3d61f1eb245d",
   "metadata": {},
   "source": [
    "fig, axs = plt.subplots(nrows=1, ncols=3, figsize=(10, 4), gridspec_kw={'width_ratios': [6, 2, 2], 'wspace': 0.4,})\n",
    "\n",
    "labels = []\n",
    "def add_label(violin, label):\n",
    "    color = violin[\"bodies\"][0].get_facecolor().flatten()\n",
    "    labels.append((mpatches.Patch(color=color), label))\n",
    "\n",
    "# Plot 1\n",
    "pos_1 = [1, 4, 7]\n",
    "pos_2 = [2, 5, 8]\n",
    "\n",
    "parts_1 = axs[0].violinplot(list(resdict_MD.values())[0:3], pos_1, showmedians=True)\n",
    "\n",
    "for pc in parts_1['bodies']:\n",
    "    pc.set_facecolor('blue')\n",
    "    \n",
    "add_label(parts_1, \"MD\")\n",
    "\n",
    "parts_2 = axs[0].violinplot(list(D_NLL.values())[0:3], pos_2, showmedians=True)\n",
    "\n",
    "for pc in parts_2['bodies']:\n",
    "    pc.set_facecolor('orange')\n",
    "\n",
    "add_label(parts_2, \"BG-NLL\")\n",
    "\n",
    "plt.sca(axs[0])\n",
    "plt.xlabel(\"   Bonds                 Angles                Torsions\", fontweight='bold')\n",
    "plt.xticks([])\n",
    "\n",
    "\n",
    "plt.ylabel('Energy Term [kbT]')\n",
    "plt.legend(*zip(*labels), loc='upper left')\n",
    "\n",
    "# Plot 2\n",
    "pos_1 = [1]\n",
    "pos_2 = [2]\n",
    "\n",
    "parts_1 = axs[1].violinplot(list(resdict_MD.values())[3:4], pos_1, showmedians=True)\n",
    "\n",
    "for pc in parts_1['bodies']:\n",
    "    pc.set_facecolor('blue')\n",
    "    \n",
    "add_label(parts_1, \"MD\")\n",
    "\n",
    "parts_2 = axs[1].violinplot(list(D_NLL.values())[3:4], pos_2, showmedians=True)\n",
    "\n",
    "for pc in parts_2['bodies']:\n",
    "    pc.set_facecolor('orange')\n",
    "\n",
    "add_label(parts_2, \"BG-NLL\")\n",
    "\n",
    "axs[1].set_yscale('symlog')\n",
    "plt.sca(axs[1])\n",
    "plt.xlabel(\"Non-Bonded\", fontweight='bold')\n",
    "plt.xticks([])\n",
    "\n",
    "# Plot 3\n",
    "pos_1 = [1]\n",
    "pos_2 = [2]\n",
    "\n",
    "parts_1 = axs[2].violinplot(list(resdict_MD.values())[4:5], pos_1, showmedians=True)\n",
    "\n",
    "for pc in parts_1['bodies']:\n",
    "    pc.set_facecolor('blue')\n",
    "    \n",
    "add_label(parts_1, \"MD\")\n",
    "\n",
    "parts_2 = axs[2].violinplot(list(D_NLL.values())[4:5], pos_2, showmedians=True)\n",
    "\n",
    "for pc in parts_2['bodies']:\n",
    "    pc.set_facecolor('orange')\n",
    "\n",
    "add_label(parts_2, \"BG-NLL\")\n",
    "\n",
    "#axs[2].set_yscale('symlog')\n",
    "plt.sca(axs[2])\n",
    "plt.sca(axs[2])\n",
    "plt.xlabel(\"GB\", fontweight='bold')\n",
    "plt.xticks([])\n",
    "\n",
    "\n",
    "#fig.suptitle(\"Energy Terms of MD and BG-NLL Samples\")\n",
    "\n",
    "plt.savefig(f\"figures/ETerms_{nb_fname}_comp_MD_NLL.png\", bbox_inches=\"tight\")\n",
    "plt.show()"
   ],
   "outputs": [],
   "execution_count": null
  },
  {
   "cell_type": "code",
   "id": "fd7cffcf-14ec-45d7-a4f1-0b50942cfc63",
   "metadata": {},
   "source": [
    "fig, axs = plt.subplots(nrows=1, ncols=3, figsize=(20, 4), gridspec_kw={'width_ratios': [12, 4, 4], 'wspace': 0.2,})\n",
    "\n",
    "labels = []\n",
    "def add_label(violin, label):\n",
    "    color = violin[\"bodies\"][0].get_facecolor().flatten()\n",
    "    labels.append((mpatches.Patch(color=color), label))\n",
    "\n",
    "# Plot 1\n",
    "pos_1 = [1, 7, 13]\n",
    "pos_2 = [2, 8, 14]\n",
    "pos_3 = [3, 9, 15]\n",
    "pos_4 = [4, 10, 16]\n",
    "pos_5 = [5, 11, 17]\n",
    "\n",
    "parts_1 = axs[0].violinplot(list(resdict_MD.values())[0:3], pos_1, showmedians=True)\n",
    "\n",
    "#for pc in parts_1['bodies']:\n",
    "    #pc.set_facecolor('blue')\n",
    "    \n",
    "add_label(parts_1, \"MD\")\n",
    "\n",
    "parts_2 = axs[0].violinplot(list(D_NLL.values())[0:3], pos_2, showmedians=True)\n",
    "\n",
    "#for pc in parts_2['bodies']:\n",
    " #   pc.set_facecolor('orange')\n",
    "\n",
    "add_label(parts_2, \"BG-NLL\")\n",
    "\n",
    "parts_3 = axs[0].violinplot(list(D_Mix.values())[0:3], pos_3, showmedians=True)\n",
    "\n",
    "#for pc in parts_3['bodies']:\n",
    " #   pc.set_facecolor('gold')\n",
    "\n",
    "add_label(parts_3, \"BG-NLL+KLL\")\n",
    "\n",
    "parts_4 = axs[0].violinplot(list(D_KLL.values())[0:3], pos_4, showmedians=True)\n",
    "\n",
    "#for pc in parts_4['bodies']:\n",
    " #   pc.set_facecolor('green')\n",
    "\n",
    "add_label(parts_4, \"BG-KLL\")\n",
    "\n",
    "parts_5 = axs[0].violinplot(list(D_KLL_no_GB.values())[0:3], pos_5, showmedians=True)\n",
    "\n",
    "#for pc in parts_5['bodies']:\n",
    " #   pc.set_facecolor('red')\n",
    "\n",
    "add_label(parts_5, \"BG-KLL (no GB)\")\n",
    "\n",
    "plt.sca(axs[0])\n",
    "plt.xlabel(\"Bonds                                               Angles                                             Torsions\", fontweight='bold')\n",
    "plt.xticks([])\n",
    "\n",
    "\n",
    "plt.ylabel('Energy Term [kbT]')\n",
    "plt.legend(*zip(*labels), loc='upper left')\n",
    "\n",
    "# Plot 2\n",
    "pos_1 = [1]\n",
    "pos_2 = [2]\n",
    "pos_3 = [3]\n",
    "pos_4 = [4]\n",
    "pos_5 = [5]\n",
    "\n",
    "parts_1 = axs[1].violinplot(list(resdict_MD.values())[3:4], pos_1, showmedians=True)\n",
    "\n",
    "#for pc in parts_1['bodies']:\n",
    " #   pc.set_facecolor('blue')\n",
    "    \n",
    "add_label(parts_1, \"MD\")\n",
    "\n",
    "parts_2 = axs[1].violinplot(list(D_NLL.values())[3:4], pos_2, showmedians=True)\n",
    "\n",
    "#for pc in parts_2['bodies']:\n",
    "  #  pc.set_facecolor('orange')\n",
    "\n",
    "add_label(parts_2, \"BG-NLL\")\n",
    "\n",
    "parts_3 = axs[1].violinplot(list(D_Mix.values())[3:4], pos_3, showmedians=True)\n",
    "\n",
    "#for pc in parts_3['bodies']:\n",
    "  #  pc.set_facecolor('gold')\n",
    "\n",
    "add_label(parts_3, \"BG-NLL+KLL\")\n",
    "\n",
    "parts_4 = axs[1].violinplot(list(D_KLL.values())[3:4], pos_4, showmedians=True)\n",
    "\n",
    "#for pc in parts_4['bodies']:\n",
    " #   pc.set_facecolor('green')\n",
    "\n",
    "add_label(parts_4, \"BG-KLL\")\n",
    "\n",
    "parts_5 = axs[1].violinplot(list(D_KLL_no_GB.values())[3:4], pos_5, showmedians=True)\n",
    "\n",
    "#for pc in parts_5['bodies']:\n",
    " #   pc.set_facecolor('red')\n",
    "\n",
    "add_label(parts_5, \"BG-KLL (no GB)\")\n",
    "\n",
    "axs[1].set_yscale('symlog')\n",
    "plt.sca(axs[1])\n",
    "plt.xlabel(\"Non-Bonded\", fontweight='bold')\n",
    "plt.xticks([])\n",
    "\n",
    "# Plot 3\n",
    "pos_1 = [1]\n",
    "pos_2 = [2]\n",
    "pos_3 = [3]\n",
    "pos_4 = [4]\n",
    "pos_5 = [5]\n",
    "\n",
    "parts_1 = axs[2].violinplot(list(resdict_MD.values())[4:5], pos_1, showmedians=True)\n",
    "\n",
    "#for pc in parts_1['bodies']:\n",
    " #   pc.set_facecolor('blue')\n",
    "    \n",
    "add_label(parts_1, \"MD\")\n",
    "\n",
    "parts_2 = axs[2].violinplot(list(D_NLL.values())[4:5], pos_2, showmedians=True)\n",
    "\n",
    "#for pc in parts_2['bodies']:\n",
    " #   pc.set_facecolor('orange')\n",
    "\n",
    "add_label(parts_2, \"BG-NLL\")\n",
    "\n",
    "parts_3 = axs[2].violinplot(list(D_Mix.values())[4:5], pos_3, showmedians=True)\n",
    "\n",
    "#for pc in parts_3['bodies']:\n",
    "  #  pc.set_facecolor('gold')\n",
    "\n",
    "add_label(parts_3, \"BG-NLL+KLL\")\n",
    "\n",
    "parts_4 = axs[2].violinplot(list(D_KLL.values())[4:5], pos_4, showmedians=True)\n",
    "\n",
    "#for pc in parts_4['bodies']:\n",
    " #   pc.set_facecolor('green')\n",
    "\n",
    "add_label(parts_4, \"BG-KLL\")\n",
    "\n",
    "parts_5 = axs[2].violinplot(list(D_KLL_no_GB.values())[4:5], pos_5, showmedians=True)\n",
    "\n",
    "#for pc in parts_5['bodies']:\n",
    "  #  pc.set_facecolor('red')\n",
    "\n",
    "add_label(parts_5, \"BG-KLL (no GB)\")\n",
    "\n",
    "#axs[2].set_yscale('symlog')\n",
    "plt.sca(axs[2])\n",
    "plt.xlabel(\"GB\", fontweight='bold')\n",
    "plt.xticks([])\n",
    "\n",
    "\n",
    "#fig.suptitle(\"Energy Terms of MD and BG-NLL Samples\")\n",
    "\n",
    "plt.savefig(f\"figures/ETerms_{nb_fname}_comp_MD_NLL_full.png\", bbox_inches=\"tight\")\n",
    "plt.show()"
   ],
   "outputs": [],
   "execution_count": null
  },
  {
   "cell_type": "markdown",
   "id": "f1fdacd1-3655-4e81-b25f-c136d255129b",
   "metadata": {
    "jp-MarkdownHeadingCollapsed": true,
    "tags": []
   },
   "source": [
    "### Barplot"
   ]
  },
  {
   "cell_type": "code",
   "id": "57e57908-27c2-4c70-a884-719620645204",
   "metadata": {},
   "source": [
    "plt.bar(range(len(resdict_MD)), list(resdict_MD.values()), -0.3, align='edge', label='MD')\n",
    "\n",
    "plt.bar(range(len(resdict_NLL)), list(resdict_NLL.values()), +0.3, align='edge', color='orange', label='BG-NLL')\n",
    "\n",
    "plt.xticks(range(len(D)), list(D.keys()))\n",
    "ax = plt.gca()\n",
    "#ax.set_ylim([-1000, 4000])\n",
    "max_y_lim = max(resdict_NLL.values()) + 50\n",
    "min_y_lim = min(resdict_NLL.values()) - 50\n",
    "plt.ylim(min_y_lim, max_y_lim)\n",
    "plt.ylabel('Energy Term [kbT]')\n",
    "#ax.set_yscale('symlog')\n",
    "plt.xticks(rotation=90)\n",
    "plt.legend(loc='lower left')\n",
    "plt.savefig(f\"figures/ETerms_{nb_fname}_comp_MD_NLL.png\", bbox_inches=\"tight\")\n",
    "plt.show()"
   ],
   "outputs": [],
   "execution_count": null
  },
  {
   "cell_type": "markdown",
   "id": "1dd4c8b2-a0a8-45d6-aa45-99dd2ef81651",
   "metadata": {},
   "source": [
    "As the BG seems to be easily able to correctly sample the Energies of the Molecules Bonds, Angles and Torsions - which can be seen in the above comparison - the Nonbonded and GB Energy Terms are compared between the MD snapshots and the samples after NLL and KLL training."
   ]
  },
  {
   "cell_type": "markdown",
   "id": "715388a3-22b0-4620-9106-59f578ba2084",
   "metadata": {
    "tags": []
   },
   "source": [
    "### Violinplot"
   ]
  },
  {
   "cell_type": "code",
   "id": "fb9b3cbb-5796-4db9-a74e-5bc14c90424e",
   "metadata": {},
   "source": [
    "fig, axs = plt.subplots(nrows=1, ncols=2, figsize=(10, 4), gridspec_kw={'width_ratios': [5, 5], 'wspace': 0.2,})\n",
    "\n",
    "labels = []\n",
    "def add_label(violin, label):\n",
    "    color = violin[\"bodies\"][0].get_facecolor().flatten()\n",
    "    labels.append((mpatches.Patch(color=color), label))\n",
    "\n",
    "# Plot 1\n",
    "pos_1 = [1]\n",
    "pos_2 = [2]\n",
    "pos_3 = [3]\n",
    "pos_4 = [4]\n",
    "\n",
    "parts_1 = axs[0].violinplot(list(D_MD.values())[3:4], pos_1, showmedians=True)\n",
    "for pc in parts_1['bodies']:\n",
    "    pc.set_facecolor('blue')   \n",
    "add_label(parts_1, \"MD\")\n",
    "\n",
    "parts_2 = axs[0].violinplot(list(D_NLL.values())[3:4], pos_2, showmedians=True)\n",
    "for pc in parts_2['bodies']:\n",
    "    pc.set_facecolor('orange')\n",
    "add_label(parts_2, \"BG-NLL\")\n",
    "\n",
    "parts_3 = axs[0].violinplot(list(D_KLL.values())[3:4], pos_3, showmedians=True)\n",
    "for pc in parts_3['bodies']:\n",
    "    pc.set_facecolor('green')   \n",
    "add_label(parts_3, \"BG-KLL\")\n",
    "\n",
    "parts_4 = axs[0].violinplot(list(D_KLL_no_GB.values())[3:4], pos_4, showmedians=True)\n",
    "for pc in parts_4['bodies']:\n",
    "    pc.set_facecolor('red')\n",
    "add_label(parts_4, \"BG-KLL (no GB)\")\n",
    "\n",
    "axs[0].set_yscale('symlog')\n",
    "plt.sca(axs[0])\n",
    "plt.xlabel(\"Non-Bonded\", fontweight='bold')\n",
    "plt.xticks([])\n",
    "\n",
    "plt.ylabel('Energy Term [kbT]')\n",
    "plt.legend(*zip(*labels), loc='upper right')\n",
    "\n",
    "# Plot 2\n",
    "pos_1 = [1]\n",
    "pos_2 = [2]\n",
    "pos_3 = [3]\n",
    "pos_4 = [4]\n",
    "\n",
    "parts_1 = axs[1].violinplot(list(D_MD.values())[4:5], pos_1, showmedians=True)\n",
    "for pc in parts_1['bodies']:\n",
    "    pc.set_facecolor('blue')   \n",
    "add_label(parts_1, \"MD\")\n",
    "\n",
    "parts_2 = axs[1].violinplot(list(D_NLL.values())[4:5], pos_2, showmedians=True)\n",
    "for pc in parts_2['bodies']:\n",
    "    pc.set_facecolor('orange')\n",
    "add_label(parts_2, \"BG-NLL\")\n",
    "\n",
    "parts_3 = axs[1].violinplot(list(D_KLL.values())[4:5], pos_3, showmedians=True)\n",
    "for pc in parts_3['bodies']:\n",
    "    pc.set_facecolor('green')   \n",
    "add_label(parts_3, \"BG-KLL\")\n",
    "\n",
    "parts_4 = axs[1].violinplot(list(D_KLL_no_GB.values())[4:5], pos_4, showmedians=True)\n",
    "for pc in parts_4['bodies']:\n",
    "    pc.set_facecolor('red')\n",
    "add_label(parts_4, \"BG-KLL (no GB)\")\n",
    "\n",
    "#axs[1].set_yscale('symlog')\n",
    "plt.sca(axs[1])\n",
    "plt.xlabel(\"GB\", fontweight='bold')\n",
    "plt.xticks([])\n",
    "\n",
    "\n",
    "\n",
    "#fig.suptitle(\"Non-Bonded Energy Terms of MD and BG-NLL Samples\")\n",
    "\n",
    "plt.savefig(f\"figures/ETerms_{nb_fname}_comp_NB_GB_MD_KLL.png\", bbox_inches=\"tight\")\n",
    "plt.show()"
   ],
   "outputs": [],
   "execution_count": null
  },
  {
   "cell_type": "markdown",
   "id": "64521de5-e1f8-4571-9547-38aa813384fb",
   "metadata": {
    "jp-MarkdownHeadingCollapsed": true,
    "tags": []
   },
   "source": [
    "### Barplot"
   ]
  },
  {
   "cell_type": "code",
   "id": "5cad045f-d3c9-4d2d-85d7-3f109e2ad769",
   "metadata": {},
   "source": [
    "ind = np.arange(2)  # the x locations for the groups\n",
    "width = 0.15      # the width of the bars\n",
    "\n",
    "\n",
    "plt.bar(ind - width, list(list(resdict_MD.values())[3:5]), width, align='edge', label='MD')\n",
    "\n",
    "plt.bar(ind, list(list(resdict_NLL.values())[3:5]), width, align='edge', color='purple', label='BG-NLL')\n",
    "\n",
    "plt.bar(ind + width, list(list(resdict_KLL.values())[3:5]), width, align='edge', color='orange', label='BG-KLL')\n",
    "\n",
    "plt.bar(ind + 2*width, list(list(resdict_KLL_no_GB.values())[3:5]), width, align='edge', color='red', label='BG-KLL (no GB)')\n",
    "\n",
    "\n",
    "plt.xticks(range(len(list(resdict_MD.values())[3:5])), list(resdict_MD.keys())[3:5], ha='center', rotation=0)\n",
    "ax = plt.gca()\n",
    "#ax.set_ylim([-1000, 4000])\n",
    "max_y_lim = max(resdict_KLL.values()) + 50\n",
    "min_y_lim = min(resdict_KLL.values()) - 50\n",
    "plt.ylim(min_y_lim, max_y_lim)\n",
    "plt.ylabel('Energy Term [kbT]')\n",
    "#ax.set_yscale('symlog')\n",
    "#plt.xticks(ha='right', rotation=0)\n",
    "plt.legend(loc='lower left')\n",
    "plt.savefig(f\"figures/ETerms_{nb_fname}_comp_NB_GB_MD_KLL.png\", bbox_inches=\"tight\")\n",
    "plt.show()"
   ],
   "outputs": [],
   "execution_count": null
  },
  {
   "cell_type": "markdown",
   "id": "cd29aedd-e3fa-4aeb-a49e-587e1976d470",
   "metadata": {},
   "source": [
    "It can now clearly be seen that the BG samples do not reach the nonbonded energy of the MD samples. Even though, the nonbonded energy reduces after the training by energy. Only looking at the total energy is not sufficient to approximate if the samples of the BG are good. As we can see here, while the nonbonded energy is not as minimised as in the MD data, the GB energy is even lower compared to the MD data. This can already observed for pure training by example, indicating that the BG generally samples samples with a lower GB energy more easily."
   ]
  },
  {
   "cell_type": "markdown",
   "id": "e222d945-3dd9-47cb-ab8f-cdbb8a60847c",
   "metadata": {},
   "source": [
    "## Visualize Energies"
   ]
  },
  {
   "cell_type": "code",
   "id": "4843a8c3-cbf8-4417-99a7-bcecdd872096",
   "metadata": {
    "tags": []
   },
   "source": [
    "def plot_tics2(xyz, ax, system=system, lims=((-1.5, 2), (-1.5, 3.5))):\n",
    "    n_samples = xyz.shape[0]\n",
    "    xyz = as_numpy(xyz.reshape(n_samples, -1))\n",
    "    tics = system.to_tics(xyz)\n",
    "    \n",
    "    ax.hist2d(\n",
    "        tics[:,0], tics[:,1], \n",
    "        bins=100,\n",
    "        range=lims, \n",
    "        norm=LogNorm(vmax=10, vmin=1e-4),\n",
    "        density=True\n",
    "    )\n",
    "    ax.set_xlabel(\"TIC1\")\n",
    "    ax.set_ylabel(\"TIC2\")\n",
    "    ax.set_xlim(*lims[0])\n",
    "    ax.set_ylim(*lims[1])\n",
    "    \n",
    "    \n",
    "\n",
    "def show_structures(traj, top=system.mdtraj_topology):\n",
    "    if not isinstance(traj, md.Trajectory):\n",
    "        n_samples = traj.shape[0]\n",
    "        traj = md.Trajectory(traj.reshape(n_samples, -1, 3), topology=top)\n",
    "    traj.superpose(traj)\n",
    "    widget = nv.show_mdtraj(traj)\n",
    "    widget.add_representation(\"licorice\")\n",
    "    return widget\n",
    "    \n",
    "def evaluate_generator_unsorted(generator, samples, energies, true_target = False, num_energy = 1000, num_widget = 100, cut = None):\n",
    "    fig, axes = plt.subplots(1, 2, figsize=(10,5))\n",
    "    \n",
    "    if true_target:\n",
    "        plot_energies(axes[1], samples[:num_energy], generator._target, test_data, cut)\n",
    "    else:\n",
    "        plot_energies(axes[1], samples[:num_energy], CutTarget, test_data, cut)\n",
    "        \n",
    "    #c_atoms = system.mdtraj_topology.select(\"backbone and (name C or name N)\")#[:3]\n",
    "    #pcs = system.pca_model.transform(coordinate_transform(torch.Tensor(samples))[2])\n",
    "    \n",
    "    dihed = dihedrals(samples.reshape((10000,n_atoms,3)))\n",
    "    dihed = pca_fit_md.transform(dihed)\n",
    "    \n",
    "    #tics = system.tica_model.transform(distances(samples.reshape(samples.shape[0],-1,3)[:,c_atoms,:]), eigs_kept=2) \n",
    "    #tics = system.to_tics(samples.reshape(samples.shape[0],-1,3), eigs_kept=2)\n",
    "    #plot_tics(axes[0], tics)\n",
    "    \n",
    "    plot_pcs(axes[0], dihed)\n",
    "    fig.tight_layout()\n",
    "    \n",
    "    plt.savefig(f\"figures/EVis_{nb_fname}_KLL_no_GB.png\")\n",
    "    \n",
    "    global widget\n",
    "    widget = show_structures(samples[:100])\n",
    "    \n",
    "    init_value = np.around(energies[0].item(), decimals = 2)\n",
    "    output2 = widgets.BoundedFloatText(\n",
    "        value = init_value,\n",
    "        description='Energy:',\n",
    "        disabled=True,\n",
    "        min = -1e20,\n",
    "        max = 1e50\n",
    "    )\n",
    "    display(output2)\n",
    "    \n",
    "    def on_value_change(change):\n",
    "        value = np.around(energies[change['new']].item(), decimals = 2)\n",
    "        output2.value = value\n",
    "    widget._iplayer._trait_values[\"children\"][1].observe(on_value_change, names='value')\n",
    "\n",
    "    display(widget)    \n",
    "\n",
    "\n",
    "    \n",
    "    \n",
    "def plot_energies(ax, samples, target_energy, test_data, train_type, cut = None):\n",
    "    sample_energies = target_energy.energy(torch.Tensor(samples)).numpy()\n",
    "\n",
    "    md_energies = target_energy.energy(test_data[:len(samples)]).cpu().detach().numpy()\n",
    "    if cut is None:   \n",
    "        cut = max(np.percentile(sample_energies, 80), 20)\n",
    "    ax.set_xlabel(\"Energy   [$k_B T$]\")\n",
    "    # y-axis on the right\n",
    "    ax2 = plt.twinx(ax)\n",
    "    ax.get_yaxis().set_visible(False)\n",
    "    \n",
    "    ax2.hist(sample_energies, range=(min(md_energies).item(), cut), bins=40, density=False, label=\"BG\")\n",
    "    ax2.hist(md_energies, range=(min(md_energies).item(), cut), bins=40, density=False, label=\"MD\", alpha = 0.5)\n",
    "    ax2.set_ylabel(f\"Count   [#Samples / {len(samples)}]\")\n",
    "    ax2.legend()"
   ],
   "outputs": [],
   "execution_count": null
  },
  {
   "cell_type": "code",
   "id": "f1b303b9-246f-4077-a3a2-9c7f88b8039a",
   "metadata": {},
   "source": [
    "torsions = coordinate_transform(training_data[3000:].cpu())[2]\n",
    "\n",
    "pca = IncrementalPCA(n_components=2, batch_size = 100)\n",
    "for k in range(100):\n",
    "    pca.fit(torsions[k*100:(k+1)*100])\n",
    "\n",
    "system.pca_model = pca\n",
    "\n",
    "CutTarget = LinLogCutEnergy(generator._target)\n",
    "\n",
    "#evaluate_generator_unsorted(generator, samples, samples_energies,true_target = True, cut = 0)"
   ],
   "outputs": [],
   "execution_count": null
  },
  {
   "cell_type": "code",
   "id": "cf0f8db8-e07e-416e-b161-8a4ed202cdd6",
   "metadata": {},
   "source": [
    "#we have to take these with a grain of salt: still the energy is so low, because we compensate our high lennard jones with GB terms.\n",
    "#if we remove the GB term completely, we get mode collapse\n",
    "#this is because the reverse KL divergence (KLL) is mode seeking, whereas the forward KL divergence (NLL) is mean seeking (or mode covering)\n",
    "\n",
    "#it would be better if we had used a combinatin of NLL and KLL to avoid mode collapse, but this doesnt get used the low energies we ask for"
   ],
   "outputs": [],
   "execution_count": null
  },
  {
   "cell_type": "markdown",
   "id": "8c7732de-21ef-464c-abb6-87ff37e84ab0",
   "metadata": {},
   "source": [
    "### NLL"
   ]
  },
  {
   "cell_type": "code",
   "id": "3da6aa67-2cad-47e1-9e0a-907ea5b04611",
   "metadata": {
    "tags": []
   },
   "source": [
    "num_samples = 10000\n",
    "samples = np.concatenate([\n",
    "    as_numpy(generator.sample(100))\n",
    "    for _ in tqdm(range(100))\n",
    "])\n",
    "bg_samples = generator.sample(num_samples)\n",
    "bg_traj = md.Trajectory(bg_samples.reshape(num_samples,-1,3).cpu().detach().numpy(), system.mdtraj_topology)\n",
    "#bg_traj.save_hdf5(f\"bg_traj_NLL_{nb_fname}.h5\")\n",
    "#bg_traj.save_pdb(f\"bg_traj_NLL_{nb_fname}.pdb\")\n",
    "\n",
    "samples_energies = generator._target.energy(torch.Tensor(samples))\n",
    "\n",
    "sort = torch.argsort(samples_energies,0)\n",
    "energies_sorted = samples_energies[sort].squeeze()\n",
    "samples_sorted = samples[sort]\n",
    "\n",
    "evaluate_generator_unsorted(generator, samples, samples_energies)"
   ],
   "outputs": [],
   "execution_count": null
  },
  {
   "cell_type": "code",
   "id": "7a78b5d1-3aac-4d65-b9ed-0a9dd0b0d85c",
   "metadata": {},
   "source": [
    "traj_NLL=md.load_hdf5(f\"bg_traj_NLL_{nb_fname}.h5\")\n",
    "\n",
    "traj_NLL.n_atoms\n",
    "data = traj_NLL.xyz.reshape(len(traj_NLL.xyz), -1)\n",
    "\n",
    "wid=show_structures(data)\n",
    "wid"
   ],
   "outputs": [],
   "execution_count": null
  },
  {
   "cell_type": "markdown",
   "id": "14a0bd0c-3079-4d84-a7b8-dbf2212e0482",
   "metadata": {},
   "source": [
    "### NLL + KLL"
   ]
  },
  {
   "cell_type": "code",
   "id": "1acb2840-ca69-47ac-9609-b712c56daa54",
   "metadata": {
    "tags": []
   },
   "source": [
    "num_samples = 10000\n",
    "bg_samples = generator.sample(num_samples)\n",
    "bg_traj = md.Trajectory(bg_samples.reshape(num_samples,-1,3).cpu().detach().numpy(), system.mdtraj_topology)\n",
    "#bg_traj.save_hdf5(f\"bg_traj_Mixed_{nb_fname}.h5\")\n",
    "#bg_traj.save_pdb(f\"bg_traj_Mixed_{nb_fname}.pdb\")\n",
    "\n",
    "samples = np.concatenate([\n",
    "    as_numpy(generator.sample(100))\n",
    "    for _ in tqdm(range(100))\n",
    "])\n",
    "\n",
    "samples_energies = generator._target.energy(torch.Tensor(samples))\n",
    "\n",
    "sort = torch.argsort(samples_energies,0)\n",
    "energies_sorted = samples_energies[sort].squeeze()\n",
    "samples_sorted = samples[sort]\n",
    "\n",
    "evaluate_generator_unsorted(generator, samples, samples_energies)"
   ],
   "outputs": [],
   "execution_count": null
  },
  {
   "cell_type": "code",
   "id": "2d9417f0-f1b1-41f6-9614-a02930f1ea8a",
   "metadata": {},
   "source": [
    "traj_Mixed=md.load_hdf5(f\"bg_traj_Mixed_{nb_fname}.h5\")\n",
    "\n",
    "traj_Mixed.n_atoms\n",
    "data = traj_Mixed.xyz.reshape(len(traj_Mixed.xyz), -1)\n",
    "\n",
    "wid=show_structures(data)\n",
    "wid"
   ],
   "outputs": [],
   "execution_count": null
  },
  {
   "cell_type": "markdown",
   "id": "73a7beaf-54ea-49db-a14a-90c29c74e90c",
   "metadata": {},
   "source": [
    "### KLL"
   ]
  },
  {
   "cell_type": "code",
   "id": "39459421-6b65-45aa-8f76-38540cbde3a1",
   "metadata": {
    "tags": []
   },
   "source": [
    "num_samples = 10000\n",
    "bg_samples = generator.sample(num_samples)\n",
    "bg_traj = md.Trajectory(bg_samples.reshape(num_samples,-1,3).cpu().detach().numpy(), system.mdtraj_topology)\n",
    "#bg_traj.save_hdf5(f\"bg_traj_KLL_{nb_fname}.h5\")\n",
    "#bg_traj.save_pdb(f\"bg_traj_KLL_{nb_fname}.pdb\")\n",
    "\n",
    "samples = np.concatenate([\n",
    "    as_numpy(generator.sample(100))\n",
    "    for _ in tqdm(range(100))\n",
    "])\n",
    "\n",
    "samples_energies = generator._target.energy(torch.Tensor(samples))\n",
    "\n",
    "sort = torch.argsort(samples_energies,0)\n",
    "energies_sorted = samples_energies[sort].squeeze()\n",
    "samples_sorted = samples[sort]\n",
    "\n",
    "evaluate_generator_unsorted(generator, samples, samples_energies)"
   ],
   "outputs": [],
   "execution_count": null
  },
  {
   "cell_type": "markdown",
   "id": "a3a0daed-0865-453b-8885-1b6a5c8aedbd",
   "metadata": {},
   "source": [
    "## Investigate Energies of open and closed samples"
   ]
  },
  {
   "cell_type": "code",
   "id": "b375d191-ea06-43ba-965c-71ce2f1cc05a",
   "metadata": {},
   "source": [
    "pos = []\n",
    "        #B, A, T, BB, c1, C2, C3, C4, j = generator.flow(torch.Tensor(valdata[:BATCHSIZE]).to(ctx[\"device\"]), inverse = True)\n",
    "for _ in tqdm(range(n_batches)):\n",
    "\n",
    "\n",
    "    zB, zA, znT, ztT = generator.prior.sample(BATCHSIZE)\n",
    "    #bp()\n",
    "    samples = generator.flow(zB, zA, znT, ztT)[0].detach().cpu().reshape(BATCHSIZE,-1,3).numpy()\n",
    "    #p = generator.sample(BATCHSIZE).cpu().detach().reshape(BATCHSIZE,-1,3).numpy()\n",
    "    pos.append(samples)\n",
    "\n",
    "\n",
    "positions = np.concatenate(pos)\n",
    "for p in tqdm(positions):\n",
    "    Context.setPositions(p)\n",
    "    for i, (q, n) in enumerate(zip(quants,names)):\n",
    "        #ipdb.set_trace()\n",
    "        state = Context.getState(\n",
    "                        getEnergy=True,\n",
    "                        getForces=False,\n",
    "                        getPositions=False,\n",
    "                        groups = {i})\n",
    "        #ipdb.set_trace()\n",
    "        energies[n].append(state.getPotentialEnergy())"
   ],
   "outputs": [],
   "execution_count": null
  },
  {
   "cell_type": "code",
   "id": "09c3fa35-3fe6-4bc5-91f6-6e9e03ecaf13",
   "metadata": {},
   "source": [
    "samples_energies[0]"
   ],
   "outputs": [],
   "execution_count": null
  },
  {
   "cell_type": "code",
   "id": "f1ce20d5-cfa2-43d3-ba8e-29ed80994b66",
   "metadata": {},
   "source": [
    "# First, the generator after KLL training is loaded and energies are calculated with the code block above\n",
    "# Using the following the GB and NB energy of a certain sample can be accessed\n",
    "\n",
    "# Sample number X is a very 'open' confirmation (can be seen in nglviewer below)\n",
    "\n",
    "GB_14 = np.array(energies['GB']._value[14])\n",
    "NB_14 = np.array(energies['Nonbonded']._value[14])\n",
    "\n",
    "GB_19 = np.array(energies['GB']._value[19])\n",
    "NB_19 = np.array(energies['Nonbonded']._value[19])\n",
    "\n",
    "GB_20 = np.array(energies['GB']._value[20])\n",
    "NB_20 = np.array(energies['Nonbonded']._value[20])\n",
    "\n",
    "GB_30 = np.array(energies['GB']._value[30])\n",
    "NB_30 = np.array(energies['Nonbonded']._value[30])\n",
    "\n",
    "\n",
    "# Sample number X is a very 'closed' confirmation (can be seen in nglviewer below)\n",
    "GB_0 = np.array(energies['GB']._value[0])\n",
    "NB_0 = np.array(energies['Nonbonded']._value[0])\n",
    "\n",
    "GB_1 = np.array(energies['GB']._value[1])\n",
    "NB_1 = np.array(energies['Nonbonded']._value[1])\n",
    "\n",
    "GB_2 = np.array(energies['GB']._value[2])\n",
    "NB_2 = np.array(energies['Nonbonded']._value[2])\n",
    "\n",
    "GB_6 = np.array(energies['GB']._value[6])\n",
    "NB_6 = np.array(energies['Nonbonded']._value[6])"
   ],
   "outputs": [],
   "execution_count": null
  },
  {
   "cell_type": "code",
   "id": "206db394-97b1-4818-b5ea-bb49d8d88e06",
   "metadata": {},
   "source": [
    "GB_c = [GB_0, GB_1, GB_2, GB_6]\n",
    "GB_o = [GB_14, GB_19, GB_20, GB_30]\n",
    "NB_c = [NB_0, NB_1, NB_2, NB_6]\n",
    "NB_o = [NB_14, NB_19, NB_20, NB_30]\n",
    "\n",
    "keys = [\"GB - closed\", \"GB - open\", \"NB - closed\", \"NB - open\"]\n",
    "\n",
    "dist_values = [GB_c, GB_o, NB_c, NB_o]\n",
    "\n",
    "\n",
    "# Plot in Boxplot\n",
    "fig = plt.figure()\n",
    " \n",
    "# Creating axes instance\n",
    "ax = fig.add_axes([0, 0, 1, 1])\n",
    "ax.set_xticklabels(keys)\n",
    " \n",
    "# Creating plot\n",
    "bp = ax.boxplot(dist_values)\n",
    "\n",
    "plt.xticks(rotation=90)\n",
    "plt.ylabel('Energy [kbT]')\n",
    "\n",
    "plt.savefig(f\"figures/open_closed_conf_GB_NB_{nb_fname}.png\", bbox_inches=\"tight\")\n",
    "plt.show()\n",
    "\n",
    "#Performing a 2-sided t-test on the data\n",
    "test = scipy.stats.ttest_ind(GB_c, GB_o)\n",
    "print(test)"
   ],
   "outputs": [],
   "execution_count": null
  },
  {
   "cell_type": "code",
   "id": "6feb00a1-7c15-4bca-826b-2bae24030191",
   "metadata": {},
   "source": [
    "traj_KLL=md.load_hdf5(f\"bg_traj_KLL_{nb_fname}.h5\")\n",
    "\n",
    "traj_KLL.n_atoms\n",
    "data = traj_KLL.xyz.reshape(len(traj_KLL.xyz), -1)\n",
    "\n",
    "wid=show_structures(data)\n",
    "wid"
   ],
   "outputs": [],
   "execution_count": null
  },
  {
   "cell_type": "markdown",
   "id": "16dc395a-b13e-4458-9574-23bc9b0abb0d",
   "metadata": {},
   "source": [
    "### KLL (no GB)"
   ]
  },
  {
   "cell_type": "code",
   "id": "34c47f2f-a2b5-4d86-9565-8187eecf2a57",
   "metadata": {
    "tags": []
   },
   "source": [
    "num_samples = 10000\n",
    "bg_samples = generator.sample(num_samples)\n",
    "bg_traj = md.Trajectory(bg_samples.reshape(num_samples,-1,3).cpu().detach().numpy(), system.mdtraj_topology)\n",
    "#bg_traj.save_hdf5(f\"bg_traj_KLL_no_GB_{nb_fname}.h5\")\n",
    "#bg_traj.save_pdb(f\"bg_traj_KLL__no_GB{nb_fname}.pdb\")\n",
    "\n",
    "samples = np.concatenate([\n",
    "    as_numpy(generator.sample(100))\n",
    "    for _ in tqdm(range(100))\n",
    "])\n",
    "\n",
    "samples_energies = generator._target.energy(torch.Tensor(samples))\n",
    "\n",
    "sort = torch.argsort(samples_energies,0)\n",
    "energies_sorted = samples_energies[sort].squeeze()\n",
    "samples_sorted = samples[sort]\n",
    "\n",
    "evaluate_generator_unsorted(generator, samples, samples_energies)"
   ],
   "outputs": [],
   "execution_count": null
  },
  {
   "cell_type": "code",
   "id": "4afd05dc-fb9c-4eb7-91c6-7b10e1df1d78",
   "metadata": {},
   "source": [
    "traj_KLL_no_GB=md.load_hdf5(f\"bg_traj_KLL_no_GB_{nb_fname}.h5\")\n",
    "\n",
    "traj_KLL_no_GB.n_atoms\n",
    "data = traj_KLL_no_GB.xyz.reshape(len(traj_KLL_no_GB.xyz), -1)\n",
    "\n",
    "wid=show_structures(data)\n",
    "wid"
   ],
   "outputs": [],
   "execution_count": null
  },
  {
   "cell_type": "code",
   "id": "19682dc4-c092-4802-b8a3-87bae486679a",
   "metadata": {},
   "source": [
    "# wir sehen hier einen versteckten Mode collapse. Es sind zwar alle TICA-moden drin, aber die samples sind nicht mehr ganz so divers. \n",
    "# das ist vermutlich weil wir im letzten training teil den NLL Loss komplett raus genommen haben, dadurch gibt es keine \"Bestrafung\" mehr,\n",
    "# wenn Moden aus den training data im latent space \"zusammengequentscht\" werden. Diesse werden dann nicht mehr gesampled."
   ],
   "outputs": [],
   "execution_count": null
  },
  {
   "cell_type": "markdown",
   "id": "8267ac49-85bf-48a6-97d4-84b8d377bfea",
   "metadata": {},
   "source": [
    "## Highlight Clashes"
   ]
  },
  {
   "cell_type": "code",
   "id": "02bf1a22-a189-4094-bed2-b0707bdcdca9",
   "metadata": {},
   "source": [
    "target_real = system._energy_model\n",
    "samples_xyz = samples.reshape(len(samples),samples.shape[-1]//3,3)\n",
    "\n",
    "context = target_real._bridge.context_wrapper._openmm_context\n",
    "\n",
    "forcelist = []\n",
    "for id,sample_xyz in tqdm(enumerate(samples_xyz)):\n",
    "    vec = []\n",
    "    for i in range(len(sample_xyz)):\n",
    "        vec.append(openmm.vec3.Vec3(sample_xyz[i,0],sample_xyz[i,1],sample_xyz[i,2]))\n",
    "    context.setPositions(vec)\n",
    "\n",
    "    state = context.getState(getPositions = True, getEnergy = True, getForces = True)\n",
    "    forces = state.getForces(asNumpy = True)._value\n",
    "    force_magn = np.linalg.norm(forces, axis=1)\n",
    "    forcelist.append(force_magn)\n",
    "forces = np.stack(forcelist,axis = 0)        \n",
    "        #force_magn.argmax()\n",
    "\n",
    "max_indices = forces.argsort(axis = -1)[:,-2:]\n",
    "\n",
    "top = system._mdtraj_topology\n",
    "traj = md.Trajectory(np.array(samples.reshape(samples.shape[0],-1,3)), topology=top)#[5:]\n",
    "traj.superpose(traj)\n",
    "#widget = nv.show_mdtraj(traj)\n",
    "#widget.add_representation(\"licorice\")\n",
    "#widget\n",
    "\n",
    "view = nv.show_mdtraj(traj, default_representation=False)\n",
    "view.add_licorice()\n",
    "view.add_cartoon(colorScheme = \"residueindex\")\n",
    "view.add_ball_and_stick(selection = max_indices[0], color = \"pink\", aspectRatio = 3.)\n",
    "view.center()\n",
    "\n",
    "import time\n",
    "\n",
    "def on_frame_change(change):\n",
    "    frame = change['new']\n",
    "    clashes = max_indices[frame]    \n",
    "    view._remove_representation(repr_index = 2)\n",
    "    view.add_ball_and_stick(selection = clashes, color = \"pink\", aspectRatio = 3.)\n",
    "\n",
    "\n",
    "view.observe(on_frame_change, names=['frame'])\n",
    "\n",
    "view"
   ],
   "outputs": [],
   "execution_count": null
  },
  {
   "cell_type": "markdown",
   "id": "ab6aab97-83d1-4c35-aa0e-cdd28972b980",
   "metadata": {
    "tags": []
   },
   "source": [
    "# Further Steps"
   ]
  },
  {
   "cell_type": "markdown",
   "id": "c37fddac-3061-4ffe-991f-398a7b39abe1",
   "metadata": {},
   "source": [
    "## Minimize Samples Energy"
   ]
  },
  {
   "cell_type": "code",
   "id": "a5dc2bbc-7480-4244-af2a-e63a8727ff52",
   "metadata": {},
   "source": [
    "#target_real._openmm_energy_bridge._n_simulation_steps = 0\n",
    "samples_xyz = samples.reshape(len(samples),samples.shape[-1]//3,3)\n",
    "#prmtop = openmm.app.amberprmtopfile.AmberPrmtopFile(os.path.join(filepath,'stripped_combined.prmtop'))\n",
    "simulation = openmm.app.simulation.Simulation(system._topology, system.system, openmm.LangevinIntegrator(300, 1, 0.002))\n",
    "threshold = Quantity(value=-1655.9926, unit=kilojoule/mole)\n",
    "\n",
    "#context = target_real._openmm_energy_bridge.context_wrapper._openmm_context\n",
    "\n",
    "samples_xyz_subset = samples_xyz[:10]"
   ],
   "outputs": [],
   "execution_count": null
  },
  {
   "cell_type": "code",
   "id": "b1b77111-6bbd-4bc1-b69a-8369c09b5287",
   "metadata": {},
   "source": [
    "# do keyboard interrupt once you have minimized some samples, no need to minimize them all.\n",
    "reporter = NetCDFReporter('relaxation.nc', 1)\n",
    "reporter_bad = NetCDFReporter('relaxation_bad.nc', 1)\n",
    "\n",
    "samples_minimized =  []\n",
    "samples_energies = []\n",
    "for id,sample_xyz in tqdm(enumerate(samples_xyz_subset)):\n",
    "    vec = []\n",
    "    for i in range(len(sample_xyz)):\n",
    "        vec.append(openmm.vec3.Vec3(sample_xyz[i,0],sample_xyz[i,1],sample_xyz[i,2]))\n",
    "    #context = target_real._openmm_energy_bridge.context_wrapper._openmm_context\n",
    "    context.setPositions(positions = vec)\n",
    "    state = context.getState(getPositions = True, getEnergy = True)\n",
    "    #simulation.reporters.append(NetCDFReporter('relaxation.nc', 1))\n",
    "    #state = simulation.context.getState(getPositions = True, getEnergy = True)\n",
    "    #e0 = state.getPotentialEnergy()\n",
    "    energies = []\n",
    "    #positions = []\n",
    "    e = state.getPotentialEnergy()\n",
    "    energies.append(e)\n",
    "    reporter.report(simulation,state)\n",
    "    while e > threshold:\n",
    "        e2 = copy.copy(e)\n",
    "        LocalEnergyMinimizer.minimize(context,maxIterations = 2)\n",
    "        state = context.getState(getPositions = True, getEnergy = True)\n",
    "        #pos = state.getPositions()\n",
    "        \n",
    "        e = state.getPotentialEnergy()\n",
    "        #ipdb.set_trace()\n",
    "        if e2 == e or len(energies) > 20:\n",
    "            if e2 == e:\n",
    "                reporter_bad.report(simulation,state)\n",
    "            break\n",
    "        energies.append(e)\n",
    "        reporter.report(simulation,state)\n",
    "\n",
    "        #simulation.minimizeEnergy(maxIterations = 2)\n",
    "        \n",
    "        #ipdb.set_trace()\n",
    "        #positions.append(pos)\n",
    "        \n",
    "    #state = context.getState(getPositions = True, getEnergy = True)\n",
    "    #pos = state.getPositions()\n",
    "    #e = state.getPotentialEnergy()\n",
    "    reporter.report(simulation,state)\n",
    "    energies.append(e)\n",
    "    #positions.append(pos)\n",
    "\n",
    "\n",
    "    #simulation.step(1i00)\n",
    "    #state = simulation.context.getState(getPositions = True, getEnergy = True)\n",
    "    minimized = torch.Tensor(np.array(state.getPositions(asNumpy = True).reshape((1,system.topology._numAtoms*3))))\n",
    "\n",
    "    samples_minimized.append(minimized)\n",
    "    #ipdb.set_trace()\n",
    "    samples_energies.append(e)\n",
    "samples_minimized = torch.cat(samples_minimized)\n",
    "samples_energies = torch.cat(samples_energies)\n",
    "\n",
    "#inp.median([energy._value for energy in samples_energies])"
   ],
   "outputs": [],
   "execution_count": null
  },
  {
   "cell_type": "markdown",
   "id": "b0379ffc-d637-4e53-ba3c-d28231b06361",
   "metadata": {},
   "source": [
    "### Visualize Relaxation"
   ]
  },
  {
   "cell_type": "code",
   "id": "68b27c8e-2673-42ec-b79d-625728cb6348",
   "metadata": {},
   "source": [
    "#traj = pt.load('relaxation.nc', top=os.path.join(filepath,'stripped_combined.prmtop'))\n",
    "##traj = traj.superpose(traj)\n",
    "##data_relax = traj.xyz.reshape(len(traj.xyz), -1)\n",
    "#wid = nglview.show_pytraj(traj)\n",
    "#wid.add_representation(\"licorice\")\n",
    "#wid\n",
    "\n",
    "traj = md.load_netcdf('relaxation.nc', top=system._mdtraj_topology)\n",
    "traj = traj.superpose(traj)\n",
    "data_relax = traj.xyz.reshape(len(traj.xyz), -1)[31:]\n",
    "wid = show_structures(data_relax)\n",
    "wid"
   ],
   "outputs": [],
   "execution_count": null
  },
  {
   "cell_type": "markdown",
   "id": "6f3e2b94-63ca-455f-bb3b-34145a4d230a",
   "metadata": {},
   "source": [
    "## Sampling Efficiency"
   ]
  },
  {
   "cell_type": "code",
   "id": "6906092a-edbf-43f4-b97e-13160b16a899",
   "metadata": {},
   "source": [
    "#this is a measure for the quality of the BG samples.\n",
    "#A perfect generator would have sampling efficiency of 1.\n",
    "from torch.utils.data import DataLoader \n",
    "\n",
    "weightdata = test_data[list(np.random.choice(len(test_data),1000))]\n",
    "weightloader = DataLoader(weightdata, batch_size=100, shuffle=True, drop_last = True)\n",
    "log_w = []\n",
    "for batch in weightloader:\n",
    "    log_w.append(generator.log_weights(batch.to(**ctx)))\n",
    "log_w = torch.cat(log_w)\n",
    "bg.sampling_efficiency(log_w)\n"
   ],
   "outputs": [],
   "execution_count": null
  },
  {
   "cell_type": "markdown",
   "id": "ea18af5c-7d4b-4cf0-aaf6-1632a90ab120",
   "metadata": {
    "tags": []
   },
   "source": [
    "# Marginals of the torsions/angles/bonds"
   ]
  },
  {
   "cell_type": "code",
   "id": "a713ccb8-b009-472b-a4a1-9a139f5d3096",
   "metadata": {},
   "source": [
    "def plot_ics(name, data, data2=None, data3=None, chosen=None):\n",
    "    data = assert_numpy(data)\n",
    "    if data2 is not None:\n",
    "        data2 = assert_numpy(data2)\n",
    "    if data3 is not None:\n",
    "        data3 = assert_numpy(data3)\n",
    "    if chosen is None:\n",
    "        chosen = np.random.choice(range(len(data[0,:])))\n",
    "    plt.figure(figsize=(14, 4))\n",
    "    plt.subplot(1,2,1)\n",
    "    plt.title(name+' %d of %d'%(chosen+1, len(data[0,:])))\n",
    "    plt.plot(data[:,chosen], 'o')\n",
    "    if data2 is not None:\n",
    "        plt.plot(data2[:,chosen], 'o')\n",
    "    if data3 is not None:\n",
    "        plt.plot(data3[:,chosen], 'o')\n",
    "    plt.subplot(1,2,2)\n",
    "    plt.hist(data[:,chosen], bins=50, density=True, histtype='step', label='target')\n",
    "    if data2 is not None:\n",
    "        plt.hist(data2[:,chosen], bins=50, density=True, histtype='step', label='generated')\n",
    "    if data3 is not None:\n",
    "        plt.hist(data3[:,chosen], bins=50, density=True, histtype='step', label='prior')\n",
    "    plt.legend()\n",
    "    plt.show()"
   ],
   "outputs": [],
   "execution_count": null
  },
  {
   "cell_type": "markdown",
   "id": "ad6a9f4b-188a-4ea7-8bfa-417130fcb7ee",
   "metadata": {},
   "source": [
    "## NLL"
   ]
  },
  {
   "cell_type": "code",
   "id": "a79e69f6-196e-41d9-be71-77129d88a03b",
   "metadata": {},
   "source": [
    "n_samples = 10000\n",
    "\n",
    "samples = np.concatenate([\n",
    "    as_numpy(generator.sample(100))\n",
    "    for _ in tqdm(range(100))\n",
    "])\n",
    "\n",
    "with torch.no_grad():\n",
    "    ics_t = coordinate_transform.forward(training_data[:n_samples].to(**ctx))\n",
    "    ics_m = coordinate_transform.forward(torch.Tensor(samples).to(**ctx))\n",
    "    # ics_m = generator.prior.sample(n_samples)\n",
    "    l = 2\n",
    "    title = ['bonds', 'angles', 'torsions', 'fixed', 'euler', 'dlogp']\n",
    "    for i in range(ics_t[l].shape[1]):\n",
    "        plot_ics(title[l], ics_t[l], data2=ics_m[l], chosen=i)\n",
    "    del ics_t, ics_m"
   ],
   "outputs": [],
   "execution_count": null
  },
  {
   "cell_type": "markdown",
   "id": "3b39729f-d574-4183-99b6-3f5bdaab8f6b",
   "metadata": {},
   "source": [
    "## NLL + KLL"
   ]
  },
  {
   "cell_type": "code",
   "id": "4f924985-b40f-41b0-aba3-30046467f6de",
   "metadata": {},
   "source": [
    "n_samples = 10000\n",
    "\n",
    "samples = np.concatenate([\n",
    "    as_numpy(generator.sample(100))\n",
    "    for _ in tqdm(range(100))\n",
    "])\n",
    "\n",
    "\n",
    "with torch.no_grad():\n",
    "    ics_t = coordinate_transform.forward(training_data[:n_samples].to(**ctx))\n",
    "    ics_m = coordinate_transform.forward(torch.Tensor(samples).to(**ctx))\n",
    "    # ics_m = generator.prior.sample(n_samples)\n",
    "    l = 2\n",
    "    title = ['bonds', 'angles', 'torsions', 'fixed', '???', 'dlogp']\n",
    "    for i in range(ics_t[l].shape[1]):\n",
    "        plot_ics(title[l], ics_t[l], data2=ics_m[l], chosen=i)\n",
    "    del ics_t, ics_m"
   ],
   "outputs": [],
   "execution_count": null
  },
  {
   "cell_type": "markdown",
   "id": "c2197750-f072-489c-9fb9-0ad83091c646",
   "metadata": {},
   "source": [
    "## KLL"
   ]
  },
  {
   "cell_type": "code",
   "id": "3f3fe947-d8e0-4258-a27d-38a68a52b411",
   "metadata": {},
   "source": [
    "n_samples = 10000\n",
    "\n",
    "samples = np.concatenate([\n",
    "    as_numpy(generator.sample(100))\n",
    "    for _ in tqdm(range(100))\n",
    "])\n",
    "\n",
    "with torch.no_grad():\n",
    "    ics_t = coordinate_transform.forward(training_data[:n_samples].to(**ctx))\n",
    "    ics_m = coordinate_transform.forward(torch.Tensor(samples).to(**ctx))\n",
    "    # ics_m = generator.prior.sample(n_samples)\n",
    "    l = 2\n",
    "    title = ['bonds', 'angles', 'torsions', 'fixed', '???', 'dlogp']\n",
    "    for i in range(ics_t[l].shape[1]):\n",
    "        plot_ics(title[l], ics_t[l], data2=ics_m[l], chosen=i)\n",
    "    del ics_t, ics_m"
   ],
   "outputs": [],
   "execution_count": null
  },
  {
   "cell_type": "markdown",
   "id": "bf1e1fec-4f21-446d-8c61-87ae2553f10b",
   "metadata": {},
   "source": [
    "## KLL (no GB)"
   ]
  },
  {
   "cell_type": "code",
   "id": "f684b718-aae3-4304-b7b8-27a02018b174",
   "metadata": {},
   "source": [
    "from tqdm import tqdm\n",
    "from bgflow.utils import as_numpy\n",
    "\n",
    "n_samples = 10000\n",
    "\n",
    "samples = np.concatenate([\n",
    "    as_numpy(generator.sample(100))\n",
    "    for _ in tqdm(range(100))\n",
    "])\n",
    "\n",
    "\n",
    "with torch.no_grad():\n",
    "    ics_t = coordinate_transform.forward(training_data[:n_samples].to(**ctx))\n",
    "    ics_m = coordinate_transform.forward(torch.Tensor(samples).to(**ctx))\n",
    "    # ics_m = generator.prior.sample(n_samples)\n",
    "    l = 2\n",
    "    title = ['bonds', 'angles', 'torsions', 'fixed', '???', 'dlogp']\n",
    "    for i in range(ics_t[l].shape[1]):\n",
    "        plot_ics(title[l], ics_t[l], data2=ics_m[l], chosen=i)\n",
    "    del ics_t, ics_m"
   ],
   "outputs": [],
   "execution_count": null
  },
  {
   "cell_type": "code",
   "id": "5aadfe63-f258-4fcc-a299-8ab23dc571bf",
   "metadata": {},
   "source": [],
   "outputs": [],
   "execution_count": null
  }
 ],
 "metadata": {
  "kernelspec": {
   "display_name": "Python 3 (ipykernel)",
   "language": "python",
   "name": "python3"
  },
  "language_info": {
   "codemirror_mode": {
    "name": "ipython",
    "version": 3
   },
   "file_extension": ".py",
   "mimetype": "text/x-python",
   "name": "python",
   "nbconvert_exporter": "python",
   "pygments_lexer": "ipython3",
   "version": "3.10.9"
  }
 },
 "nbformat": 4,
 "nbformat_minor": 5
}
