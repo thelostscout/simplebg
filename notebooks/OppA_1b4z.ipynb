{
 "cells": [
  {
   "cell_type": "markdown",
   "id": "683dafe7-8c81-4e51-89c2-668565b513aa",
   "metadata": {},
   "source": [
    "# Setup"
   ]
  },
  {
   "cell_type": "code",
   "execution_count": 1,
   "id": "18b8363c-0ff6-4fd2-a3d6-1889608a75ac",
   "metadata": {},
   "outputs": [
    {
     "data": {
      "application/vnd.jupyter.widget-view+json": {
       "model_id": "9e0c70b314df4059b4e0ebc691e128cb",
       "version_major": 2,
       "version_minor": 0
      },
      "text/plain": []
     },
     "metadata": {},
     "output_type": "display_data"
    }
   ],
   "source": [
    "from ipdb import set_trace as bp\n",
    "import torch\n",
    "import mdtraj as md\n",
    "import os\n",
    "import numpy as np\n",
    "from scipy.stats import shapiro\n",
    "import warnings\n",
    "from typing import Union\n",
    "import ipynbname\n",
    "import openmm\n",
    "from openmm import LocalEnergyMinimizer\n",
    "from openmm.unit import *\n",
    "from contextlib import redirect_stdout\n",
    "from tqdm import tqdm\n",
    "from mdtraj.reporters import NetCDFReporter\n",
    "import copy\n",
    "from itertools import combinations\n",
    "import nflows\n",
    "import scipy\n",
    "from scipy import stats\n",
    "import math\n",
    "\n",
    "\n",
    "#BGMOL\n",
    "import bgmol\n",
    "import bgflow as bg\n",
    "from bgflow.utils.types import assert_numpy\n",
    "from bgmol.systems.peptide import peptide\n",
    "from bgmol.zmatrix import ZMatrixFactory\n",
    "from bgflow.nn.flow.transformer.base import Flow\n",
    "from bgflow import (BoltzmannGeneratorBuilder, BONDS, ANGLES, TORSIONS, FIXED, AUGMENTED, ORIGIN, ROTATION, ShapeDictionary)\n",
    "from bgflow import InternalCoordinateMarginals, BoltzmannGeneratorBuilder\n",
    "from bgmol import bond_constraints\n",
    "from bgflow.distribution.energy.clipped import LinLogCutEnergy\n",
    "from bgflow.utils import as_numpy\n",
    "\n",
    "#Plotting and Visualisation\n",
    "import nglview as nv\n",
    "from matplotlib import pyplot as plt\n",
    "import matplotlib.patches as mpatches\n",
    "import matplotlib as mpl\n",
    "import seaborn as sns\n",
    "from sklearn.decomposition import PCA\n",
    "from sklearn.decomposition import IncrementalPCA\n",
    "import MDAnalysis.analysis.pca as pca\n",
    "import MDAnalysis as mda\n",
    "from MDAnalysis.analysis.dihedrals import Dihedral\n",
    "from MDAnalysis.analysis import helix_analysis as hel\n",
    "import ipywidgets as widgets\n"
   ]
  },
  {
   "cell_type": "code",
   "execution_count": 2,
   "id": "b55ddbb7-a917-4e51-9d0c-300955dfff10",
   "metadata": {},
   "outputs": [],
   "source": [
    "%load_ext autoreload\n",
    "\n",
    "%autoreload 2"
   ]
  },
  {
   "cell_type": "code",
   "execution_count": 3,
   "id": "danish-antique",
   "metadata": {},
   "outputs": [],
   "source": [
    "device = torch.device(\"cpu\") if torch.cuda.is_available() else torch.device(\"cpu\")\n",
    "dtype = torch.float32\n",
    "\n",
    "# a context tensor to send data to the right device and dtype via '.to(ctx)'\n",
    "ctx = {\"device\": device, \"dtype\": dtype}\n",
    "\n",
    "# a brief check if this module is the main executable (or imported)\n",
    "main = (__name__ == \"__main__\")"
   ]
  },
  {
   "cell_type": "markdown",
   "id": "d684afa8-5b84-4c2c-8cc4-cd91c228ecbb",
   "metadata": {
    "tags": []
   },
   "source": [
    "# Define Peptide/load data"
   ]
  },
  {
   "cell_type": "code",
   "execution_count": 6,
   "id": "b811c267-ae59-4a66-b1a4-37f3c96cb648",
   "metadata": {},
   "outputs": [],
   "source": [
    "#first four lines have to adapted\n",
    "complex_name = 'OppA'\n",
    "peptide_name = '1b4z'\n",
    "n_atoms = 59\n",
    "n_res = 3\n",
    "\n",
    "#filepath = f'/data/mcm/meyerml/BG/Systems/{complex_name}/Peptides/{peptide_name}'\n",
    "filepath = f'/hits/basement/mcm/emmertme/Boltzmann/BG/Systems/{complex_name}/Peptides/{peptide_name}/10_7_steps'\n",
    "system = peptide(short = False, n_atoms=n_atoms, n_res=n_res, filepath=filepath, complex_name=complex_name, peptide_name=peptide_name)\n",
    "topology = system._mdtraj_topology"
   ]
  },
  {
   "cell_type": "code",
   "execution_count": 50,
   "id": "773f39d4-84f7-46d9-b4c1-8a9d13ceb4b3",
   "metadata": {},
   "outputs": [],
   "source": [
    "traj = md.load_pdb(os.path.join(filepath,'traj.pdb'), top=topology)"
   ]
  },
  {
   "cell_type": "code",
   "execution_count": 4,
   "id": "e07578db-05a8-42a0-95e4-82aeea67996d",
   "metadata": {},
   "outputs": [],
   "source": [
    "nb_fname = ipynbname.name()\n",
    "nb_path = ipynbname.path()\n",
    "\n",
    "#traj.save(f'traj{nb_fname}_7.h5')\n",
    "traj=md.load_hdf5(f'traj{nb_fname}_7.h5')\n",
    "\n",
    "traj.n_atoms\n",
    "data = traj.xyz.reshape(len(traj.xyz), -1)"
   ]
  },
  {
   "cell_type": "markdown",
   "id": "b9038967-9ebe-4655-9dc1-8a893a399f20",
   "metadata": {
    "tags": []
   },
   "source": [
    "## Load explicit solvent traj"
   ]
  },
  {
   "cell_type": "code",
   "execution_count": null,
   "id": "dc736bf6-62cf-41f1-8260-5abd2582d804",
   "metadata": {
    "scrolled": true,
    "tags": []
   },
   "outputs": [],
   "source": [
    "filepath = f'/hits/basement/mcm/emmertme/Haswell_Peptide_Simulations/{complex_name}/Peptides/{peptide_name}/explicit_solvent/Output/Trajectory/'\n",
    "\n",
    "expl_traj=md.load_hdf5(f'expl_traj{nb_fname}.h5')"
   ]
  },
  {
   "cell_type": "code",
   "execution_count": 32,
   "id": "d18db7bc-41c2-4ebc-92a2-e09a0f688c52",
   "metadata": {},
   "outputs": [
    {
     "data": {
      "application/vnd.jupyter.widget-view+json": {
       "model_id": "9fa3d963229946f0b5f67ee4f12b857a",
       "version_major": 2,
       "version_minor": 0
      },
      "text/plain": [
       "NGLWidget(max_frame=999)"
      ]
     },
     "metadata": {},
     "output_type": "display_data"
    }
   ],
   "source": [
    "widget = nv.show_mdtraj(expl_traj)\n",
    "widget.add_representation(\"licorice\")\n",
    "\n",
    "widget"
   ]
  },
  {
   "cell_type": "code",
   "execution_count": null,
   "id": "d5846169-8c9c-4d3d-bff3-24ecdf497fee",
   "metadata": {},
   "outputs": [],
   "source": [
    "#list(expl_traj.topology.atoms)"
   ]
  },
  {
   "cell_type": "markdown",
   "id": "6277d2f2-3289-4439-9f68-e981c0bafb7c",
   "metadata": {},
   "source": [
    "# Visualize MD Data"
   ]
  },
  {
   "cell_type": "code",
   "execution_count": 7,
   "id": "d5fa4760-71ef-4f6e-9450-e2d8063b5730",
   "metadata": {},
   "outputs": [
    {
     "data": {
      "application/vnd.jupyter.widget-view+json": {
       "model_id": "d20494cb0021479fb991ea052fe76d35",
       "version_major": 2,
       "version_minor": 0
      },
      "text/plain": [
       "NGLWidget(max_frame=9999)"
      ]
     },
     "metadata": {},
     "output_type": "display_data"
    }
   ],
   "source": [
    "def show_structures(traj, top=system.mdtraj_topology):\n",
    "    if not isinstance(traj, md.Trajectory):\n",
    "        n_samples = traj.shape[0]\n",
    "        traj = md.Trajectory(traj.reshape(n_samples, -1, 3), topology=top)\n",
    "    traj.superpose(traj)\n",
    "    widget = nv.show_mdtraj(traj)\n",
    "    widget.add_representation(\"licorice\")\n",
    "    return widget\n",
    "\n",
    "wid=show_structures(data)\n",
    "wid"
   ]
  },
  {
   "cell_type": "markdown",
   "id": "7b052d28-a855-4d1a-b705-ccb68c2f837a",
   "metadata": {},
   "source": [
    "## Split MD Data"
   ]
  },
  {
   "cell_type": "code",
   "execution_count": 52,
   "id": "metric-reply",
   "metadata": {},
   "outputs": [
    {
     "name": "stdout",
     "output_type": "stream",
     "text": [
      "number of snapshots: 10000\n",
      "dimensions training and test data: torch.Size([5000, 177]) torch.Size([5000, 177])\n"
     ]
    }
   ],
   "source": [
    "#system.mdtraj_topology.to_dataframe()\n",
    "xyz = traj.xyz #xyz are the trajectories coordinates\n",
    "print('number of snapshots:', len(data))\n",
    "\n",
    "n_train = len(data)//2\n",
    "n_test = len(data) - n_train\n",
    "permutation = np.random.permutation(n_train)\n",
    "\n",
    "all_data = xyz.reshape(-1, traj.n_atoms*3)\n",
    "training_data = torch.tensor(all_data[permutation], **ctx)\n",
    "test_data = torch.tensor(all_data[permutation + n_train], **ctx)\n",
    "\n",
    "print('dimensions training and test data:', training_data.shape, test_data.shape)"
   ]
  },
  {
   "cell_type": "markdown",
   "id": "5e9a42e4-9491-4d20-8139-0e0e0e3b9b1a",
   "metadata": {
    "tags": []
   },
   "source": [
    "## PCA"
   ]
  },
  {
   "cell_type": "code",
   "execution_count": 53,
   "id": "db13f565-9bf3-47d5-8624-d7967126b0a8",
   "metadata": {},
   "outputs": [
    {
     "name": "stderr",
     "output_type": "stream",
     "text": [
      "/home/emmertme/bgflow/bgflow/distribution/energy/openmm.py:209: UserWarning: It looks like you are using an OpenMMBridge with multiple workers in an ipython environment. This can behave a bit silly upon KeyboardInterrupt (e.g., kill the stdout stream). If you experience any issues, consider initializing the bridge with n_workers=1 in ipython/jupyter.\n",
      "  warnings.warn(\n"
     ]
    }
   ],
   "source": [
    "# define target_energy, is later used in 'Build the BG'\n",
    "system.reinitialize_energy_model(temperature=300, platform_name=\"CPU\")\n",
    "target_energy = system._energy_model "
   ]
  },
  {
   "cell_type": "code",
   "execution_count": 54,
   "id": "22ee691e-5e23-47a1-8334-1a87ad2f0cf9",
   "metadata": {
    "tags": []
   },
   "outputs": [],
   "source": [
    "def distances(xyz):\n",
    "    distance_matrix_ca = np.linalg.norm(xyz[:, None, :, :] - xyz[:, :, None, :], axis=-1)\n",
    "    n_ca = distance_matrix_ca.shape[-1]\n",
    "    m, n = np.triu_indices(n_ca, k=1)\n",
    "    distances_ca = distance_matrix_ca[:, m, n]\n",
    "    return distances_ca\n",
    "\n",
    "def dihedrals(xyz):\n",
    "    n_atoms = xyz.shape[1]\n",
    "    top, traj = bgmol.build_fake_topology(n_atoms, coordinates=xyz)\n",
    "    dihedral_indices = np.array( [list(range(i,i+4)) for i in range(n_atoms-3)] )\n",
    "    dihedrals = md.compute_dihedrals(traj, dihedral_indices)\n",
    "    return dihedrals\n",
    "\n",
    "c_atoms = system.mdtraj_topology.select(\"backbone and (name C or name N)\")#[:3]\n",
    "\n",
    "system.reinitialize_energy_model(temperature=300, platform_name=\"CPU\", n_workers = 1)\n",
    "system.mdtraj_topology\n",
    "\n",
    "def plot_pcs(ax, pcs, bins=100):\n",
    "    #ax.set_xlim(-1, 1.5)\n",
    "    #ax.set_ylim(-1.5, 2)\n",
    "    ax.set_xlabel(\"PC1\")\n",
    "    ax.set_ylabel(\"PC2\")\n",
    "    ax.hist2d(pcs[...,0], pcs[...,1], bins=bins, #range=[[-.5,1.5], [-1.5,1]],\n",
    "              density=True, norm=mpl.colors.LogNorm())"
   ]
  },
  {
   "cell_type": "code",
   "execution_count": null,
   "id": "bed6093f-b6c0-4900-975c-cefc1215120b",
   "metadata": {},
   "outputs": [],
   "source": [
    "pca2 = PCA(n_components=2)\n",
    "\n",
    "atom_pairs = list(combinations(range(traj.n_atoms), 2))\n",
    "pairwise_distances = md.geometry.compute_distances(traj, atom_pairs)\n",
    "print(pairwise_distances.shape)\n",
    "reduced_distances = pca2.fit_transform(pairwise_distances)\n",
    "\n",
    "plt.figure()\n",
    "#plt.scatter(reduced_cartesian[:, 0], reduced_cartesian[:,1], marker='o', c=traj.time)\n",
    "plt.hist2d(reduced_cartesian[:, 0], reduced_cartesian[:,1], bins=100, density=True, norm=mpl.colors.LogNorm())\n",
    "plt.xlabel('PC1')\n",
    "plt.ylabel('PC2')\n",
    "plt.title('Cartesian coordinate PCA: 1b4z')\n",
    "cbar = plt.colorbar()\n",
    "cbar.set_label('log(Time [4 ps])')"
   ]
  },
  {
   "cell_type": "code",
   "execution_count": 55,
   "id": "1abdebca-a73e-4c35-8fb7-cd48f9c231d7",
   "metadata": {},
   "outputs": [
    {
     "data": {
      "image/png": "[encoded data removed]",
      "text/plain": [
       "<Figure size 360x360 with 1 Axes>"
      ]
     },
     "metadata": {
      "needs_background": "light"
     },
     "output_type": "display_data"
    }
   ],
   "source": [
    "pca_fit_md = PCA(n_components=2)\n",
    "dihed = dihedrals(xyz)\n",
    "pca_fit_md.fit(dihed)\n",
    "dihed = pca_fit_md.transform(dihed)\n",
    "\n",
    "fig, axes = plt.subplots(figsize=(5,5))\n",
    "plot_pcs(axes, dihed)\n",
    "fig.tight_layout()\n",
    "fig.show()\n",
    "plt.savefig(f\"figures/PCA_{nb_fname}_MD_7.png\")"
   ]
  },
  {
   "cell_type": "markdown",
   "id": "2e9f4706-2300-43f4-b07b-d8561b4fef62",
   "metadata": {
    "tags": []
   },
   "source": [
    "### Vacuum Trajectory"
   ]
  },
  {
   "cell_type": "code",
   "execution_count": null,
   "id": "49d3323f-d2fe-4523-b05a-a507ece4e2cb",
   "metadata": {},
   "outputs": [],
   "source": [
    "filepath = f'/hits/basement/mcm/emmertme/Boltzmann/BG/Systems/{complex_name}/Peptides/{peptide_name}/vacuum'\n",
    "\n",
    "traj_vacuum_md = md.load_pdb(os.path.join(filepath,'out_md.pdb'))\n",
    "\n",
    "traj_vacuum_md.save(f'traj{nb_fname}_vacuum_md.h5')"
   ]
  },
  {
   "cell_type": "code",
   "execution_count": null,
   "id": "201d398e-c5d6-4c23-9540-1f8d20cda0f2",
   "metadata": {},
   "outputs": [],
   "source": [
    "traj_vacuum_md=md.load_hdf5(f'traj{nb_fname}_vacuum_md.h5')\n",
    "\n",
    "traj_KLL_no_GB=md.load_hdf5(f\"bg_traj_KLL_no_GB_{nb_fname}.h5\")"
   ]
  },
  {
   "cell_type": "code",
   "execution_count": null,
   "id": "9b034814-efe0-4770-9eeb-c9a10aedff82",
   "metadata": {},
   "outputs": [],
   "source": [
    "#First run the dihedrals function\n",
    "pca = PCA(n_components=2)\n",
    "dihed = dihedrals(traj_vacuum_md.xyz)\n",
    "pca.fit(dihed)\n",
    "dihed = pca.transform(dihed)\n",
    "\n",
    "fig, axes = plt.subplots(figsize=(5,5))\n",
    "plot_pcs(axes, dihed)\n",
    "fig.tight_layout()\n",
    "fig.show()\n",
    "plt.savefig(f\"figures/PCA_{nb_fname}_vacuum_MD.png\")\n",
    "\n",
    "#First run the dihedrals function\n",
    "\n",
    "dihed = dihedrals(traj_KLL_no_GB.xyz)\n",
    "dihed = pca.transform(dihed)\n",
    "\n",
    "fig, axes = plt.subplots(figsize=(5,5))\n",
    "plot_pcs(axes, dihed)\n",
    "fig.tight_layout()\n",
    "fig.show()\n",
    "plt.savefig(f\"figures/PCA_{nb_fname}_vacuum_BG.png\")"
   ]
  },
  {
   "cell_type": "markdown",
   "id": "069b7e6e-6f6c-4166-be63-2d523b57ace6",
   "metadata": {},
   "source": [
    "# Prepare Data"
   ]
  },
  {
   "cell_type": "markdown",
   "id": "db0a4cde-b315-4778-b630-f292d50e7c13",
   "metadata": {},
   "source": [
    "## Create Z-Matrix and assign (non-)gaussian torsions"
   ]
  },
  {
   "cell_type": "code",
   "execution_count": 56,
   "id": "05cdf10b-51fe-4d39-ab3c-f00f84a06b46",
   "metadata": {},
   "outputs": [
    {
     "name": "stdout",
     "output_type": "stream",
     "text": [
      "Tot Gaussian: 35\n",
      "Tot Gaussian-if-shifted: 9\n",
      "Tot trivial torsions: 44\n"
     ]
    }
   ],
   "source": [
    "zfactory = ZMatrixFactory(system.mdtraj_topology)\n",
    "\n",
    "z_matrix, fixed_atoms = zfactory.build_with_templates()\n",
    "#wird fuer die transformation von internen koordinaten (ICs) in kartesische Koordinaten  gebraucht.\n",
    "#in jeder reihe: plaziere atom 1 besierend auf den kartesischen koordinaten der atome 2,3,4, sowie den ICs\n",
    "\n",
    "FOLD_METHYL = False\n",
    "\n",
    "#set if torsion is gaussian and if has to be shifted\n",
    "with torch.no_grad():\n",
    "    coordinate_transform = bg.GlobalInternalCoordinateTransformation(z_matrix)\n",
    "    torsions_values = assert_numpy(coordinate_transform.forward(training_data)[2])\n",
    "    if FOLD_METHYL:\n",
    "        #set methyl groups. these are also trivial, but some are too uniform to be modelled as truncated gaussian\n",
    "        is_methyl = bgmol.is_methyl_torsion(z_matrix, model.mdtraj_topology)\n",
    "        torsions_values[:, is_methyl[3:]] = (torsions_values[:, is_methyl[3:]] % (1/3)) * 3 #fold the methyls\n",
    "    n_torsions = torsions_values.shape[-1]\n",
    "\n",
    "\n",
    "with warnings.catch_warnings():\n",
    "    warnings.filterwarnings('ignore', message='p-value may not be accurate for N > 5000.')\n",
    "    is_gaussian = np.full(n_torsions, False)\n",
    "    is_tobe_shifted = np.full(n_torsions, False)\n",
    "    for t in range(n_torsions):\n",
    "        pvalue = shapiro(torsions_values[:,t])[1]\n",
    "        if pvalue > 0:\n",
    "            is_gaussian[t] = True\n",
    "        else:\n",
    "            pvalue = shapiro((torsions_values[:,t]+0.5)%1)[1]\n",
    "            if pvalue > 0:\n",
    "                is_tobe_shifted[t] = True\n",
    "\n",
    "is_gaussian = np.append(np.full(3, False), is_gaussian) #add first three anchor points\n",
    "is_tobe_shifted = np.append(np.full(3, False), is_tobe_shifted) #add first three anchor points\n",
    "is_trivial = is_gaussian + is_tobe_shifted\n",
    "n_trivialt = (is_trivial).sum()\n",
    "\n",
    "if FOLD_METHYL:\n",
    "    print('Tot methyl:', is_methyl.sum(), 'of which', np.logical_and(is_trivial, is_methyl).sum(), 'are gaussian')\n",
    "print('Tot Gaussian:', is_gaussian.sum())\n",
    "print('Tot Gaussian-if-shifted:', is_tobe_shifted.sum())\n",
    "print('Tot trivial torsions:', n_trivialt)\n",
    "z_matrix = np.vstack((z_matrix[~is_trivial], z_matrix[is_gaussian], z_matrix[is_tobe_shifted]))"
   ]
  },
  {
   "cell_type": "markdown",
   "id": "6143a51e-681f-4920-96a3-4457e570e88c",
   "metadata": {},
   "source": [
    "## Flow to shift gaussian to uniform distribution"
   ]
  },
  {
   "cell_type": "code",
   "execution_count": 57,
   "id": "1c3f6075-2067-4798-b256-d4c7fe7cb51b",
   "metadata": {},
   "outputs": [],
   "source": [
    "def _assert_in_unit_interval(x):\n",
    "    if (x > 1 + 1e-6).any() or (x < - 1e-6).any():\n",
    "        raise ValueError(f'IncreaseMultiplicityFlow operates on [0,1] but input was {x}')\n",
    "\n",
    "class CircularShiftFlow(Flow):\n",
    "    \"\"\"A flow that shifts the position of torsional degrees of freedom.\n",
    "    The input and output tensors are expected to be in [0,1].\n",
    "    The output is a translated version of the input, respecting circulariry.\n",
    "    Parameters\n",
    "    ----------\n",
    "    shift : Union[torch.Tensor, float]\n",
    "        A tensor that defines the translation of the circular interval\n",
    "    \"\"\"\n",
    "\n",
    "    def __init__(self, shift):\n",
    "        super().__init__()\n",
    "        self.register_buffer(\"_shift\", torch.as_tensor(shift))\n",
    "\n",
    "    def _forward(self, x, **kwargs):\n",
    "        _assert_in_unit_interval(x)\n",
    "        y = (x + self._shift) % 1\n",
    "        dlogp = torch.zeros_like(x[..., [0]])\n",
    "        return y, dlogp\n",
    "\n",
    "    def _inverse(self, x, **kwargs):\n",
    "        _assert_in_unit_interval(x)\n",
    "        y = (x - self._shift) % 1\n",
    "        dlogp = torch.zeros_like(x[..., [0]])\n",
    "        return y, dlogp"
   ]
  },
  {
   "cell_type": "markdown",
   "id": "c1756422-472f-4a8b-98d1-3f97d429d5d3",
   "metadata": {},
   "source": [
    "## Coordinate Transformation"
   ]
  },
  {
   "cell_type": "code",
   "execution_count": 58,
   "id": "52c76b24-a4ef-49f3-98a9-763837ecbd9c",
   "metadata": {},
   "outputs": [
    {
     "name": "stdout",
     "output_type": "stream",
     "text": [
      "torch.Size([1, 44])\n",
      "ShapeDictionary([(TensorInfo(name='BONDS', is_circular=False, is_cartesian=False), (26,)), (TensorInfo(name='ANGLES', is_circular=False, is_cartesian=False), (57,)), (TensorInfo(name='NONTRIVIAL_TORSIONS', is_circular=True, is_cartesian=False), (12,)), (TensorInfo(name='TRIVIAL_TORSIONS', is_circular=True, is_cartesian=False), (44,))])\n"
     ]
    }
   ],
   "source": [
    "ic = bg.GlobalInternalCoordinateTransformation(z_matrix) #internal coordinates\n",
    "\n",
    "coordinate_transform = ic.to(**ctx)\n",
    "constrained_indices, constrained_lengths = bgmol.bond_constraints(\n",
    "    system.system,\n",
    "    coordinate_transform\n",
    ")\n",
    "shape_info = ShapeDictionary.from_coordinate_transform(\n",
    "    coordinate_transform,\n",
    "    n_constraints=system.system.getNumConstraints()\n",
    ")\n",
    "\n",
    "torsions_shift = torch.zeros(n_torsions).to(**ctx)\n",
    "torsions_shift[-is_tobe_shifted.sum():] = 0.5  #those to be shifted where placed at the end\n",
    "\n",
    "prepareTorsions = CircularShiftFlow(torsions_shift)\n",
    "\n",
    "#build marginal for trivial torsions\n",
    "with torch.no_grad():\n",
    "    torsions_values = coordinate_transform.forward(training_data)[2]\n",
    "    trivial_torsions_values = prepareTorsions(torsions_values)[0][:,-n_trivialt:]\n",
    "        \n",
    "trivial_torsions_marginal = bg.TruncatedNormalDistribution(\n",
    "    mu=trivial_torsions_values.mean(axis=0),\n",
    "    sigma=trivial_torsions_values.std(axis=0),\n",
    "    lower_bound=torch.tensor(0),\n",
    "    upper_bound=torch.tensor(1)\n",
    ").to(**ctx)\n",
    "with torch.no_grad():\n",
    "    print(trivial_torsions_marginal.sample(1).shape)\n",
    "\n",
    "    \n",
    "\n",
    "#md_data = torch.as_tensor(traj.xyz.reshape(-1,3*len(list(system.topology.atoms()))))\n",
    "#bonds, angles, torsions, origin, rotation, dlogp = ic.forward(md_data)\n",
    "\n",
    "\n",
    "\n",
    "NONTRIVIAL_TORSIONS = bg.TensorInfo(name='NONTRIVIAL_TORSIONS', is_circular=True)\n",
    "TRIVIAL_TORSIONS = bg.TensorInfo(name='TRIVIAL_TORSIONS', is_circular=True)\n",
    "\n",
    "shape_info.split(\n",
    "    TORSIONS,\n",
    "    into=(NONTRIVIAL_TORSIONS, TRIVIAL_TORSIONS),\n",
    "    sizes=(n_torsions-n_trivialt, n_trivialt)\n",
    ")\n",
    "\n",
    "print(shape_info) #die shape info sagt dir, wie der latent space des BG aussehen soll. ( how many dimensions, circular or not.)"
   ]
  },
  {
   "cell_type": "code",
   "execution_count": 59,
   "id": "605a088f-4d29-4c70-a326-e9f386369894",
   "metadata": {
    "scrolled": true,
    "tags": []
   },
   "outputs": [
    {
     "data": {
      "text/plain": [
       "array([[ 0, -1, -1, -1],\n",
       "       [ 4,  0, -1, -1],\n",
       "       [ 6,  4,  0, -1],\n",
       "       [36, 28, 26, 24],\n",
       "       [40, 38, 36, 28],\n",
       "       [11,  8,  4,  0],\n",
       "       [14, 11,  8,  4],\n",
       "       [17, 14, 11,  8],\n",
       "       [33, 30, 26, 24],\n",
       "       [34, 33, 30, 26],\n",
       "       [45, 42, 38, 36],\n",
       "       [48, 45, 42, 38],\n",
       "       [51, 48, 45, 42],\n",
       "       [54, 51, 48, 45],\n",
       "       [41, 40, 38, 36],\n",
       "       [28, 26, 24,  6],\n",
       "       [ 8,  4,  6,  0],\n",
       "       [ 5,  4,  0,  6],\n",
       "       [20, 17, 14, 11],\n",
       "       [ 9,  8,  4, 11],\n",
       "       [10,  8,  4, 11],\n",
       "       [12, 11,  8, 14],\n",
       "       [13, 11,  8, 14],\n",
       "       [15, 14, 11, 17],\n",
       "       [16, 14, 11, 17],\n",
       "       [18, 17, 14, 20],\n",
       "       [19, 17, 14, 20],\n",
       "       [21, 20, 17, 14],\n",
       "       [22, 20, 17, 21],\n",
       "       [23, 20, 17, 22],\n",
       "       [ 1,  0,  4,  6],\n",
       "       [ 2,  0,  4,  1],\n",
       "       [ 3,  0,  4,  1],\n",
       "       [30, 26, 28, 24],\n",
       "       [27, 26, 24, 28],\n",
       "       [31, 30, 26, 33],\n",
       "       [32, 30, 26, 33],\n",
       "       [42, 38, 40, 36],\n",
       "       [39, 38, 36, 40],\n",
       "       [43, 42, 38, 45],\n",
       "       [44, 42, 38, 45],\n",
       "       [46, 45, 42, 48],\n",
       "       [47, 45, 42, 48],\n",
       "       [49, 48, 45, 51],\n",
       "       [50, 48, 45, 51],\n",
       "       [52, 51, 48, 54],\n",
       "       [53, 51, 48, 54],\n",
       "       [55, 54, 51, 48],\n",
       "       [56, 54, 51, 55],\n",
       "       [57, 54, 51, 56],\n",
       "       [24,  6,  4,  0],\n",
       "       [26, 24,  6,  4],\n",
       "       [38, 36, 28, 26],\n",
       "       [ 7,  6,  4, 24],\n",
       "       [29, 28, 26, 36],\n",
       "       [25, 24, 26,  6],\n",
       "       [35, 33, 30, 34],\n",
       "       [37, 36, 38, 28],\n",
       "       [58, 40, 38, 41]])"
      ]
     },
     "execution_count": 59,
     "metadata": {},
     "output_type": "execute_result"
    }
   ],
   "source": [
    "z_matrix"
   ]
  },
  {
   "cell_type": "code",
   "execution_count": 60,
   "id": "52a6286c-e91c-49e2-b3fc-6baf1f87f0fd",
   "metadata": {},
   "outputs": [],
   "source": [
    "#z_translated = np.empty([59])\n",
    "z_t = []\n",
    "for row in z_matrix:\n",
    "    row_translated = []\n",
    "    for entry in row:\n",
    "        row_translated.append(list(topology.atoms)[entry])\n",
    "    z_t.append(row_translated)\n",
    "z_t = np.array(z_t)"
   ]
  },
  {
   "cell_type": "code",
   "execution_count": 61,
   "id": "4fa0ec37-6b67-4110-9e48-6435f4de77af",
   "metadata": {
    "scrolled": true,
    "tags": []
   },
   "outputs": [
    {
     "data": {
      "text/plain": [
       "array([[LYS1-N, LYS3-OXT, LYS3-OXT, LYS3-OXT],\n",
       "       [LYS1-CA, LYS1-N, LYS3-OXT, LYS3-OXT],\n",
       "       [LYS1-C, LYS1-CA, LYS1-N, LYS3-OXT],\n",
       "       [LYS3-N, ASP2-C, ASP2-CA, ASP2-N],\n",
       "       [LYS3-C, LYS3-CA, LYS3-N, ASP2-C],\n",
       "       [LYS1-CG, LYS1-CB, LYS1-CA, LYS1-N],\n",
       "       [LYS1-CD, LYS1-CG, LYS1-CB, LYS1-CA],\n",
       "       [LYS1-CE, LYS1-CD, LYS1-CG, LYS1-CB],\n",
       "       [ASP2-CG, ASP2-CB, ASP2-CA, ASP2-N],\n",
       "       [ASP2-OD1, ASP2-CG, ASP2-CB, ASP2-CA],\n",
       "       [LYS3-CG, LYS3-CB, LYS3-CA, LYS3-N],\n",
       "       [LYS3-CD, LYS3-CG, LYS3-CB, LYS3-CA],\n",
       "       [LYS3-CE, LYS3-CD, LYS3-CG, LYS3-CB],\n",
       "       [LYS3-NZ, LYS3-CE, LYS3-CD, LYS3-CG],\n",
       "       [LYS3-O, LYS3-C, LYS3-CA, LYS3-N],\n",
       "       [ASP2-C, ASP2-CA, ASP2-N, LYS1-C],\n",
       "       [LYS1-CB, LYS1-CA, LYS1-C, LYS1-N],\n",
       "       [LYS1-HA, LYS1-CA, LYS1-N, LYS1-C],\n",
       "       [LYS1-NZ, LYS1-CE, LYS1-CD, LYS1-CG],\n",
       "       [LYS1-HB2, LYS1-CB, LYS1-CA, LYS1-CG],\n",
       "       [LYS1-HB3, LYS1-CB, LYS1-CA, LYS1-CG],\n",
       "       [LYS1-HG2, LYS1-CG, LYS1-CB, LYS1-CD],\n",
       "       [LYS1-HG3, LYS1-CG, LYS1-CB, LYS1-CD],\n",
       "       [LYS1-HD2, LYS1-CD, LYS1-CG, LYS1-CE],\n",
       "       [LYS1-HD3, LYS1-CD, LYS1-CG, LYS1-CE],\n",
       "       [LYS1-HE2, LYS1-CE, LYS1-CD, LYS1-NZ],\n",
       "       [LYS1-HE3, LYS1-CE, LYS1-CD, LYS1-NZ],\n",
       "       [LYS1-HZ1, LYS1-NZ, LYS1-CE, LYS1-CD],\n",
       "       [LYS1-HZ2, LYS1-NZ, LYS1-CE, LYS1-HZ1],\n",
       "       [LYS1-HZ3, LYS1-NZ, LYS1-CE, LYS1-HZ2],\n",
       "       [LYS1-H, LYS1-N, LYS1-CA, LYS1-C],\n",
       "       [LYS1-H2, LYS1-N, LYS1-CA, LYS1-H],\n",
       "       [LYS1-H3, LYS1-N, LYS1-CA, LYS1-H],\n",
       "       [ASP2-CB, ASP2-CA, ASP2-C, ASP2-N],\n",
       "       [ASP2-HA, ASP2-CA, ASP2-N, ASP2-C],\n",
       "       [ASP2-HB2, ASP2-CB, ASP2-CA, ASP2-CG],\n",
       "       [ASP2-HB3, ASP2-CB, ASP2-CA, ASP2-CG],\n",
       "       [LYS3-CB, LYS3-CA, LYS3-C, LYS3-N],\n",
       "       [LYS3-HA, LYS3-CA, LYS3-N, LYS3-C],\n",
       "       [LYS3-HB2, LYS3-CB, LYS3-CA, LYS3-CG],\n",
       "       [LYS3-HB3, LYS3-CB, LYS3-CA, LYS3-CG],\n",
       "       [LYS3-HG2, LYS3-CG, LYS3-CB, LYS3-CD],\n",
       "       [LYS3-HG3, LYS3-CG, LYS3-CB, LYS3-CD],\n",
       "       [LYS3-HD2, LYS3-CD, LYS3-CG, LYS3-CE],\n",
       "       [LYS3-HD3, LYS3-CD, LYS3-CG, LYS3-CE],\n",
       "       [LYS3-HE2, LYS3-CE, LYS3-CD, LYS3-NZ],\n",
       "       [LYS3-HE3, LYS3-CE, LYS3-CD, LYS3-NZ],\n",
       "       [LYS3-HZ1, LYS3-NZ, LYS3-CE, LYS3-CD],\n",
       "       [LYS3-HZ2, LYS3-NZ, LYS3-CE, LYS3-HZ1],\n",
       "       [LYS3-HZ3, LYS3-NZ, LYS3-CE, LYS3-HZ2],\n",
       "       [ASP2-N, LYS1-C, LYS1-CA, LYS1-N],\n",
       "       [ASP2-CA, ASP2-N, LYS1-C, LYS1-CA],\n",
       "       [LYS3-CA, LYS3-N, ASP2-C, ASP2-CA],\n",
       "       [LYS1-O, LYS1-C, LYS1-CA, ASP2-N],\n",
       "       [ASP2-O, ASP2-C, ASP2-CA, LYS3-N],\n",
       "       [ASP2-H, ASP2-N, ASP2-CA, LYS1-C],\n",
       "       [ASP2-OD2, ASP2-CG, ASP2-CB, ASP2-OD1],\n",
       "       [LYS3-H, LYS3-N, LYS3-CA, ASP2-C],\n",
       "       [LYS3-OXT, LYS3-C, LYS3-CA, LYS3-O]], dtype=object)"
      ]
     },
     "execution_count": 61,
     "metadata": {},
     "output_type": "execute_result"
    }
   ],
   "source": [
    "z_t"
   ]
  },
  {
   "cell_type": "code",
   "execution_count": 62,
   "id": "8c31408b-8d1d-4225-9ef1-9ed279bdd1c8",
   "metadata": {
    "scrolled": true,
    "tags": []
   },
   "outputs": [
    {
     "data": {
      "text/plain": [
       "[LYS1-N,\n",
       " LYS1-H,\n",
       " LYS1-H2,\n",
       " LYS1-H3,\n",
       " LYS1-CA,\n",
       " LYS1-HA,\n",
       " LYS1-C,\n",
       " LYS1-O,\n",
       " LYS1-CB,\n",
       " LYS1-HB2,\n",
       " LYS1-HB3,\n",
       " LYS1-CG,\n",
       " LYS1-HG2,\n",
       " LYS1-HG3,\n",
       " LYS1-CD,\n",
       " LYS1-HD2,\n",
       " LYS1-HD3,\n",
       " LYS1-CE,\n",
       " LYS1-HE2,\n",
       " LYS1-HE3,\n",
       " LYS1-NZ,\n",
       " LYS1-HZ1,\n",
       " LYS1-HZ2,\n",
       " LYS1-HZ3,\n",
       " ASP2-N,\n",
       " ASP2-H,\n",
       " ASP2-CA,\n",
       " ASP2-HA,\n",
       " ASP2-C,\n",
       " ASP2-O,\n",
       " ASP2-CB,\n",
       " ASP2-HB2,\n",
       " ASP2-HB3,\n",
       " ASP2-CG,\n",
       " ASP2-OD1,\n",
       " ASP2-OD2,\n",
       " LYS3-N,\n",
       " LYS3-H,\n",
       " LYS3-CA,\n",
       " LYS3-HA,\n",
       " LYS3-C,\n",
       " LYS3-O,\n",
       " LYS3-CB,\n",
       " LYS3-HB2,\n",
       " LYS3-HB3,\n",
       " LYS3-CG,\n",
       " LYS3-HG2,\n",
       " LYS3-HG3,\n",
       " LYS3-CD,\n",
       " LYS3-HD2,\n",
       " LYS3-HD3,\n",
       " LYS3-CE,\n",
       " LYS3-HE2,\n",
       " LYS3-HE3,\n",
       " LYS3-NZ,\n",
       " LYS3-HZ1,\n",
       " LYS3-HZ2,\n",
       " LYS3-HZ3,\n",
       " LYS3-OXT]"
      ]
     },
     "execution_count": 62,
     "metadata": {},
     "output_type": "execute_result"
    }
   ],
   "source": [
    "list(topology.atoms)"
   ]
  },
  {
   "cell_type": "markdown",
   "id": "9f626ec2-1885-482d-83e1-e4d2f5ff4d2d",
   "metadata": {},
   "source": [
    "# Investigate Structure"
   ]
  },
  {
   "cell_type": "markdown",
   "id": "bc19b68f-6a9b-40fd-9ddf-a7e2cb3d1884",
   "metadata": {
    "tags": []
   },
   "source": [
    "# Calculate Distances between interesting atoms and compare"
   ]
  },
  {
   "cell_type": "markdown",
   "id": "8a059b84-bb21-42b3-b182-c1ae2ea8dfd7",
   "metadata": {},
   "source": [
    "The following 3 atom pairs either show interactions (LYS3-O and LYS1-NZ; ASP2-OD2 and LYS1-NZ) or are relevant to investigate the overall structure of the samples (LYS3-NZ and LYS1-NZ) as they both are on opposite ends of the peptide, and therefore show how stretched it is."
   ]
  },
  {
   "cell_type": "code",
   "execution_count": 34,
   "id": "1118511a-9427-4d37-ac2d-f4b6ce35cf74",
   "metadata": {},
   "outputs": [],
   "source": [
    "#calculate distances between two specific atoms for each frame\n",
    "def dist_atoms(traj, atom1, atom2):\n",
    "    distances = []\n",
    "    for frame in range(0,traj.n_frames):\n",
    "        xyz = traj.xyz\n",
    "        a = xyz[frame,atom1,:] #np.ndarray, shape=(n_frames, n_atoms, 3)\n",
    "        b = xyz[frame,atom2,:]\n",
    "        dist = np.linalg.norm(a-b)*10\n",
    "        distances.append(dist)\n",
    "    distances = np.array(distances)\n",
    "\n",
    "    #mean = np.mean(distances)\n",
    "    #std = np.std(distances)\n",
    "    return distances #mean, std"
   ]
  },
  {
   "cell_type": "code",
   "execution_count": null,
   "id": "aa15a75a-ece6-4a3e-ba62-f3edfb5141dd",
   "metadata": {},
   "outputs": [],
   "source": [
    "#Barplot\n",
    "plt.bar(range(len(dist_values)), dist_values, align='center', yerr=std_values)\n",
    "plt.xticks(range(len(dist_values)), keys)\n",
    "ax = plt.gca()\n",
    "#ax.set_ylim([-1000, 4000])\n",
    "max_y_lim = max(dist_values) + max(std_values) + 0.1\n",
    "min_y_lim = min(dist_values) - max(std_values) - 0.1\n",
    "plt.ylim(min_y_lim, max_y_lim)\n",
    "plt.ylabel('Distance LYS3-O and LYS1-NZ [Å]')\n",
    "#ax.set_yscale('symlog')\n",
    "plt.xticks(rotation=90)\n",
    "#plt.savefig(f\"figures/Dist_LYS3-O_LYS1-NZ_{nb_fname}_Comp.png\", bbox_inches=\"tight\")\n",
    "plt.show()"
   ]
  },
  {
   "cell_type": "markdown",
   "id": "50f9a871-44fb-40d5-a1f1-7f0874cb75ab",
   "metadata": {},
   "source": [
    "## LYS3-O and LYS1-NZ (interaction)"
   ]
  },
  {
   "cell_type": "code",
   "execution_count": 60,
   "id": "30815466-0f3e-4fd1-8302-ed660d19bc8c",
   "metadata": {},
   "outputs": [
    {
     "name": "stderr",
     "output_type": "stream",
     "text": [
      "/tmp/ipykernel_16350/2914853800.py:26: UserWarning: FixedFormatter should only be used together with FixedLocator\n",
      "  ax.set_xticklabels(keys)\n"
     ]
    },
    {
     "data": {
      "image/png": "[encoded data removed]",
      "text/plain": [
       "<Figure size 432x288 with 1 Axes>"
      ]
     },
     "metadata": {
      "needs_background": "light"
     },
     "output_type": "display_data"
    },
    {
     "name": "stdout",
     "output_type": "stream",
     "text": [
      "Ttest_indResult(statistic=-83.62148070041668, pvalue=0.0)\n"
     ]
    }
   ],
   "source": [
    "# Calculate distance between LYS3-O and LYS1-NZ\n",
    "atom_1 = 41\n",
    "atom_2 = 20\n",
    "dist_MD_impl = dist_atoms(traj, atom_1, atom_2)\n",
    "\n",
    "dist_MD_expl = dist_atoms(expl_traj, atom_1, atom_2)\n",
    "\n",
    "dist_NLL = dist_atoms(traj_NLL, atom_1, atom_2)\n",
    "\n",
    "dist_Mixed = dist_atoms(traj_Mixed, atom_1, atom_2)\n",
    "\n",
    "dist_KLL = dist_atoms(traj_KLL, atom_1, atom_2)\n",
    "\n",
    "dist_KLL_no_GB = dist_atoms(traj_KLL_no_GB, atom_1, atom_2)\n",
    "\n",
    "keys = [\"o\", \"MD - implicit\", \"MD - explicit\", \"NLL\", \"Mixed\", \"KLL\", \"KLL (no GB)\"]\n",
    "\n",
    "dist_values = [dist_MD_impl, dist_MD_expl, dist_NLL, dist_Mixed, dist_KLL, dist_KLL_no_GB]\n",
    "\n",
    "\n",
    "# Plot in Boxplot\n",
    "fig = plt.figure()\n",
    " \n",
    "# Creating axes instance\n",
    "ax = fig.add_axes([0, 0, 1, 1])\n",
    "ax.set_xticklabels(keys)\n",
    " \n",
    "# Creating plot\n",
    "bp = ax.violinplot(dist_values, showmedians=True, showextrema=True, quantiles=[(0.25, 0.75), (0.25, 0.75), (0.25, 0.75), (0.25, 0.75), (0.25, 0.75),(0.25, 0.75)])\n",
    "\n",
    "plt.xticks(rotation=90)\n",
    "plt.ylabel('Distance LYS3-O and LYS1-NZ [Å]')\n",
    "\n",
    "plt.savefig(f\"figures/Dist_LYS3-O_LYS1-NZ_{nb_fname}_Comp.png\", bbox_inches=\"tight\")\n",
    "plt.show()\n",
    "\n",
    "#Performing a 2-sided t-test on the data\n",
    "test = scipy.stats.ttest_ind(dist_MD_impl, dist_KLL)\n",
    "print(test)"
   ]
  },
  {
   "cell_type": "markdown",
   "id": "3b8c3136-d190-45e5-acee-bef4d840ff2d",
   "metadata": {},
   "source": [
    "## ASP2-OD2 and LYS1-NZ (interaction)"
   ]
  },
  {
   "cell_type": "code",
   "execution_count": 62,
   "id": "3b47db22-6363-49cb-8a0c-555f070cc553",
   "metadata": {},
   "outputs": [
    {
     "name": "stderr",
     "output_type": "stream",
     "text": [
      "/tmp/ipykernel_16350/3682839620.py:26: UserWarning: FixedFormatter should only be used together with FixedLocator\n",
      "  ax.set_xticklabels(keys)\n"
     ]
    },
    {
     "data": {
      "image/png": "[encoded data removed]",
      "text/plain": [
       "<Figure size 432x288 with 1 Axes>"
      ]
     },
     "metadata": {
      "needs_background": "light"
     },
     "output_type": "display_data"
    },
    {
     "name": "stdout",
     "output_type": "stream",
     "text": [
      "Ttest_indResult(statistic=-52.13439377646338, pvalue=0.0)\n"
     ]
    }
   ],
   "source": [
    "# Calculate distance between ASP2-OD2 and LYS1-NZ\n",
    "atom_1 = 34\n",
    "atom_2 = 20\n",
    "dist_MD_impl = dist_atoms(traj, atom_1, atom_2)\n",
    "\n",
    "dist_MD_expl = dist_atoms(expl_traj, atom_1, atom_2)\n",
    "\n",
    "dist_NLL = dist_atoms(traj_NLL, atom_1, atom_2)\n",
    "\n",
    "dist_Mixed = dist_atoms(traj_Mixed, atom_1, atom_2)\n",
    "\n",
    "dist_KLL = dist_atoms(traj_KLL, atom_1, atom_2)\n",
    "\n",
    "dist_KLL_no_GB = dist_atoms(traj_KLL_no_GB, atom_1, atom_2)\n",
    "\n",
    "keys = [\"o\", \"MD - implicit\", \"MD - explicit\", \"NLL\", \"Mixed\", \"KLL\", \"KLL (no GB)\"]\n",
    "\n",
    "dist_values = [dist_MD_impl, dist_MD_expl, dist_NLL, dist_Mixed, dist_KLL, dist_KLL_no_GB]\n",
    "\n",
    "\n",
    "# Plot in Boxplot\n",
    "fig = plt.figure()\n",
    " \n",
    "# Creating axes instance\n",
    "ax = fig.add_axes([0, 0, 1, 1])\n",
    "ax.set_xticklabels(keys)\n",
    " \n",
    "# Creating plot\n",
    "bp = ax.violinplot(dist_values, showmedians=True, showextrema=True, quantiles=[(0.25, 0.75), (0.25, 0.75), (0.25, 0.75), (0.25, 0.75), (0.25, 0.75),(0.25, 0.75)])\n",
    "\n",
    "plt.xticks(rotation=90)\n",
    "plt.ylabel('Distance ASP2-OD2 and LYS1-NZ [Å]')\n",
    "\n",
    "plt.savefig(f\"figures/Dist_ASP2-OD2_LYS1-NZ_{nb_fname}_Comp.png\", bbox_inches=\"tight\")\n",
    "plt.show()\n",
    "\n",
    "#Performing a 2-sided t-test on the data\n",
    "test = scipy.stats.ttest_ind(dist_MD_impl, dist_KLL)\n",
    "print(test)"
   ]
  },
  {
   "cell_type": "markdown",
   "id": "f13410f9-cf89-42f5-9ec5-3eb9bb010c0e",
   "metadata": {},
   "source": [
    "## LYS1-NZ and LYS3-NZ (opposite ends)"
   ]
  },
  {
   "cell_type": "code",
   "execution_count": 65,
   "id": "d541e603-8d47-4a1d-8631-0b3407d27df4",
   "metadata": {},
   "outputs": [
    {
     "name": "stderr",
     "output_type": "stream",
     "text": [
      "/tmp/ipykernel_16350/3449082495.py:26: UserWarning: FixedFormatter should only be used together with FixedLocator\n",
      "  ax.set_xticklabels(keys)\n"
     ]
    },
    {
     "data": {
      "image/png": "[encoded data removed]",
      "text/plain": [
       "<Figure size 432x288 with 1 Axes>"
      ]
     },
     "metadata": {
      "needs_background": "light"
     },
     "output_type": "display_data"
    },
    {
     "name": "stdout",
     "output_type": "stream",
     "text": [
      "Ttest_indResult(statistic=-65.73549773174251, pvalue=0.0)\n"
     ]
    }
   ],
   "source": [
    "# Calculate distance between LYS3-NZ and LYS1-NZ\n",
    "atom_1 = 54\n",
    "atom_2 = 20\n",
    "dist_MD_impl = dist_atoms(traj, atom_1, atom_2)\n",
    "\n",
    "dist_MD_expl = dist_atoms(expl_traj, atom_1, atom_2)\n",
    "\n",
    "dist_NLL = dist_atoms(traj_NLL, atom_1, atom_2)\n",
    "\n",
    "dist_Mixed = dist_atoms(traj_Mixed, atom_1, atom_2)\n",
    "\n",
    "dist_KLL = dist_atoms(traj_KLL, atom_1, atom_2)\n",
    "\n",
    "dist_KLL_no_GB = dist_atoms(traj_KLL_no_GB, atom_1, atom_2)\n",
    "\n",
    "keys = [\"o\", \"MD - implicit\", \"MD - explicit\", \"NLL\", \"Mixed\", \"KLL\", \"KLL (no GB)\"]\n",
    "\n",
    "dist_values = [dist_MD_impl, dist_MD_expl, dist_NLL, dist_Mixed, dist_KLL, dist_KLL_no_GB]\n",
    "\n",
    "\n",
    "# Plot in Boxplot\n",
    "fig = plt.figure()\n",
    " \n",
    "# Creating axes instance\n",
    "ax = fig.add_axes([0, 0, 1, 1])\n",
    "ax.set_xticklabels(keys)\n",
    " \n",
    "# Creating plot\n",
    "bp = ax.violinplot(dist_values, showmedians=True, showextrema=True, quantiles=[(0.25, 0.75), (0.25, 0.75), (0.25, 0.75), (0.25, 0.75), (0.25, 0.75),(0.25, 0.75)])\n",
    "\n",
    "plt.xticks(rotation=90)\n",
    "plt.ylabel('Distance LYS3-NZ and LYS1-NZ [Å]')\n",
    "\n",
    "plt.savefig(f\"figures/Dist_LYS3-NZ_LYS1-NZ_{nb_fname}_Comp.png\", bbox_inches=\"tight\")\n",
    "plt.show()\n",
    "\n",
    "#Performing a 2-sided t-test on the data\n",
    "test = scipy.stats.ttest_ind(dist_MD_impl, dist_KLL)\n",
    "print(test)"
   ]
  },
  {
   "cell_type": "markdown",
   "id": "7a4df61a-6c68-4b85-820d-e0dd7eac56b1",
   "metadata": {
    "tags": []
   },
   "source": [
    "# Compare Torsions in a Ramachandran Plot"
   ]
  },
  {
   "cell_type": "code",
   "execution_count": 35,
   "id": "cfcb2f96-d7ef-49ad-aaa0-710c44070173",
   "metadata": {},
   "outputs": [],
   "source": [
    "#calculate distances between two specific atoms for each frame\n",
    "def dihed_torsions(traj, torsion1, torsion2):\n",
    "    dihedrals = []\n",
    "    for frame in range(0,traj.n_frames):\n",
    "        \n",
    "        diheds = md.compute_dihedrals(traj, dihedral_indices)\n",
    "        \n",
    "        dihedrals.append(dihed)\n",
    "    dihedrals = np.array(dihed)\n",
    "    \n",
    "    mean = np.mean(distances)\n",
    "    std = np.std(distances)\n",
    "    \n",
    "    return distances #mean, std"
   ]
  },
  {
   "cell_type": "markdown",
   "id": "b2a34162-c1b3-497c-8c4d-9f425a5cf9ec",
   "metadata": {},
   "source": [
    "## Torsion 56 [LYS3-OXT, LYS3-C, LYS3-CA, LYS3-O] and 8 [LYS3-NZ, LYS3-CE, LYS3-CD, LYS3-CG]"
   ]
  },
  {
   "cell_type": "code",
   "execution_count": null,
   "id": "a6111f56-f277-4ab7-8151-f7e3d2af9533",
   "metadata": {},
   "outputs": [],
   "source": [
    "#MD\n",
    "R = md.compute_dihedrals(traj, [[58, 40, 38, 41],[20, 17, 14, 11]])\n",
    "R = np.degrees(R)\n",
    "\n",
    "plt.figure()\n",
    "plt.hist2d(R[:, 0], R[:,1], bins=100, density=True, norm=mpl.colors.LogNorm())\n",
    "plt.xlabel('Ψ')\n",
    "plt.ylabel('Φ')\n",
    "plt.title('Ramachandran Plot: 1b4z - MD')\n",
    "cbar = plt.colorbar()\n",
    "cbar.set_label('log(10 000 samples)')\n",
    "plt.savefig(f\"figures/Tors_56_8_{nb_fname}_MD.png\", bbox_inches=\"tight\")\n",
    "plt.show()\n",
    "\n",
    "\n",
    "#NLL\n",
    "R = md.compute_dihedrals(traj_NLL, [[58, 40, 38, 41],[20, 17, 14, 11]])\n",
    "R = np.degrees(R)\n",
    "\n",
    "plt.figure()\n",
    "plt.hist2d(R[:, 0], R[:,1], bins=100, density=True, norm=mpl.colors.LogNorm())\n",
    "plt.xlabel('Ψ')\n",
    "plt.ylabel('Φ')\n",
    "plt.title('Ramachandran Plot: 1b4z - NLL')\n",
    "cbar = plt.colorbar()\n",
    "cbar.set_label('log(10 000 samples)')\n",
    "plt.savefig(f\"figures/Tors_56_8_{nb_fname}_NLL.png\", bbox_inches=\"tight\")\n",
    "plt.show()\n",
    "\n",
    "#KLL\n",
    "R = md.compute_dihedrals(traj_KLL, [[58, 40, 38, 41],[20, 17, 14, 11]])\n",
    "R = np.degrees(R)\n",
    "\n",
    "plt.figure()\n",
    "plt.hist2d(R[:, 0], R[:,1], bins=100, density=True, norm=mpl.colors.LogNorm())\n",
    "plt.xlabel('Ψ')\n",
    "plt.ylabel('Φ')\n",
    "plt.title('Ramachandran Plot: 1b4z - KLL')\n",
    "cbar = plt.colorbar()\n",
    "cbar.set_label('log(10 000 samples)')\n",
    "plt.savefig(f\"figures/Tors_56_8_{nb_fname}_KLL.png\", bbox_inches=\"tight\")\n",
    "plt.show()\n",
    "\n",
    "\n",
    "#KLL (no GB)\n",
    "R = md.compute_dihedrals(traj_KLL_no_GB, [[58, 40, 38, 41],[20, 17, 14, 11]])\n",
    "R = np.degrees(R)\n",
    "\n",
    "plt.figure()\n",
    "plt.hist2d(R[:, 0], R[:,1], bins=100, density=True, norm=mpl.colors.LogNorm())\n",
    "plt.xlabel('Ψ')\n",
    "plt.ylabel('Φ')\n",
    "plt.title('Ramachandran Plot: 1b4z - KLL (no GB)')\n",
    "cbar = plt.colorbar()\n",
    "cbar.set_label('log(10 000 samples)')\n",
    "plt.savefig(f\"figures/Tors_56_8_{nb_fname}_KLL_no_GB.png\", bbox_inches=\"tight\")\n",
    "plt.show()"
   ]
  },
  {
   "cell_type": "markdown",
   "id": "76fd6d14-b1fa-459a-9e14-1fe8790db7d5",
   "metadata": {},
   "source": [
    "## Torsion [18, 17, 14, 20] and 6 [LYS1-CD, LYS1-CG, LYS1-CB, LYS1-CA]"
   ]
  },
  {
   "cell_type": "code",
   "execution_count": null,
   "id": "312bc351-6e46-4368-95b9-3b27f485d231",
   "metadata": {},
   "outputs": [],
   "source": [
    "#MD\n",
    "R = md.compute_dihedrals(traj, [[18, 17, 14, 20],[14, 11,  8,  4]])\n",
    "R = np.degrees(R)\n",
    "\n",
    "plt.figure()\n",
    "plt.hist2d(R[:, 0], R[:,1], bins=100, density=True, norm=mpl.colors.LogNorm())\n",
    "plt.xlabel('Ψ')\n",
    "plt.ylabel('Φ')\n",
    "plt.title('Ramachandran Plot: 1b4z - MD')\n",
    "cbar = plt.colorbar()\n",
    "cbar.set_label('log(10 000 samples)')\n",
    "plt.savefig(f\"figures/Tors_56_6_{nb_fname}_MD.png\", bbox_inches=\"tight\")\n",
    "plt.show()\n",
    "\n",
    "\n",
    "#NLL\n",
    "R = md.compute_dihedrals(traj_NLL, [[18, 17, 14, 20],[14, 11,  8,  4]])\n",
    "R = np.degrees(R)\n",
    "\n",
    "plt.figure()\n",
    "plt.hist2d(R[:, 0], R[:,1], bins=100, density=True, norm=mpl.colors.LogNorm())\n",
    "plt.xlabel('Ψ')\n",
    "plt.ylabel('Φ')\n",
    "plt.title('Ramachandran Plot: 1b4z - NLL')\n",
    "cbar = plt.colorbar()\n",
    "cbar.set_label('log(10 000 samples)')\n",
    "plt.savefig(f\"figures/Tors_56_6_{nb_fname}_NLL.png\", bbox_inches=\"tight\")\n",
    "plt.show()\n",
    "\n",
    "#KLL\n",
    "R = md.compute_dihedrals(traj_KLL, [[18, 17, 14, 20],[14, 11,  8,  4]])\n",
    "R = np.degrees(R)\n",
    "\n",
    "plt.figure()\n",
    "plt.hist2d(R[:, 0], R[:,1], bins=100, density=True, norm=mpl.colors.LogNorm())\n",
    "plt.xlabel('Ψ')\n",
    "plt.ylabel('Φ')\n",
    "plt.title('Ramachandran Plot: 1b4z - KLL')\n",
    "cbar = plt.colorbar()\n",
    "cbar.set_label('log(10 000 samples)')\n",
    "plt.savefig(f\"figures/Tors_56_6_{nb_fname}_KLL.png\", bbox_inches=\"tight\")\n",
    "plt.show()\n",
    "\n",
    "\n",
    "#KLL (no GB)\n",
    "R = md.compute_dihedrals(traj_KLL_no_GB, [[18, 17, 14, 20],[14, 11,  8,  4]])\n",
    "R = np.degrees(R)\n",
    "\n",
    "plt.figure()\n",
    "plt.hist2d(R[:, 0], R[:,1], bins=100, density=True, norm=mpl.colors.LogNorm())\n",
    "plt.xlabel('Ψ')\n",
    "plt.ylabel('Φ')\n",
    "plt.title('Ramachandran Plot: 1b4z - KLL (no GB)')\n",
    "cbar = plt.colorbar()\n",
    "cbar.set_label('log(10 000 samples)')\n",
    "plt.savefig(f\"figures/Tors_56_6_{nb_fname}_KLL_no_GB.png\", bbox_inches=\"tight\")\n",
    "plt.show()"
   ]
  },
  {
   "cell_type": "markdown",
   "id": "12d05ae7-2adb-4b29-a7fc-25708121eb70",
   "metadata": {},
   "source": [
    "# Build the BG"
   ]
  },
  {
   "cell_type": "code",
   "execution_count": 63,
   "id": "f7b91238-aaf4-4501-b544-288a6e928d11",
   "metadata": {
    "scrolled": true,
    "tags": []
   },
   "outputs": [],
   "source": [
    "builder = BoltzmannGeneratorBuilder(shape_info, target_energy, **ctx)\n",
    "\n",
    "# first, work on torsions, as they are the hardest part\n",
    "t1, t2 = builder.add_split(\n",
    "    NONTRIVIAL_TORSIONS,\n",
    "    into=[\"T1\", \"T2\"],\n",
    "    sizes_or_indices=[shape_info[NONTRIVIAL_TORSIONS][0]//2,shape_info[NONTRIVIAL_TORSIONS][0] - shape_info[NONTRIVIAL_TORSIONS][0]//2],\n",
    "    #sizes_or_indices=[np.arange(0,7,2), np.arange(1,7,2)]\n",
    ")\n",
    "for i in range(6):\n",
    "    builder.add_condition(t1, on=t2,\n",
    "                          #hidden=(512,512)\n",
    "                         )\n",
    "    builder.add_condition(t2, on=t1,\n",
    "                          #hidden=(512,512)\n",
    "                         )\n",
    "builder.add_merge(\n",
    "    (t1, t2),\n",
    "    to=NONTRIVIAL_TORSIONS,\n",
    "    sizes_or_indices=[shape_info[NONTRIVIAL_TORSIONS][0]//2,shape_info[NONTRIVIAL_TORSIONS][0] - shape_info[NONTRIVIAL_TORSIONS][0]//2],\n",
    ")\n",
    "t1, t2 = builder.add_split(\n",
    "    TRIVIAL_TORSIONS,\n",
    "    into=[\"T1\", \"T2\"],\n",
    "    sizes_or_indices=[shape_info[TRIVIAL_TORSIONS][0]//2,shape_info[TRIVIAL_TORSIONS][0] - shape_info[TRIVIAL_TORSIONS][0]//2],\n",
    "    #sizes_or_indices=[np.arange(0,7,2), np.arange(1,7,2)]\n",
    ")\n",
    "for i in range(6):\n",
    "    builder.add_condition(t1, on=(t2,NONTRIVIAL_TORSIONS)\n",
    "                          #hidden=(512,512)\n",
    "                         )\n",
    "    builder.add_condition(t2, on=(t1,NONTRIVIAL_TORSIONS)\n",
    "                          #hidden=(512,512)\n",
    "                         )\n",
    "builder.add_merge(\n",
    "    (t1, t2),\n",
    "    to=TRIVIAL_TORSIONS,\n",
    "    sizes_or_indices=[shape_info[TRIVIAL_TORSIONS][0]//2,shape_info[TRIVIAL_TORSIONS][0] - shape_info[TRIVIAL_TORSIONS][0]//2],\n",
    ")\n",
    "\n",
    "\n",
    "\n",
    "# then, do angles and bonds\n",
    "a1, a2 = builder.add_split(\n",
    "    ANGLES,\n",
    "    into=[\"A1\", \"A2\"],\n",
    "    sizes_or_indices=[shape_info[ANGLES][0]//2,shape_info[ANGLES][0] - shape_info[ANGLES][0]//2],\n",
    ")\n",
    "for i in range(4):\n",
    "    builder.add_condition(a1, on=[a2, NONTRIVIAL_TORSIONS, TRIVIAL_TORSIONS],\n",
    "                          #hidden=(512,512)\n",
    "                         )\n",
    "    builder.add_condition(a2, on=[a1, NONTRIVIAL_TORSIONS, TRIVIAL_TORSIONS],\n",
    "                          #hidden=(512,512)\n",
    "                         )\n",
    "builder.add_merge(\n",
    "    (a1, a2),\n",
    "    to=ANGLES,\n",
    "    sizes_or_indices=[shape_info[ANGLES][0]//2,shape_info[ANGLES][0] - shape_info[ANGLES][0]//2],\n",
    ")\n",
    "\n",
    "b1, b2 = builder.add_split(\n",
    "    BONDS,\n",
    "    into=[\"B1\", \"B2\"],\n",
    "    sizes_or_indices=[shape_info[BONDS][0]//2,shape_info[BONDS][0] - shape_info[BONDS][0]//2],\n",
    ")\n",
    "for i in range(4):\n",
    "    builder.add_condition(b1, on=[b2, ANGLES, NONTRIVIAL_TORSIONS, TRIVIAL_TORSIONS],\n",
    "                      spline    #hidden=(512,512)\n",
    "                         )\n",
    "    builder.add_condition(b2, on=[b1, ANGLES, NONTRIVIAL_TORSIONS, TRIVIAL_TORSIONS],\n",
    "                          #hidden=(512,512)\n",
    "                         )\n",
    "builder.add_merge(\n",
    "    (b1, b2),\n",
    "    to=BONDS,\n",
    "    sizes_or_indices=[shape_info[BONDS][0]//2,shape_info[BONDS][0] - shape_info[BONDS][0]//2],\n",
    ")\n",
    "cdfs = InternalCoordinateMarginals( #Annahmen der cumulative density function\n",
    "    builder.current_dims,\n",
    "    builder.ctx,\n",
    "    bonds=BONDS,\n",
    "    angles=ANGLES,\n",
    "    torsions=None,#TORSIONS,\n",
    "    fixed=None,\n",
    "    bond_mu=0.2,\n",
    "    bond_sigma=2.0,\n",
    "    bond_upper=1.0,\n",
    "    bond_lower=0.03,\n",
    "    #angle_mu=0.7,\n",
    "    angle_lower=0.1,\n",
    "    angle_upper=0.9\n",
    ")\n",
    "cdfs.inform_with_data(torch.tensor(xyz[:1000], **ctx).reshape(1000, -1), coordinate_transform ,\n",
    "                      constrained_bond_indices = bond_constraints(system.system, coordinate_transform)[0]) #inform_with_data updatet die Annahme mit der marginal_distribution\n",
    "\n",
    "\n",
    "cdfs[TRIVIAL_TORSIONS] = trivial_torsions_marginal\n",
    "icdf_maps = builder.add_map_to_ic_domains(cdfs, return_layers=True)\n",
    "\n",
    "builder.add_merge([NONTRIVIAL_TORSIONS, TRIVIAL_TORSIONS], to=TORSIONS)\n",
    "fmod_layer = CircularShiftFlow(torsions_shift).to(**ctx)\n",
    "builder.add_layer(fmod_layer,what=(TORSIONS, ))\n",
    "\n",
    "\n",
    "builder.add_merge_constraints(*bond_constraints(system.system, coordinate_transform))\n",
    "builder.add_map_to_cartesian(coordinate_transform)\n",
    "\n",
    "\n",
    "#generator = builder.build_generator(zero_parameters=False)\n",
    "generator = builder.build_generator()"
   ]
  },
  {
   "cell_type": "code",
   "execution_count": 66,
   "id": "0fc6a227-d291-4efd-bb38-c074eb69b287",
   "metadata": {},
   "outputs": [
    {
     "name": "stdout",
     "output_type": "stream",
     "text": [
      "parameters: 3229676\n"
     ]
    },
    {
     "data": {
      "text/plain": [
       "tensor([[-391.1499],\n",
       "        [-402.6933],\n",
       "        [-418.2735],\n",
       "        [-425.1191],\n",
       "        [-384.6208],\n",
       "        [-406.7189],\n",
       "        [-396.5000],\n",
       "        [-413.7306],\n",
       "        [-377.9707],\n",
       "        [-398.5878]], grad_fn=<SubBackward0>)"
      ]
     },
     "execution_count": 66,
     "metadata": {},
     "output_type": "execute_result"
    }
   ],
   "source": [
    "print('parameters:', sum([np.prod(p.shape) for p in generator.parameters()]))\n",
    "\n",
    "generator.sample(10).shape\n",
    "generator.energy(training_data[:10,...])\n",
    "#check if it works without error"
   ]
  },
  {
   "cell_type": "markdown",
   "id": "7ea40b6a",
   "metadata": {},
   "source": [
    "## NLL Training"
   ]
  },
  {
   "cell_type": "code",
   "execution_count": 67,
   "id": "02d14311-8c91-495c-8efa-33facc2a694c",
   "metadata": {},
   "outputs": [
    {
     "name": "stdout",
     "output_type": "stream",
     "text": [
      "1\tNLL: -406.6158\tNLL(Test): -405.3649\t\n",
      "101\tNLL: -444.2203\tNLL(Test): -439.2072\t\n",
      "201\tNLL: -457.0344\tNLL(Test): -448.9222\t\n",
      "301\tNLL: -463.5532\tNLL(Test): -452.0692\t\n",
      "401\tNLL: -468.2935\tNLL(Test): -451.8835\t\n",
      "501\tNLL: -472.0149\tNLL(Test): -449.9819\t\n",
      "601\tNLL: -476.3401\tNLL(Test): -447.1548\t\n",
      "701\tNLL: -481.4434\tNLL(Test): -443.5732\t\n",
      "801\tNLL: -485.7706\tNLL(Test): -439.5990\t\n",
      "901\tNLL: -490.4266\tNLL(Test): -435.0004\t\n",
      "1001\tNLL: -493.6621\tNLL(Test): -431.2660\t\n",
      "1101\tNLL: -496.9910\tNLL(Test): -427.4939\t\n",
      "1201\tNLL: -499.3605\tNLL(Test): -424.5389\t\n",
      "1301\tNLL: -502.3722\tNLL(Test): -421.7563\t\n",
      "1401\tNLL: -504.3394\tNLL(Test): -419.4490\t\n",
      "1501\tNLL: -506.3523\tNLL(Test): -416.9669\t\n",
      "1601\tNLL: -507.5581\tNLL(Test): -415.3112\t\n",
      "1701\tNLL: -508.7343\tNLL(Test): -413.3706\t\n",
      "1801\tNLL: -508.2344\tNLL(Test): -411.9688\t\n",
      "1901\tNLL: -512.7109\tNLL(Test): -412.0921\t\n"
     ]
    }
   ],
   "source": [
    "# train using only training by Example\n",
    "\n",
    "full_nll_optimizer = torch.optim.Adam(generator.parameters(), lr=1e-4)\n",
    "full_nll_trainer = bg.KLTrainer(\n",
    "    generator, \n",
    "    optim=full_nll_optimizer,\n",
    "    train_energy=False,\n",
    "    test_likelihood = True\n",
    ")\n",
    "\n",
    "if True:\n",
    "    generator.train(True)\n",
    "    full_nll_trainer.train(\n",
    "        n_iter=2000, \n",
    "        data=training_data,\n",
    "        testdata = test_data,\n",
    "        batchsize=1024,\n",
    "        n_print=100, \n",
    "        w_energy=0.0\n",
    "    )\n",
    "    generator.train(False)"
   ]
  },
  {
   "cell_type": "code",
   "execution_count": 73,
   "id": "19a5c50c-b372-49bd-82e7-161da9eee32c",
   "metadata": {},
   "outputs": [
    {
     "data": {
      "text/plain": [
       "<All keys matched successfully>"
      ]
     },
     "execution_count": 73,
     "metadata": {},
     "output_type": "execute_result"
    }
   ],
   "source": [
    "nb_fname = ipynbname.name()\n",
    "nb_path = ipynbname.path()\n",
    "\n",
    "#torch.save(generator.state_dict(), f\"models/{nb_fname}_NLL_{peptide_name}_7.pic\")\n",
    "\n",
    "generator.load_state_dict(torch.load(f\"models/{nb_fname}_NLL_{peptide_name}_7.pic\"))"
   ]
  },
  {
   "cell_type": "markdown",
   "id": "cb222a96-4e86-46bb-9f87-a091d5776c0d",
   "metadata": {},
   "source": [
    "## Mixed Training"
   ]
  },
  {
   "cell_type": "code",
   "execution_count": 69,
   "id": "f430da58-dc5e-4df3-b249-713004c27b87",
   "metadata": {},
   "outputs": [
    {
     "name": "stdout",
     "output_type": "stream",
     "text": [
      "1\tKLL: 1667.4419\tNLL: -506.8670\ttruncated_energy_loss: 208.4910\t\n",
      "11\tKLL: 7113332.5000\tNLL: -469.4449\ttruncated_energy_loss: 200.0505\t\n",
      "21\tKLL: 134844.7188\tNLL: -468.5939\ttruncated_energy_loss: 158.1974\t\n",
      "31\tKLL: 222.9704\tNLL: -463.5547\ttruncated_energy_loss: 155.5924\t\n",
      "41\tKLL: 371.9162\tNLL: -468.0863\ttruncated_energy_loss: 161.7381\t\n",
      "51\tKLL: 82970.7500\tNLL: -462.8395\ttruncated_energy_loss: 156.4248\t\n",
      "61\tKLL: 216553.9375\tNLL: -463.0331\ttruncated_energy_loss: 163.9211\t\n",
      "71\tKLL: 251.8653\tNLL: -448.6688\ttruncated_energy_loss: 159.8269\t\n",
      "81\tKLL: 247.5016\tNLL: -440.9810\ttruncated_energy_loss: 165.6754\t\n",
      "91\tKLL: 173.1043\tNLL: -436.2428\ttruncated_energy_loss: 163.4012\t\n",
      "101\tKLL: 19813740544.0000\tNLL: -443.7574\ttruncated_energy_loss: 171.4279\t\n",
      "111\tKLL: 1582.1353\tNLL: -445.4992\ttruncated_energy_loss: 173.4960\t\n",
      "121\tKLL: 2735.4785\tNLL: -442.0645\ttruncated_energy_loss: 167.2038\t\n",
      "131\tKLL: 182.2101\tNLL: -448.1594\ttruncated_energy_loss: 166.1085\t\n",
      "141\tKLL: 208.3765\tNLL: -453.5560\ttruncated_energy_loss: 163.6444\t\n",
      "151\tKLL: 529.1133\tNLL: -450.2746\ttruncated_energy_loss: 168.3469\t\n",
      "161\tKLL: 198.7080\tNLL: -449.9258\ttruncated_energy_loss: 157.3210\t\n",
      "171\tKLL: 340.9265\tNLL: -456.2222\ttruncated_energy_loss: 166.0002\t\n",
      "181\tKLL: 209.1667\tNLL: -448.3346\ttruncated_energy_loss: 164.5643\t\n",
      "191\tKLL: 313.4736\tNLL: -451.5410\ttruncated_energy_loss: 168.7528\t\n",
      "201\tKLL: 997.8612\tNLL: -452.1379\ttruncated_energy_loss: 167.6859\t\n",
      "211\tKLL: 630.0557\tNLL: -458.4244\ttruncated_energy_loss: 166.7214\t\n",
      "221\tKLL: 1260125.2500\tNLL: -459.2253\ttruncated_energy_loss: 179.7541\t\n",
      "231\tKLL: 984599.1875\tNLL: -457.6245\ttruncated_energy_loss: 159.6735\t\n",
      "241\tKLL: 179.3171\tNLL: -458.6382\ttruncated_energy_loss: 158.9574\t\n",
      "251\tKLL: 185.4455\tNLL: -460.6044\ttruncated_energy_loss: 157.2700\t\n",
      "261\tKLL: 870498.8125\tNLL: -461.0648\ttruncated_energy_loss: 171.4149\t\n",
      "271\tKLL: 19586448.0000\tNLL: -463.4981\ttruncated_energy_loss: 167.2222\t\n",
      "281\tKLL: 346.8084\tNLL: -463.9838\ttruncated_energy_loss: 172.7064\t\n",
      "291\tKLL: 172.0589\tNLL: -462.4706\ttruncated_energy_loss: 159.5704\t\n",
      "301\tKLL: 2746.1157\tNLL: -455.4109\ttruncated_energy_loss: 162.1920\t\n",
      "311\tKLL: 166.3494\tNLL: -456.9528\ttruncated_energy_loss: 151.8026\t\n",
      "321\tKLL: 176.6870\tNLL: -459.8557\ttruncated_energy_loss: 154.4241\t\n",
      "331\tKLL: 345.4119\tNLL: -463.3209\ttruncated_energy_loss: 161.0415\t\n",
      "341\tKLL: 536.8378\tNLL: -461.1794\ttruncated_energy_loss: 156.0873\t\n",
      "351\tKLL: 5007.2666\tNLL: -462.8642\ttruncated_energy_loss: 156.8981\t\n",
      "361\tKLL: 174.2978\tNLL: -464.8864\ttruncated_energy_loss: 159.8778\t\n",
      "371\tKLL: 233957.2188\tNLL: -463.7187\ttruncated_energy_loss: 159.7782\t\n",
      "381\tKLL: 1005477.1250\tNLL: -461.3788\ttruncated_energy_loss: 154.8114\t\n",
      "391\tKLL: 146868704.0000\tNLL: -463.2523\ttruncated_energy_loss: 160.4746\t\n",
      "401\tKLL: 367.8644\tNLL: -463.0692\ttruncated_energy_loss: 153.9231\t\n",
      "411\tKLL: 472.0941\tNLL: -458.2317\ttruncated_energy_loss: 155.8115\t\n",
      "421\tKLL: 330.0861\tNLL: -462.2944\ttruncated_energy_loss: 153.9241\t\n",
      "431\tKLL: 140553.4375\tNLL: -464.0493\ttruncated_energy_loss: 156.6368\t\n",
      "441\tKLL: 486642.1250\tNLL: -462.6127\ttruncated_energy_loss: 146.8809\t\n",
      "451\tKLL: 202208528.0000\tNLL: -461.3279\ttruncated_energy_loss: 155.6456\t\n",
      "461\tKLL: 171.8679\tNLL: -464.5942\ttruncated_energy_loss: 167.6117\t\n",
      "471\tKLL: 160.8127\tNLL: -464.4217\ttruncated_energy_loss: 159.7971\t\n",
      "481\tKLL: 249.4201\tNLL: -462.2751\ttruncated_energy_loss: 151.2729\t\n",
      "491\tKLL: 173.0532\tNLL: -463.4944\ttruncated_energy_loss: 156.8655\t\n",
      "501\tKLL: 329.2224\tNLL: -465.6346\ttruncated_energy_loss: 150.0384\t\n",
      "511\tKLL: 164.1998\tNLL: -467.3678\ttruncated_energy_loss: 146.7160\t\n",
      "521\tKLL: 165.4708\tNLL: -463.3899\ttruncated_energy_loss: 152.4580\t\n",
      "531\tKLL: 160.1496\tNLL: -472.6698\ttruncated_energy_loss: 154.4715\t\n",
      "541\tKLL: 189176.3438\tNLL: -465.0034\ttruncated_energy_loss: 150.1850\t\n",
      "551\tKLL: 194.5276\tNLL: -463.0912\ttruncated_energy_loss: 153.3206\t\n",
      "561\tKLL: 41985.1484\tNLL: -463.2129\ttruncated_energy_loss: 157.9236\t\n",
      "571\tKLL: 165.6852\tNLL: -461.8846\ttruncated_energy_loss: 156.7677\t\n",
      "581\tKLL: 31191.8047\tNLL: -466.1950\ttruncated_energy_loss: 156.0517\t\n",
      "591\tKLL: 4897.6094\tNLL: -462.3230\ttruncated_energy_loss: 149.3186\t\n"
     ]
    }
   ],
   "source": [
    "#combined training of training by example and a little bit training by energy\n",
    "\n",
    "#we have found a way to make training by energy work better: \n",
    "#when calculating the reverse KL Diveregence ( the Training by Energy Loss), you discard the worst of the samples\n",
    "#exactly how many samples to discard is a bit hacky, it depends on how good your samples are in the first place.\n",
    "#here we train on the better 90%\n",
    "\n",
    "#hier geben die Loss-werte nicht wirklich aufschuss über den training progress. mit diesem training-procedure\n",
    "#werden die samples aber besser, wie man weiter unter sehen kann (energy plots).\n",
    "\n",
    "def quantile_truncated_energy_loss(batch_size = 32, quantile = 0.5):\n",
    "    kld = generator.kldiv(batch_size)\n",
    "    lower = kld <= kld.quantile(quantile)\n",
    "    loss = kld[lower].mean()\n",
    "    #bp()\n",
    "    return(loss)\n",
    "\n",
    "mixed_optimizer = torch.optim.Adam(generator.parameters(), lr=1e-4)\n",
    "mixed_trainer = bg.KLTrainer(\n",
    "    generator, \n",
    "    optim=mixed_optimizer,\n",
    "    train_energy=True,\n",
    "    custom_loss = quantile_truncated_energy_loss\n",
    ")\n",
    "\n",
    "loss_names = [\"KLL\", \"NLL\", \"truncated_energy_loss\"]\n",
    "\n",
    "\n",
    "mixed_trainer.reporter = bg.LossReporter(*loss_names)\n",
    "\n",
    "#mixed_trainer.reporter._n_reported = 3\n",
    "\n",
    "if True:\n",
    "    generator.train(True)\n",
    "    mixed_trainer.train(\n",
    "        n_iter=600, \n",
    "        data=training_data,\n",
    "        batchsize=32,#128\n",
    "        n_print=10, \n",
    "        w_energy=0.,\n",
    "        w_custom = 0.8,\n",
    "        w_likelihood = 0.2,\n",
    "        custom_loss_kwargs = {\"batch_size\": 32,\n",
    "                              \"quantile\": 0.9},\n",
    "        clip_forces=None\n",
    "    )\n",
    "    generator.train(False)\n"
   ]
  },
  {
   "cell_type": "code",
   "execution_count": 70,
   "id": "a8ba3e85-26f4-40af-a6ce-f156b07f73db",
   "metadata": {},
   "outputs": [
    {
     "data": {
      "text/plain": [
       "<All keys matched successfully>"
      ]
     },
     "execution_count": 70,
     "metadata": {},
     "output_type": "execute_result"
    }
   ],
   "source": [
    "nb_fname = ipynbname.name()\n",
    "nb_path = ipynbname.path()\n",
    "\n",
    "torch.save(generator.state_dict(), f\"models/{nb_fname}_Mixed_{peptide_name}_7.pic\")\n",
    "\n",
    "generator.load_state_dict(torch.load(f\"models/{nb_fname}_Mixed_{peptide_name}_7.pic\"))"
   ]
  },
  {
   "cell_type": "markdown",
   "id": "49fdc88d-60d9-4e23-81c9-a74f6a55e5ed",
   "metadata": {},
   "source": [
    "## KLL Training"
   ]
  },
  {
   "cell_type": "code",
   "execution_count": 71,
   "id": "996e9038-8986-43f3-9a66-fc2b955df1b3",
   "metadata": {},
   "outputs": [
    {
     "name": "stdout",
     "output_type": "stream",
     "text": [
      "601\tKLL: 168.8694\tNLL: -467.0201\ttruncated_energy_loss: 164.5789\t\n",
      "701\tKLL: 1535.1821\tNLL: -446.6997\ttruncated_energy_loss: 149.9978\t\n",
      "801\tKLL: 17106484.0000\tNLL: -450.6869\ttruncated_energy_loss: 143.2460\t\n",
      "901\tKLL: 170.2335\tNLL: -451.8368\ttruncated_energy_loss: 147.4254\t\n",
      "1001\tKLL: 169.4028\tNLL: -452.7115\ttruncated_energy_loss: 141.9659\t\n",
      "1101\tKLL: 219.1339\tNLL: -440.6626\ttruncated_energy_loss: 146.6777\t\n",
      "1201\tKLL: 179.2226\tNLL: -445.4303\ttruncated_energy_loss: 152.6378\t\n",
      "1301\tKLL: 414.5556\tNLL: -448.0655\ttruncated_energy_loss: 144.8423\t\n",
      "1401\tKLL: 141.5914\tNLL: -449.7064\ttruncated_energy_loss: 136.3001\t\n",
      "1501\tKLL: 747.2792\tNLL: -451.3298\ttruncated_energy_loss: 131.9475\t\n",
      "1601\tKLL: 136.3854\tNLL: -447.6237\ttruncated_energy_loss: 133.7211\t\n",
      "1701\tKLL: 148.1415\tNLL: -448.2540\ttruncated_energy_loss: 131.8294\t\n",
      "1801\tKLL: 131.0416\tNLL: -445.9835\ttruncated_energy_loss: 129.4410\t\n",
      "1901\tKLL: 191.5538\tNLL: -449.2817\ttruncated_energy_loss: 131.1925\t\n",
      "2001\tKLL: 136.6597\tNLL: -451.3735\ttruncated_energy_loss: 126.7263\t\n",
      "2101\tKLL: 141.7015\tNLL: -447.2583\ttruncated_energy_loss: 124.9822\t\n",
      "2201\tKLL: 994220.5625\tNLL: -455.1263\ttruncated_energy_loss: 132.1859\t\n",
      "2301\tKLL: 929132.2500\tNLL: -450.5039\ttruncated_energy_loss: 126.5779\t\n",
      "2401\tKLL: 874541376.0000\tNLL: -453.3686\ttruncated_energy_loss: 127.8961\t\n",
      "2501\tKLL: 128.5533\tNLL: -448.5679\ttruncated_energy_loss: 124.2097\t\n",
      "2601\tKLL: 14359109632.0000\tNLL: -451.1613\ttruncated_energy_loss: 126.2115\t\n",
      "2701\tKLL: 216.9783\tNLL: -453.1065\ttruncated_energy_loss: 123.7601\t\n",
      "2801\tKLL: 164.5583\tNLL: -455.2798\ttruncated_energy_loss: 124.4961\t\n",
      "2901\tKLL: 558.9281\tNLL: -458.5078\ttruncated_energy_loss: 125.0202\t\n",
      "3001\tKLL: 121.6635\tNLL: -450.2180\ttruncated_energy_loss: 123.2390\t\n",
      "3101\tKLL: 674.8683\tNLL: -451.8566\ttruncated_energy_loss: 122.3367\t\n",
      "3201\tKLL: 125.5339\tNLL: -454.7724\ttruncated_energy_loss: 118.9345\t\n",
      "3301\tKLL: 121.9518\tNLL: -452.3535\ttruncated_energy_loss: 120.0249\t\n",
      "3401\tKLL: 127.0005\tNLL: -454.7103\ttruncated_energy_loss: 122.6152\t\n",
      "3501\tKLL: 4174.4868\tNLL: -454.4500\ttruncated_energy_loss: 119.1114\t\n"
     ]
    }
   ],
   "source": [
    "# now we drop the NLL loss completely\n",
    "\n",
    "if True:\n",
    "    generator.train(True)\n",
    "    mixed_trainer.train(\n",
    "        n_iter=3000, \n",
    "        data=training_data,\n",
    "        batchsize=32,#128\n",
    "        n_print=100, \n",
    "        w_energy=0.,\n",
    "        w_custom = 0.8,\n",
    "        w_likelihood = 0,\n",
    "        custom_loss_kwargs = {\"batch_size\": 32,\n",
    "                              \"quantile\": 0.9},\n",
    "        clip_forces=None\n",
    "    )\n",
    "    generator.train(False)\n"
   ]
  },
  {
   "cell_type": "code",
   "execution_count": 72,
   "id": "700f28c3-58ae-4379-9015-667645848aaf",
   "metadata": {},
   "outputs": [
    {
     "data": {
      "text/plain": [
       "<All keys matched successfully>"
      ]
     },
     "execution_count": 72,
     "metadata": {},
     "output_type": "execute_result"
    }
   ],
   "source": [
    "nb_fname = ipynbname.name()\n",
    "nb_path = ipynbname.path()\n",
    "\n",
    "torch.save(generator.state_dict(), f\"models/{nb_fname}_KLL_{peptide_name}_7.pic\")\n",
    "\n",
    "generator.load_state_dict(torch.load(f\"models/{nb_fname}_KLL_{peptide_name}_7.pic\"))"
   ]
  },
  {
   "cell_type": "markdown",
   "id": "48e626e2-a0e9-40e9-ad8f-8927e09d0cec",
   "metadata": {},
   "source": [
    "## KLL (no GB)"
   ]
  },
  {
   "cell_type": "code",
   "execution_count": null,
   "id": "736359de-905b-4b10-bb6b-d024d47cac10",
   "metadata": {},
   "outputs": [],
   "source": [
    "### nach diesem training haben wir schöne energies, aber beim genauen hinsehen merken wir,\n",
    "### dass die nonbonded energies immer noch nicht so super sind, das wird lediglich durch den GB-Term kompensiert (implicit solvent)\n",
    "\n",
    "### wir versuchen mal, die nonbonded terms weiter zu optimieren:\n",
    "#dazu nehmen wir den GB-Term aus der Energiefunktion heraus\n",
    "\n",
    "#limiting the values that the energy can reach makes training more stable.\n",
    "CutTarget = LinLogCutEnergy(target_energy)\n",
    "\n",
    "generator._target = CutTarget\n",
    "\n",
    "generator._target.delegate._bridge.context_wrapper._system.getForces()\n",
    "#GB_force = generator._target.delegate._bridge.context_wrapper._system.getForce(4)\n",
    "generator._target.delegate._bridge.context_wrapper._system.removeForce(4)"
   ]
  },
  {
   "cell_type": "code",
   "execution_count": null,
   "id": "2ae868ca-1a04-40fb-843d-6270fdad4a92",
   "metadata": {},
   "outputs": [],
   "source": [
    "mixed_optimizer = torch.optim.Adam(generator.parameters(), lr=1e-4)\n",
    "mixed_trainer = bg.KLTrainer(\n",
    "    generator, \n",
    "    optim=mixed_optimizer,\n",
    "    train_energy=True,\n",
    "    custom_loss = quantile_truncated_energy_loss\n",
    ")\n",
    "\n",
    "loss_names = [\"KLL\", \"NLL\", \"truncated_energy_loss\"]\n",
    "\n",
    "\n",
    "mixed_trainer.reporter = bg.LossReporter(*loss_names)\n",
    "\n",
    "if True:\n",
    "    generator.train(True)\n",
    "    mixed_trainer.train(\n",
    "        n_iter=3000, \n",
    "        data=training_data,\n",
    "        batchsize=32,#128\n",
    "        n_print=10, \n",
    "        w_energy=0.,\n",
    "        w_custom = 0.8,\n",
    "        w_likelihood = 0,\n",
    "        custom_loss_kwargs = {\"batch_size\": 32,\n",
    "                              \"quantile\": 0.9},\n",
    "        clip_forces=None\n",
    "    )\n",
    "    generator.train(False)\n"
   ]
  },
  {
   "cell_type": "code",
   "execution_count": 31,
   "id": "24d1755e-d800-44e1-8ee6-a5fe83fcc972",
   "metadata": {},
   "outputs": [
    {
     "data": {
      "text/plain": [
       "3248108"
      ]
     },
     "execution_count": 31,
     "metadata": {},
     "output_type": "execute_result"
    }
   ],
   "source": [
    "## now for the evaluation we add the force again:\n",
    "#generator._target.delegate._bridge.context_wrapper._system.addForce(GB_force)\n",
    "#this doesnt work so we have to rebuild the generator and load the state dict\n",
    "\n",
    "nb_fname = ipynbname.name()\n",
    "nb_path = ipynbname.path()\n",
    "\n",
    "#torch.save(generator.state_dict(), f\"models/{nb_fname}_KLL_no_GB_{peptide_name}.pic\")\n",
    "generator.load_state_dict(torch.load(f\"models/{nb_fname}_KLL_no_GB_{peptide_name}.pic\"))\n",
    "#generator._target._bridge._openmm_system.getForces()#__dict__#.context_wrapper.__dict__\n",
    "\n",
    "CutTarget = LinLogCutEnergy(generator._target)\n",
    "sum([np.prod(p.shape) for p in generator.parameters()])"
   ]
  },
  {
   "cell_type": "markdown",
   "id": "6b4c8eb6-7010-4ad8-99e7-278f66437bcb",
   "metadata": {
    "tags": []
   },
   "source": [
    "# Evaluate"
   ]
  },
  {
   "cell_type": "code",
   "execution_count": 74,
   "id": "5d590d6b-f092-4ad9-befb-c2e0dead0c4b",
   "metadata": {},
   "outputs": [
    {
     "name": "stdout",
     "output_type": "stream",
     "text": [
      "CPU\n",
      "ShapeDictionary([(TensorInfo(name='BONDS', is_circular=False, is_cartesian=False), (26,)), (TensorInfo(name='ANGLES', is_circular=False, is_cartesian=False), (57,)), (TensorInfo(name='NONTRIVIAL_TORSIONS', is_circular=True, is_cartesian=False), (12,)), (TensorInfo(name='TRIVIAL_TORSIONS', is_circular=True, is_cartesian=False), (44,))])\n"
     ]
    },
    {
     "data": {
      "text/plain": [
       "[<openmm.openmm.HarmonicBondForce; proxy of <Swig Object of type 'OpenMM::HarmonicBondForce *' at 0x7f266de2be70> >,\n",
       " <openmm.openmm.HarmonicAngleForce; proxy of <Swig Object of type 'OpenMM::HarmonicAngleForce *' at 0x7f266de290b0> >,\n",
       " <openmm.openmm.PeriodicTorsionForce; proxy of <Swig Object of type 'OpenMM::PeriodicTorsionForce *' at 0x7f266fe70270> >,\n",
       " <openmm.openmm.NonbondedForce; proxy of <Swig Object of type 'OpenMM::NonbondedForce *' at 0x7f266fe70480> >,\n",
       " <openmm.openmm.CMMotionRemover; proxy of <Swig Object of type 'OpenMM::CMMotionRemover *' at 0x7f2676118b40> >,\n",
       " <openmm.openmm.CustomGBForce; proxy of <Swig Object of type 'OpenMM::CustomGBForce *' at 0x7f266e272430> >]"
      ]
     },
     "execution_count": 74,
     "metadata": {},
     "output_type": "execute_result"
    }
   ],
   "source": [
    "generator._target\n",
    "#generator._target._bridge.context_wrapper\n",
    "#generator._target._bridge.__dict__\n",
    "generator._target = system._energy_model\n",
    "\n",
    "\n",
    "for force in range(len(system.system.getForces())):\n",
    "    system.system.getForces()[force].setForceGroup(force)\n",
    "\n",
    "system.reinitialize_energy_model(temperature=300, platform_name=\"CPU\", n_workers = 1)\n",
    "target_real = system._energy_model\n",
    "\n",
    "NUM_SAMPLES = 3\n",
    "\n",
    "positions = test_data[:NUM_SAMPLES].reshape(NUM_SAMPLES, -1, 3)\n",
    "\n",
    "#target_real._bridge.context_wrapper\n",
    "#generator._target._bridge._openmm_system\n",
    "Context = target_real._bridge.context_wrapper._openmm_context\n",
    "#Context = generator._target._bridge._openmm_system\n",
    "print(Context.getPlatform().getName())\n",
    "\n",
    "p = positions[0]\n",
    "\n",
    "p=p.to('cpu').numpy()\n",
    "\n",
    "\n",
    "Context.setPositions(p)\n",
    "\n",
    "state = Context.getState(\n",
    "                    getEnergy=True,\n",
    "                    getForces=False,\n",
    "                    getPositions=False)\n",
    "UNIT = state.getPotentialEnergy().unit\n",
    "\n",
    "kbT = target_real._bridge._reduce_units\n",
    "\n",
    "\n",
    "\n",
    "print(shape_info)\n",
    "\n",
    "Context.getSystem().getForces()"
   ]
  },
  {
   "cell_type": "code",
   "execution_count": 75,
   "id": "ee02ad52-6055-486f-8f28-a5fa1bd68e0d",
   "metadata": {
    "tags": []
   },
   "outputs": [
    {
     "ename": "RuntimeError",
     "evalue": "shape '[10000, -1, 3]' is invalid for input of size 885000",
     "output_type": "error",
     "traceback": [
      "\u001b[0;31m---------------------------------------------------------------------------\u001b[0m",
      "\u001b[0;31mRuntimeError\u001b[0m                              Traceback (most recent call last)",
      "Input \u001b[0;32mIn [75]\u001b[0m, in \u001b[0;36m<cell line: 1>\u001b[0;34m()\u001b[0m\n\u001b[1;32m     23\u001b[0m n_batches \u001b[38;5;241m=\u001b[39m NUM_SAMPLES\u001b[38;5;241m/\u001b[39m\u001b[38;5;241m/\u001b[39mBATCHSIZE\n\u001b[1;32m     24\u001b[0m \u001b[38;5;66;03m#for i in range(n_batches):\u001b[39;00m\n\u001b[1;32m     25\u001b[0m  \u001b[38;5;66;03m#   positions_batch = generator.sample(1000).cpu().detach().reshape(1000,-1,3).numpy()\u001b[39;00m\n\u001b[1;32m     26\u001b[0m  \u001b[38;5;66;03m#   positions\u001b[39;00m\n\u001b[0;32m---> 28\u001b[0m positions \u001b[38;5;241m=\u001b[39m \u001b[43mtest_data\u001b[49m\u001b[43m[\u001b[49m\u001b[43m:\u001b[49m\u001b[43mNUM_SAMPLES\u001b[49m\u001b[43m]\u001b[49m\u001b[38;5;241;43m.\u001b[39;49m\u001b[43mreshape\u001b[49m\u001b[43m(\u001b[49m\u001b[43mNUM_SAMPLES\u001b[49m\u001b[43m,\u001b[49m\u001b[38;5;241;43m-\u001b[39;49m\u001b[38;5;241;43m1\u001b[39;49m\u001b[43m,\u001b[49m\u001b[38;5;241;43m3\u001b[39;49m\u001b[43m)\u001b[49m\n\u001b[1;32m     30\u001b[0m \u001b[38;5;28;01mfor\u001b[39;00m p \u001b[38;5;129;01min\u001b[39;00m tqdm(positions):\n\u001b[1;32m     31\u001b[0m     Context\u001b[38;5;241m.\u001b[39msetPositions(p\u001b[38;5;241m.\u001b[39mcpu()\u001b[38;5;241m.\u001b[39mnumpy())\n",
      "\u001b[0;31mRuntimeError\u001b[0m: shape '[10000, -1, 3]' is invalid for input of size 885000"
     ]
    }
   ],
   "source": [
    "with open(f\"metrics/{nb_fname}_NLL_{peptide_name}_7.pic\", 'w+') as f:\n",
    "    with redirect_stdout(f):\n",
    "        NUM_SAMPLES = 10000\n",
    "        BATCHSIZE = 32\n",
    "        #generator_metrics(generator, valdata = valdata[:10000])\n",
    "        ## MD samples\n",
    "        \n",
    "        energies = {}\n",
    "        quants = []\n",
    "        for q in range(9):\n",
    "            quants.append(openmm.unit.quantity.Quantity(unit = UNIT))\n",
    "        #quants = [openmm.unit.quantity.Quantity(unit = UNIT)]*7\n",
    "        names = [\"Bonds\",\"Angles\",\"Torsion\",\"Nonbonded\",\"CMMremover\", \"GB\"]\n",
    "        for q,n in zip(quants,names):\n",
    "            energies[n] = q\n",
    "        \n",
    "        \n",
    "        #\n",
    "        #data_native = data[:NUM_SAMPLES]\n",
    "        #\n",
    "        #positions,_ = data_native.reshape(NUM_SAMPLES,-1,3)\n",
    "        \n",
    "        n_batches = NUM_SAMPLES//BATCHSIZE\n",
    "        #for i in range(n_batches):\n",
    "         #   positions_batch = generator.sample(1000).cpu().detach().reshape(1000,-1,3).numpy()\n",
    "         #   positions\n",
    "        \n",
    "        positions = test_data[:NUM_SAMPLES].reshape(NUM_SAMPLES,-1,3)\n",
    "        \n",
    "        for p in tqdm(positions):\n",
    "            Context.setPositions(p.cpu().numpy())\n",
    "            for i, (q, n) in enumerate(zip(quants,names)):\n",
    "                #ipdb.set_trace()\n",
    "                state = Context.getState(\n",
    "                                getEnergy=True,\n",
    "                                getForces=False,\n",
    "                                getPositions=False,\n",
    "                                groups = {i})\n",
    "                #ipdb.set_trace()\n",
    "                energies[n].append(state.getPotentialEnergy())\n",
    "        \n",
    "        #for key in energies:\n",
    "        #    print(f\"{key}: {energies[key].mean()}\")\n",
    "        print(\"*****MD-Data*****\")\n",
    "        resdict_MD = {}\n",
    "        for key in energies:\n",
    "            val = kbT(np.array(energies[key]._value))\n",
    "            print(f\"{key}: {val}\")\n",
    "            resdict_MD[key] = val\n",
    "\n",
    "######### de-novo samples\n",
    "        \n",
    "        \n",
    "        energies = {}\n",
    "        quants = []\n",
    "        for q in range(9):\n",
    "            quants.append(openmm.unit.quantity.Quantity(unit = UNIT))\n",
    "        #quants = [openmm.unit.quantity.Quantity(unit = UNIT)]*7\n",
    "        for q,n in zip(quants,names):\n",
    "            energies[n] = q\n",
    "        \n",
    "        \n",
    "        #\n",
    "        #data_native = data[:NUM_SAMPLES]\n",
    "        #\n",
    "        #positions,_ = data_native.reshape(NUM_SAMPLES,-1,3)\n",
    "        \n",
    "        n_batches = NUM_SAMPLES//BATCHSIZE\n",
    "        #for i in range(n_batches):\n",
    "         #   positions_batch = generator.sample(1000).cpu().detach().reshape(1000,-1,3).numpy()\n",
    "         #   positions\n",
    "        pos = []\n",
    "        #B, A, T, BB, c1, C2, C3, C4, j = generator.flow(torch.Tensor(valdata[:BATCHSIZE]).to(ctx[\"device\"]), inverse = True)\n",
    "        for _ in tqdm(range(n_batches)):\n",
    "\n",
    "\n",
    "            zB, zA, znT, ztT = generator.prior.sample(BATCHSIZE)\n",
    "            #bp()\n",
    "            samples = generator.flow(zB, zA, znT, ztT)[0].detach().cpu().reshape(BATCHSIZE,-1,3).numpy()\n",
    "            #p = generator.sample(BATCHSIZE).cpu().detach().reshape(BATCHSIZE,-1,3).numpy()\n",
    "            pos.append(samples)\n",
    "\n",
    "        \n",
    "        positions = np.concatenate(pos)\n",
    "        for p in tqdm(positions):\n",
    "            Context.setPositions(p)\n",
    "            for i, (q, n) in enumerate(zip(quants,names)):\n",
    "                #ipdb.set_trace()\n",
    "                state = Context.getState(\n",
    "                                getEnergy=True,\n",
    "                                getForces=False,\n",
    "                                getPositions=False,\n",
    "                                groups = {i})\n",
    "                #ipdb.set_trace()\n",
    "                energies[n].append(state.getPotentialEnergy())\n",
    "        \n",
    "        #for key in energies:\n",
    "        #    print(f\"{key}: {energies[key].mean()}\")\n",
    "        print(\"*****de-novo-samples*****\")\n",
    "        resdict_NLL = {}\n",
    "        for key in energies:\n",
    "            val = kbT(np.array(energies[key]._value))\n",
    "            print(f\"{key}: {val}\")\n",
    "            resdict_NLL[key] = val\n",
    "resdict_NLL.pop(\"CMMremover\")\n",
    "resdict_MD.pop(\"CMMremover\")"
   ]
  },
  {
   "cell_type": "markdown",
   "id": "6486cac8-7b88-42f1-9aee-7620f7e296d1",
   "metadata": {},
   "source": [
    "## MD"
   ]
  },
  {
   "cell_type": "code",
   "execution_count": 7,
   "id": "56fec463-e0c5-4908-b48d-5d402f4441f3",
   "metadata": {},
   "outputs": [
    {
     "data": {
      "text/plain": [
       "{'Bonds': array([17.47729488, 14.20430644,  9.94066334, ..., 15.5658524 ,\n",
       "        14.92656314, 11.4017638 ]),\n",
       " 'Angles': array([48.76370176, 55.50239012, 66.36682717, ..., 52.69795714,\n",
       "        47.79192438, 43.33106737]),\n",
       " 'Torsion': array([39.90528003, 46.89109947, 38.03717775, ..., 39.43724728,\n",
       "        36.76494741, 43.62988286]),\n",
       " 'Nonbonded': array([-129.80443141,  -33.82796458, -135.33446451, ..., -216.44981858,\n",
       "        -124.73070856, -221.8107291 ]),\n",
       " 'GB': array([-366.24710702, -462.20082984, -351.04928562, ..., -282.72376804,\n",
       "        -363.46639545, -279.15168599])}"
      ]
     },
     "execution_count": 7,
     "metadata": {},
     "output_type": "execute_result"
    }
   ],
   "source": [
    "#np.save(f'resdict_MD_{nb_fname}.npy', resdict_MD)\n",
    "# Load\n",
    "resdict_MD = np.load(f'resdict_MD_{nb_fname}.npy',allow_pickle='TRUE').item()\n",
    "D_MD = resdict_MD\n",
    "D_MD"
   ]
  },
  {
   "cell_type": "code",
   "execution_count": 75,
   "id": "dc7d9015-6505-4fb5-ae0a-d62fa96e8eeb",
   "metadata": {},
   "outputs": [
    {
     "name": "stderr",
     "output_type": "stream",
     "text": [
      "/tmp/ipykernel_16350/1291166615.py:7: UserWarning: FixedFormatter should only be used together with FixedLocator\n",
      "  ax.set_xticklabels(keys)\n"
     ]
    },
    {
     "data": {
      "image/png": "[encoded data removed]",
      "text/plain": [
       "<Figure size 432x288 with 1 Axes>"
      ]
     },
     "metadata": {
      "needs_background": "light"
     },
     "output_type": "display_data"
    }
   ],
   "source": [
    "# Plot in Boxplot\n",
    "fig = plt.figure()\n",
    " \n",
    "# Creating axes instance\n",
    "ax = fig.add_axes([ 0, 0, 1, 1])\n",
    "keys = ['O', 'Bonds', 'Angles', 'Torsion', 'Nonbonded', 'GB']\n",
    "ax.set_xticklabels(keys)\n",
    "\n",
    "plt.ylabel('Energy Term [kbT]')\n",
    "#ax.set_yscale('symlog')\n",
    " \n",
    "# Creating plot\n",
    "bp = ax.violinplot(list(D_MD.values()), showmedians=True, showextrema=True, quantiles=[(0.25, 0.75), (0.25, 0.75), (0.25, 0.75), (0.25, 0.75),(0.25, 0.75)])\n",
    "\n",
    "plt.xticks(rotation=90)\n",
    "plt.title('MD: Energy Term Violin Plot of 1b4z/KDK')\n",
    "plt.savefig(f\"figures/ETerms_{nb_fname}_MD.png\", bbox_inches=\"tight\")\n",
    "plt.show()"
   ]
  },
  {
   "cell_type": "markdown",
   "id": "75f00022-ebd9-45ca-88fb-39267728d097",
   "metadata": {},
   "source": [
    "## NLL"
   ]
  },
  {
   "cell_type": "code",
   "execution_count": 8,
   "id": "894059e5-0973-4c35-89d1-635ed02019d1",
   "metadata": {},
   "outputs": [
    {
     "data": {
      "text/plain": [
       "{'Bonds': array([26.25834457, 25.37918113, 18.69762027, ..., 16.14267767,\n",
       "        14.27490684, 10.74778261]),\n",
       " 'Angles': array([61.52502926, 78.42996227, 61.37457141, ..., 53.02088894,\n",
       "        71.85701498, 70.22744996]),\n",
       " 'Torsion': array([41.9239453 , 46.90067477, 47.16777128, ..., 43.63749792,\n",
       "        45.9724836 , 42.33714584]),\n",
       " 'Nonbonded': array([-2.81574306e+01, -4.93067745e+00,  9.52775644e+05, ...,\n",
       "        -1.17163380e+02, -1.47302539e+02,  3.69806572e+01]),\n",
       " 'GB': array([-463.07905451, -479.85409573, -359.2887659 , ..., -361.18223666,\n",
       "        -328.67035881, -515.53123066])}"
      ]
     },
     "execution_count": 8,
     "metadata": {},
     "output_type": "execute_result"
    }
   ],
   "source": [
    "#np.save(f'resdict_NLL_{nb_fname}.npy', resdict_NLL)\n",
    "# Load\n",
    "resdict_NLL = np.load(f'resdict_NLL_{nb_fname}.npy',allow_pickle='TRUE').item()\n",
    "D_NLL = resdict_NLL\n",
    "D_NLL"
   ]
  },
  {
   "cell_type": "code",
   "execution_count": 9,
   "id": "942e0ed5-6968-423f-8ba9-c3bbcf9bd816",
   "metadata": {},
   "outputs": [],
   "source": [
    "D_NLL[\"Nonbonded\"] = D_NLL[\"Nonbonded\"][D_NLL[\"Nonbonded\"] < np.percentile(D_NLL[\"Nonbonded\"], 90)]"
   ]
  },
  {
   "cell_type": "code",
   "execution_count": 89,
   "id": "92bf8790-8ed6-4e40-8c8c-03157fecd89a",
   "metadata": {},
   "outputs": [
    {
     "name": "stderr",
     "output_type": "stream",
     "text": [
      "/tmp/ipykernel_16350/2313940528.py:7: UserWarning: FixedFormatter should only be used together with FixedLocator\n",
      "  ax.set_xticklabels(keys)\n"
     ]
    },
    {
     "data": {
      "image/png": "[encoded data removed]",
      "text/plain": [
       "<Figure size 432x288 with 1 Axes>"
      ]
     },
     "metadata": {
      "needs_background": "light"
     },
     "output_type": "display_data"
    }
   ],
   "source": [
    "# Plot in Boxplot\n",
    "fig = plt.figure()\n",
    " \n",
    "# Creating axes instance\n",
    "ax = fig.add_axes([ 0, 0, 1, 1])\n",
    "keys = ['O', 'Bonds', 'Angles', 'Torsion', 'Nonbonded', 'GB']\n",
    "ax.set_xticklabels(keys)\n",
    "\n",
    "plt.ylabel('Energy Term [kbT]')\n",
    "ax.set_yscale('symlog')\n",
    "\n",
    "# Creating plot\n",
    "bp = ax.violinplot(list(D_NLL.values()), showmedians=True, showextrema=True, quantiles=[(0.25, 0.75), (0.25, 0.75), (0.25, 0.75), (0.25, 0.75),(0.25, 0.75)])\n",
    "\n",
    "plt.xticks(rotation=90)\n",
    "plt.title('BG (NLL): Energy Term Violin Plot of 1b4z/KDK')\n",
    "plt.savefig(f\"figures/ETerms_{nb_fname}_NLL.png\", bbox_inches=\"tight\")\n",
    "plt.show()"
   ]
  },
  {
   "cell_type": "markdown",
   "id": "e6557afe-47a0-4429-93df-20bd7cb2bdf4",
   "metadata": {},
   "source": [
    "## Mixed"
   ]
  },
  {
   "cell_type": "code",
   "execution_count": 10,
   "id": "5ea2bc73-875e-4d0b-8414-26b602721411",
   "metadata": {},
   "outputs": [
    {
     "data": {
      "text/plain": [
       "{'Bonds': array([21.39594439, 14.31639625, 18.94596895, ..., 13.34814869,\n",
       "        18.52237958, 13.17412316]),\n",
       " 'Angles': array([45.7177214 , 71.41569414, 49.78359569, ..., 49.62259511,\n",
       "        51.55335912, 41.30458808]),\n",
       " 'Torsion': array([39.87584484, 42.27008292, 41.89883   , ..., 45.78079644,\n",
       "        46.04128379, 51.90163857]),\n",
       " 'Nonbonded': array([ -60.51281759,  -19.16826212,  -50.22631361, ...,  -18.68273774,\n",
       "         753.77707665, -116.13127703]),\n",
       " 'GB': array([-424.4546926 , -458.1225924 , -422.46837395, ..., -461.32081719,\n",
       "        -415.41369231, -367.91158845])}"
      ]
     },
     "execution_count": 10,
     "metadata": {},
     "output_type": "execute_result"
    }
   ],
   "source": [
    "#np.save(f'resdict_Mixed_{nb_fname}.npy', resdict_Mixed)\n",
    "# Load\n",
    "resdict_Mixed = np.load(f'resdict_Mixed_{nb_fname}.npy',allow_pickle='TRUE').item()\n",
    "D_Mix = resdict_Mixed\n",
    "D_Mix"
   ]
  },
  {
   "cell_type": "code",
   "execution_count": 11,
   "id": "8f1136a0-73dc-4d0b-b589-feb608927308",
   "metadata": {},
   "outputs": [],
   "source": [
    "D_Mix[\"Nonbonded\"] = D_Mix[\"Nonbonded\"][D_Mix[\"Nonbonded\"] < np.percentile(D_Mix[\"Nonbonded\"], 90)]"
   ]
  },
  {
   "cell_type": "code",
   "execution_count": 189,
   "id": "bbc65e95-c861-43e2-bb6f-30d200f03371",
   "metadata": {},
   "outputs": [
    {
     "name": "stderr",
     "output_type": "stream",
     "text": [
      "/tmp/ipykernel_16350/2743204561.py:7: UserWarning: FixedFormatter should only be used together with FixedLocator\n",
      "  ax.set_xticklabels(keys)\n"
     ]
    },
    {
     "data": {
      "image/png": "[encoded data removed]",
      "text/plain": [
       "<Figure size 432x288 with 1 Axes>"
      ]
     },
     "metadata": {
      "needs_background": "light"
     },
     "output_type": "display_data"
    }
   ],
   "source": [
    "# Plot in Boxplot\n",
    "fig = plt.figure()\n",
    " \n",
    "# Creating axes instance\n",
    "ax = fig.add_axes([ 0, 0, 1, 1])\n",
    "keys = ['O', 'Bonds', 'Angles', 'Torsion', 'Nonbonded', 'GB']\n",
    "ax.set_xticklabels(keys)\n",
    "\n",
    "plt.ylabel('Energy Term [kbT]')\n",
    "ax.set_yscale('symlog')\n",
    "\n",
    "# Creating plot\n",
    "bp = ax.violinplot(list(D_Mix.values()), showmedians=True, showextrema=True, quantiles=[(0.25, 0.75), (0.25, 0.75), (0.25, 0.75), (0.25, 0.75),(0.25, 0.75)])\n",
    "\n",
    "plt.xticks(rotation=90)\n",
    "plt.title('BG (NLL+KLL): Energy Term Violin Plot of 1b4z/KDK')\n",
    "plt.savefig(f\"figures/ETerms_{nb_fname}_Mixed.png\", bbox_inches=\"tight\")\n",
    "plt.show()"
   ]
  },
  {
   "cell_type": "markdown",
   "id": "17127461-f107-4f36-98ab-b85e3e3ecd6e",
   "metadata": {},
   "source": [
    "## KLL"
   ]
  },
  {
   "cell_type": "code",
   "execution_count": 12,
   "id": "778d8d33-efb9-4a12-886e-a89403d97b5d",
   "metadata": {},
   "outputs": [
    {
     "data": {
      "text/plain": [
       "{'Bonds': array([18.91723267, 22.8678849 , 19.06382254, ..., 19.32114804,\n",
       "        17.05932642, 17.94477316]),\n",
       " 'Angles': array([37.81995139, 43.22003899, 49.60996445, ..., 48.86879106,\n",
       "        55.3947731 , 50.03015428]),\n",
       " 'Torsion': array([42.60304063, 35.9873658 , 42.95908999, ..., 44.26683473,\n",
       "        44.46949069, 36.54725362]),\n",
       " 'Nonbonded': array([-75.14900414, -76.01123291, -96.6292842 , ...,  43.51621951,\n",
       "        -49.30381331,   6.95426366]),\n",
       " 'GB': array([-417.82865622, -415.63175273, -400.4569667 , ..., -485.07720417,\n",
       "        -441.61899097, -496.74711568])}"
      ]
     },
     "execution_count": 12,
     "metadata": {},
     "output_type": "execute_result"
    }
   ],
   "source": [
    "#np.save(f'resdict_KLL_{nb_fname}.npy', resdict_KLL)\n",
    "# Load\n",
    "resdict_KLL = np.load(f'resdict_KLL_{nb_fname}.npy',allow_pickle='TRUE').item()\n",
    "D_KLL = resdict_KLL\n",
    "D_KLL"
   ]
  },
  {
   "cell_type": "code",
   "execution_count": 13,
   "id": "3fed3e18-4135-4f85-b2d1-c7df69312b6e",
   "metadata": {},
   "outputs": [],
   "source": [
    "D_KLL[\"Nonbonded\"] = D_KLL[\"Nonbonded\"][D_KLL[\"Nonbonded\"] < np.percentile(D_KLL[\"Nonbonded\"], 90)]"
   ]
  },
  {
   "cell_type": "code",
   "execution_count": 182,
   "id": "2545f96e-7a0b-4f51-b338-c1d6d1feb4b2",
   "metadata": {},
   "outputs": [
    {
     "name": "stderr",
     "output_type": "stream",
     "text": [
      "/tmp/ipykernel_16350/3576405215.py:7: UserWarning: FixedFormatter should only be used together with FixedLocator\n",
      "  ax.set_xticklabels(keys)\n"
     ]
    },
    {
     "data": {
      "image/png": "[encoded data removed]",
      "text/plain": [
       "<Figure size 432x288 with 1 Axes>"
      ]
     },
     "metadata": {
      "needs_background": "light"
     },
     "output_type": "display_data"
    }
   ],
   "source": [
    "# Plot in Boxplot\n",
    "fig = plt.figure()\n",
    " \n",
    "# Creating axes instance\n",
    "ax = fig.add_axes([ 0, 0, 1, 1])\n",
    "keys = ['O', 'Bonds', 'Angles', 'Torsion', 'Nonbonded', 'GB']\n",
    "ax.set_xticklabels(keys)\n",
    "\n",
    "plt.ylabel('Energy Term [kbT]')\n",
    "ax.set_yscale('symlog')\n",
    "\n",
    "# Creating plot\n",
    "bp = ax.violinplot(list(D_KLL.values()), showmedians=True, showextrema=True, quantiles=[(0.25, 0.75), (0.25, 0.75), (0.25, 0.75), (0.25, 0.75),(0.25, 0.75)])\n",
    "\n",
    "plt.xticks(rotation=90)\n",
    "plt.title('BG (KLL): Energy Term Violin Plot of 1b4z/KDK')\n",
    "plt.savefig(f\"figures/ETerms_{nb_fname}_KLL.png\", bbox_inches=\"tight\")\n",
    "plt.show()"
   ]
  },
  {
   "cell_type": "markdown",
   "id": "6a92ad2c-c17b-45ba-b837-90e2e55e6ea7",
   "metadata": {},
   "source": [
    "## KLL (no GB)"
   ]
  },
  {
   "cell_type": "code",
   "execution_count": 14,
   "id": "c32be0ad-f9ab-4220-a50d-35e016be3b96",
   "metadata": {},
   "outputs": [
    {
     "data": {
      "text/plain": [
       "{'Bonds': array([16.76785159, 20.04959989, 19.51781211, ..., 19.54926297,\n",
       "        18.97382126, 21.6086443 ]),\n",
       " 'Angles': array([47.6459253 , 45.57072036, 46.72592402, ..., 54.21585315,\n",
       "        52.27302996, 43.19033589]),\n",
       " 'Torsion': array([40.04844689, 41.70069987, 54.34709211, ..., 40.76667254,\n",
       "        34.34526263, 39.27563012]),\n",
       " 'Nonbonded': array([ -91.61486408, -122.30781414, 1661.96902923, ...,  -12.06752687,\n",
       "         -63.2740415 , -135.68655803]),\n",
       " 'GB': array([-382.08102633, -349.7263038 , -446.50605105, ..., -471.77710463,\n",
       "        -398.75162495, -334.22929674])}"
      ]
     },
     "execution_count": 14,
     "metadata": {},
     "output_type": "execute_result"
    }
   ],
   "source": [
    "#np.save(f'resdict_KLL_no_GB_{nb_fname}.npy', resdict_KLL_no_GB)\n",
    "# Load\n",
    "resdict_KLL_no_GB = np.load(f'resdict_KLL_no_GB_{nb_fname}.npy',allow_pickle='TRUE').item()\n",
    "D_KLL_no_GB = resdict_KLL_no_GB\n",
    "D_KLL_no_GB"
   ]
  },
  {
   "cell_type": "code",
   "execution_count": 15,
   "id": "77d93cb8-af83-4e5b-a436-2b1161501b57",
   "metadata": {},
   "outputs": [],
   "source": [
    "D_KLL_no_GB[\"Nonbonded\"] = D_KLL_no_GB[\"Nonbonded\"][D_KLL_no_GB[\"Nonbonded\"] < np.percentile(D_KLL_no_GB[\"Nonbonded\"], 90)]"
   ]
  },
  {
   "cell_type": "code",
   "execution_count": 195,
   "id": "fc9bd1eb-7ac4-423a-b323-9e0fc07f2b5d",
   "metadata": {},
   "outputs": [
    {
     "name": "stderr",
     "output_type": "stream",
     "text": [
      "/tmp/ipykernel_16350/3038284024.py:7: UserWarning: FixedFormatter should only be used together with FixedLocator\n",
      "  ax.set_xticklabels(keys)\n"
     ]
    },
    {
     "data": {
      "image/png": "[encoded data removed]",
      "text/plain": [
       "<Figure size 432x288 with 1 Axes>"
      ]
     },
     "metadata": {
      "needs_background": "light"
     },
     "output_type": "display_data"
    }
   ],
   "source": [
    "# Plot in Boxplot\n",
    "fig = plt.figure()\n",
    " \n",
    "# Creating axes instance\n",
    "ax = fig.add_axes([ 0, 0, 1, 1])\n",
    "keys = ['O', 'Bonds', 'Angles', 'Torsion', 'Nonbonded', 'GB']\n",
    "ax.set_xticklabels(keys)\n",
    "\n",
    "plt.ylabel('Energy Term [kbT]')\n",
    "ax.set_yscale('symlog')\n",
    "\n",
    "# Creating plot\n",
    "bp = ax.violinplot(list(D_KLL_no_GB.values()), showmedians=True, showextrema=True, quantiles=[(0.25, 0.75), (0.25, 0.75), (0.25, 0.75), (0.25, 0.75),(0.25, 0.75)])\n",
    "\n",
    "plt.xticks(rotation=90)\n",
    "plt.title('BG (KLL (no GB)): Energy Term Violin Plot of 1b4z/KDK')\n",
    "plt.savefig(f\"figures/ETerms_{nb_fname}_KLL_no_GB.png\", bbox_inches=\"tight\")\n",
    "plt.show()"
   ]
  },
  {
   "cell_type": "markdown",
   "id": "15666c03-7c06-4419-874d-d497a181433e",
   "metadata": {
    "tags": []
   },
   "source": [
    "## Compare NB and GB between MD and BG"
   ]
  },
  {
   "cell_type": "markdown",
   "id": "f036b90e-e971-439e-9d9b-23de8ecf8e05",
   "metadata": {},
   "source": [
    "First we directly compare the different energy terms directly after training by example and which differ most."
   ]
  },
  {
   "cell_type": "markdown",
   "id": "63e0559b-76c4-4dcb-8497-f65b8f2eff70",
   "metadata": {
    "tags": []
   },
   "source": [
    "### Violinplot"
   ]
  },
  {
   "cell_type": "code",
   "execution_count": 215,
   "id": "f3336d4e-bf5f-4093-a046-3d61f1eb245d",
   "metadata": {},
   "outputs": [
    {
     "data": {
      "image/png": "[encoded data removed]",
      "text/plain": [
       "<Figure size 720x288 with 3 Axes>"
      ]
     },
     "metadata": {
      "needs_background": "light"
     },
     "output_type": "display_data"
    }
   ],
   "source": [
    "fig, axs = plt.subplots(nrows=1, ncols=3, figsize=(10, 4), gridspec_kw={'width_ratios': [6, 2, 2], 'wspace': 0.4,})\n",
    "\n",
    "labels = []\n",
    "def add_label(violin, label):\n",
    "    color = violin[\"bodies\"][0].get_facecolor().flatten()\n",
    "    labels.append((mpatches.Patch(color=color), label))\n",
    "\n",
    "# Plot 1\n",
    "pos_1 = [1, 4, 7]\n",
    "pos_2 = [2, 5, 8]\n",
    "\n",
    "parts_1 = axs[0].violinplot(list(resdict_MD.values())[0:3], pos_1, showmedians=True)\n",
    "\n",
    "for pc in parts_1['bodies']:\n",
    "    pc.set_facecolor('blue')\n",
    "    \n",
    "add_label(parts_1, \"MD\")\n",
    "\n",
    "parts_2 = axs[0].violinplot(list(D_NLL.values())[0:3], pos_2, showmedians=True)\n",
    "\n",
    "for pc in parts_2['bodies']:\n",
    "    pc.set_facecolor('orange')\n",
    "\n",
    "add_label(parts_2, \"BG-NLL\")\n",
    "\n",
    "plt.sca(axs[0])\n",
    "plt.xlabel(\"   Bonds                 Angles                Torsions\", fontweight='bold')\n",
    "plt.xticks([])\n",
    "\n",
    "\n",
    "plt.ylabel('Energy Term [kbT]')\n",
    "plt.legend(*zip(*labels), loc='upper left')\n",
    "\n",
    "# Plot 2\n",
    "pos_1 = [1]\n",
    "pos_2 = [2]\n",
    "\n",
    "parts_1 = axs[1].violinplot(list(resdict_MD.values())[3:4], pos_1, showmedians=True)\n",
    "\n",
    "for pc in parts_1['bodies']:\n",
    "    pc.set_facecolor('blue')\n",
    "    \n",
    "add_label(parts_1, \"MD\")\n",
    "\n",
    "parts_2 = axs[1].violinplot(list(D_NLL.values())[3:4], pos_2, showmedians=True)\n",
    "\n",
    "for pc in parts_2['bodies']:\n",
    "    pc.set_facecolor('orange')\n",
    "\n",
    "add_label(parts_2, \"BG-NLL\")\n",
    "\n",
    "axs[1].set_yscale('symlog')\n",
    "plt.sca(axs[1])\n",
    "plt.xlabel(\"Non-Bonded\", fontweight='bold')\n",
    "plt.xticks([])\n",
    "\n",
    "# Plot 3\n",
    "pos_1 = [1]\n",
    "pos_2 = [2]\n",
    "\n",
    "parts_1 = axs[2].violinplot(list(resdict_MD.values())[4:5], pos_1, showmedians=True)\n",
    "\n",
    "for pc in parts_1['bodies']:\n",
    "    pc.set_facecolor('blue')\n",
    "    \n",
    "add_label(parts_1, \"MD\")\n",
    "\n",
    "parts_2 = axs[2].violinplot(list(D_NLL.values())[4:5], pos_2, showmedians=True)\n",
    "\n",
    "for pc in parts_2['bodies']:\n",
    "    pc.set_facecolor('orange')\n",
    "\n",
    "add_label(parts_2, \"BG-NLL\")\n",
    "\n",
    "#axs[2].set_yscale('symlog')\n",
    "plt.sca(axs[2])\n",
    "plt.sca(axs[2])\n",
    "plt.xlabel(\"GB\", fontweight='bold')\n",
    "plt.xticks([])\n",
    "\n",
    "\n",
    "#fig.suptitle(\"Energy Terms of MD and BG-NLL Samples\")\n",
    "\n",
    "plt.savefig(f\"figures/ETerms_{nb_fname}_comp_MD_NLL.png\", bbox_inches=\"tight\")\n",
    "plt.show()"
   ]
  },
  {
   "cell_type": "code",
   "execution_count": 17,
   "id": "fd7cffcf-14ec-45d7-a4f1-0b50942cfc63",
   "metadata": {},
   "outputs": [
    {
     "data": {
      "image/png": "[encoded data removed]",
      "text/plain": [
       "<Figure size 1440x288 with 3 Axes>"
      ]
     },
     "metadata": {
      "needs_background": "light"
     },
     "output_type": "display_data"
    }
   ],
   "source": [
    "fig, axs = plt.subplots(nrows=1, ncols=3, figsize=(20, 4), gridspec_kw={'width_ratios': [12, 4, 4], 'wspace': 0.2,})\n",
    "\n",
    "labels = []\n",
    "def add_label(violin, label):\n",
    "    color = violin[\"bodies\"][0].get_facecolor().flatten()\n",
    "    labels.append((mpatches.Patch(color=color), label))\n",
    "\n",
    "# Plot 1\n",
    "pos_1 = [1, 7, 13]\n",
    "pos_2 = [2, 8, 14]\n",
    "pos_3 = [3, 9, 15]\n",
    "pos_4 = [4, 10, 16]\n",
    "pos_5 = [5, 11, 17]\n",
    "\n",
    "parts_1 = axs[0].violinplot(list(resdict_MD.values())[0:3], pos_1, showmedians=True)\n",
    "\n",
    "#for pc in parts_1['bodies']:\n",
    "    #pc.set_facecolor('blue')\n",
    "    \n",
    "add_label(parts_1, \"MD\")\n",
    "\n",
    "parts_2 = axs[0].violinplot(list(D_NLL.values())[0:3], pos_2, showmedians=True)\n",
    "\n",
    "#for pc in parts_2['bodies']:\n",
    " #   pc.set_facecolor('orange')\n",
    "\n",
    "add_label(parts_2, \"BG-NLL\")\n",
    "\n",
    "parts_3 = axs[0].violinplot(list(D_Mix.values())[0:3], pos_3, showmedians=True)\n",
    "\n",
    "#for pc in parts_3['bodies']:\n",
    " #   pc.set_facecolor('gold')\n",
    "\n",
    "add_label(parts_3, \"BG-NLL+KLL\")\n",
    "\n",
    "parts_4 = axs[0].violinplot(list(D_KLL.values())[0:3], pos_4, showmedians=True)\n",
    "\n",
    "#for pc in parts_4['bodies']:\n",
    " #   pc.set_facecolor('green')\n",
    "\n",
    "add_label(parts_4, \"BG-KLL\")\n",
    "\n",
    "parts_5 = axs[0].violinplot(list(D_KLL_no_GB.values())[0:3], pos_5, showmedians=True)\n",
    "\n",
    "#for pc in parts_5['bodies']:\n",
    " #   pc.set_facecolor('red')\n",
    "\n",
    "add_label(parts_5, \"BG-KLL (no GB)\")\n",
    "\n",
    "plt.sca(axs[0])\n",
    "plt.xlabel(\"Bonds                                               Angles                                             Torsions\", fontweight='bold')\n",
    "plt.xticks([])\n",
    "\n",
    "\n",
    "plt.ylabel('Energy Term [kbT]')\n",
    "plt.legend(*zip(*labels), loc='upper left')\n",
    "\n",
    "# Plot 2\n",
    "pos_1 = [1]\n",
    "pos_2 = [2]\n",
    "pos_3 = [3]\n",
    "pos_4 = [4]\n",
    "pos_5 = [5]\n",
    "\n",
    "parts_1 = axs[1].violinplot(list(resdict_MD.values())[3:4], pos_1, showmedians=True)\n",
    "\n",
    "#for pc in parts_1['bodies']:\n",
    " #   pc.set_facecolor('blue')\n",
    "    \n",
    "add_label(parts_1, \"MD\")\n",
    "\n",
    "parts_2 = axs[1].violinplot(list(D_NLL.values())[3:4], pos_2, showmedians=True)\n",
    "\n",
    "#for pc in parts_2['bodies']:\n",
    "  #  pc.set_facecolor('orange')\n",
    "\n",
    "add_label(parts_2, \"BG-NLL\")\n",
    "\n",
    "parts_3 = axs[1].violinplot(list(D_Mix.values())[3:4], pos_3, showmedians=True)\n",
    "\n",
    "#for pc in parts_3['bodies']:\n",
    "  #  pc.set_facecolor('gold')\n",
    "\n",
    "add_label(parts_3, \"BG-NLL+KLL\")\n",
    "\n",
    "parts_4 = axs[1].violinplot(list(D_KLL.values())[3:4], pos_4, showmedians=True)\n",
    "\n",
    "#for pc in parts_4['bodies']:\n",
    " #   pc.set_facecolor('green')\n",
    "\n",
    "add_label(parts_4, \"BG-KLL\")\n",
    "\n",
    "parts_5 = axs[1].violinplot(list(D_KLL_no_GB.values())[3:4], pos_5, showmedians=True)\n",
    "\n",
    "#for pc in parts_5['bodies']:\n",
    " #   pc.set_facecolor('red')\n",
    "\n",
    "add_label(parts_5, \"BG-KLL (no GB)\")\n",
    "\n",
    "axs[1].set_yscale('symlog')\n",
    "plt.sca(axs[1])\n",
    "plt.xlabel(\"Non-Bonded\", fontweight='bold')\n",
    "plt.xticks([])\n",
    "\n",
    "# Plot 3\n",
    "pos_1 = [1]\n",
    "pos_2 = [2]\n",
    "pos_3 = [3]\n",
    "pos_4 = [4]\n",
    "pos_5 = [5]\n",
    "\n",
    "parts_1 = axs[2].violinplot(list(resdict_MD.values())[4:5], pos_1, showmedians=True)\n",
    "\n",
    "#for pc in parts_1['bodies']:\n",
    " #   pc.set_facecolor('blue')\n",
    "    \n",
    "add_label(parts_1, \"MD\")\n",
    "\n",
    "parts_2 = axs[2].violinplot(list(D_NLL.values())[4:5], pos_2, showmedians=True)\n",
    "\n",
    "#for pc in parts_2['bodies']:\n",
    " #   pc.set_facecolor('orange')\n",
    "\n",
    "add_label(parts_2, \"BG-NLL\")\n",
    "\n",
    "parts_3 = axs[2].violinplot(list(D_Mix.values())[4:5], pos_3, showmedians=True)\n",
    "\n",
    "#for pc in parts_3['bodies']:\n",
    "  #  pc.set_facecolor('gold')\n",
    "\n",
    "add_label(parts_3, \"BG-NLL+KLL\")\n",
    "\n",
    "parts_4 = axs[2].violinplot(list(D_KLL.values())[4:5], pos_4, showmedians=True)\n",
    "\n",
    "#for pc in parts_4['bodies']:\n",
    " #   pc.set_facecolor('green')\n",
    "\n",
    "add_label(parts_4, \"BG-KLL\")\n",
    "\n",
    "parts_5 = axs[2].violinplot(list(D_KLL_no_GB.values())[4:5], pos_5, showmedians=True)\n",
    "\n",
    "#for pc in parts_5['bodies']:\n",
    "  #  pc.set_facecolor('red')\n",
    "\n",
    "add_label(parts_5, \"BG-KLL (no GB)\")\n",
    "\n",
    "#axs[2].set_yscale('symlog')\n",
    "plt.sca(axs[2])\n",
    "plt.xlabel(\"GB\", fontweight='bold')\n",
    "plt.xticks([])\n",
    "\n",
    "\n",
    "#fig.suptitle(\"Energy Terms of MD and BG-NLL Samples\")\n",
    "\n",
    "plt.savefig(f\"figures/ETerms_{nb_fname}_comp_MD_NLL_full.png\", bbox_inches=\"tight\")\n",
    "plt.show()"
   ]
  },
  {
   "cell_type": "markdown",
   "id": "f1fdacd1-3655-4e81-b25f-c136d255129b",
   "metadata": {
    "jp-MarkdownHeadingCollapsed": true,
    "tags": []
   },
   "source": [
    "### Barplot"
   ]
  },
  {
   "cell_type": "code",
   "execution_count": null,
   "id": "57e57908-27c2-4c70-a884-719620645204",
   "metadata": {},
   "outputs": [],
   "source": [
    "plt.bar(range(len(resdict_MD)), list(resdict_MD.values()), -0.3, align='edge', label='MD')\n",
    "\n",
    "plt.bar(range(len(resdict_NLL)), list(resdict_NLL.values()), +0.3, align='edge', color='orange', label='BG-NLL')\n",
    "\n",
    "plt.xticks(range(len(D)), list(D.keys()))\n",
    "ax = plt.gca()\n",
    "#ax.set_ylim([-1000, 4000])\n",
    "max_y_lim = max(resdict_NLL.values()) + 50\n",
    "min_y_lim = min(resdict_NLL.values()) - 50\n",
    "plt.ylim(min_y_lim, max_y_lim)\n",
    "plt.ylabel('Energy Term [kbT]')\n",
    "#ax.set_yscale('symlog')\n",
    "plt.xticks(rotation=90)\n",
    "plt.legend(loc='lower left')\n",
    "plt.savefig(f\"figures/ETerms_{nb_fname}_comp_MD_NLL.png\", bbox_inches=\"tight\")\n",
    "plt.show()"
   ]
  },
  {
   "cell_type": "markdown",
   "id": "1dd4c8b2-a0a8-45d6-aa45-99dd2ef81651",
   "metadata": {},
   "source": [
    "As the BG seems to be easily able to correctly sample the Energies of the Molecules Bonds, Angles and Torsions - which can be seen in the above comparison - the Nonbonded and GB Energy Terms are compared between the MD snapshots and the samples after NLL and KLL training."
   ]
  },
  {
   "cell_type": "markdown",
   "id": "715388a3-22b0-4620-9106-59f578ba2084",
   "metadata": {
    "tags": []
   },
   "source": [
    "### Violinplot"
   ]
  },
  {
   "cell_type": "code",
   "execution_count": 37,
   "id": "fb9b3cbb-5796-4db9-a74e-5bc14c90424e",
   "metadata": {},
   "outputs": [
    {
     "data": {
      "image/png": "[encoded data removed]",
      "text/plain": [
       "<Figure size 720x288 with 2 Axes>"
      ]
     },
     "metadata": {
      "needs_background": "light"
     },
     "output_type": "display_data"
    }
   ],
   "source": [
    "fig, axs = plt.subplots(nrows=1, ncols=2, figsize=(10, 4), gridspec_kw={'width_ratios': [5, 5], 'wspace': 0.2,})\n",
    "\n",
    "labels = []\n",
    "def add_label(violin, label):\n",
    "    color = violin[\"bodies\"][0].get_facecolor().flatten()\n",
    "    labels.append((mpatches.Patch(color=color), label))\n",
    "\n",
    "# Plot 1\n",
    "pos_1 = [1]\n",
    "pos_2 = [2]\n",
    "pos_3 = [3]\n",
    "pos_4 = [4]\n",
    "\n",
    "parts_1 = axs[0].violinplot(list(D_MD.values())[3:4], pos_1, showmedians=True)\n",
    "for pc in parts_1['bodies']:\n",
    "    pc.set_facecolor('blue')   \n",
    "add_label(parts_1, \"MD\")\n",
    "\n",
    "parts_2 = axs[0].violinplot(list(D_NLL.values())[3:4], pos_2, showmedians=True)\n",
    "for pc in parts_2['bodies']:\n",
    "    pc.set_facecolor('orange')\n",
    "add_label(parts_2, \"BG-NLL\")\n",
    "\n",
    "parts_3 = axs[0].violinplot(list(D_KLL.values())[3:4], pos_3, showmedians=True)\n",
    "for pc in parts_3['bodies']:\n",
    "    pc.set_facecolor('green')   \n",
    "add_label(parts_3, \"BG-KLL\")\n",
    "\n",
    "parts_4 = axs[0].violinplot(list(D_KLL_no_GB.values())[3:4], pos_4, showmedians=True)\n",
    "for pc in parts_4['bodies']:\n",
    "    pc.set_facecolor('red')\n",
    "add_label(parts_4, \"BG-KLL (no GB)\")\n",
    "\n",
    "axs[0].set_yscale('symlog')\n",
    "plt.sca(axs[0])\n",
    "plt.xlabel(\"Non-Bonded\", fontweight='bold')\n",
    "plt.xticks([])\n",
    "\n",
    "plt.ylabel('Energy Term [kbT]')\n",
    "plt.legend(*zip(*labels), loc='upper right')\n",
    "\n",
    "# Plot 2\n",
    "pos_1 = [1]\n",
    "pos_2 = [2]\n",
    "pos_3 = [3]\n",
    "pos_4 = [4]\n",
    "\n",
    "parts_1 = axs[1].violinplot(list(D_MD.values())[4:5], pos_1, showmedians=True)\n",
    "for pc in parts_1['bodies']:\n",
    "    pc.set_facecolor('blue')   \n",
    "add_label(parts_1, \"MD\")\n",
    "\n",
    "parts_2 = axs[1].violinplot(list(D_NLL.values())[4:5], pos_2, showmedians=True)\n",
    "for pc in parts_2['bodies']:\n",
    "    pc.set_facecolor('orange')\n",
    "add_label(parts_2, \"BG-NLL\")\n",
    "\n",
    "parts_3 = axs[1].violinplot(list(D_KLL.values())[4:5], pos_3, showmedians=True)\n",
    "for pc in parts_3['bodies']:\n",
    "    pc.set_facecolor('green')   \n",
    "add_label(parts_3, \"BG-KLL\")\n",
    "\n",
    "parts_4 = axs[1].violinplot(list(D_KLL_no_GB.values())[4:5], pos_4, showmedians=True)\n",
    "for pc in parts_4['bodies']:\n",
    "    pc.set_facecolor('red')\n",
    "add_label(parts_4, \"BG-KLL (no GB)\")\n",
    "\n",
    "#axs[1].set_yscale('symlog')\n",
    "plt.sca(axs[1])\n",
    "plt.xlabel(\"GB\", fontweight='bold')\n",
    "plt.xticks([])\n",
    "\n",
    "\n",
    "\n",
    "#fig.suptitle(\"Non-Bonded Energy Terms of MD and BG-NLL Samples\")\n",
    "\n",
    "plt.savefig(f\"figures/ETerms_{nb_fname}_comp_NB_GB_MD_KLL.png\", bbox_inches=\"tight\")\n",
    "plt.show()"
   ]
  },
  {
   "cell_type": "markdown",
   "id": "64521de5-e1f8-4571-9547-38aa813384fb",
   "metadata": {
    "jp-MarkdownHeadingCollapsed": true,
    "tags": []
   },
   "source": [
    "### Barplot"
   ]
  },
  {
   "cell_type": "code",
   "execution_count": null,
   "id": "5cad045f-d3c9-4d2d-85d7-3f109e2ad769",
   "metadata": {},
   "outputs": [],
   "source": [
    "ind = np.arange(2)  # the x locations for the groups\n",
    "width = 0.15      # the width of the bars\n",
    "\n",
    "\n",
    "plt.bar(ind - width, list(list(resdict_MD.values())[3:5]), width, align='edge', label='MD')\n",
    "\n",
    "plt.bar(ind, list(list(resdict_NLL.values())[3:5]), width, align='edge', color='purple', label='BG-NLL')\n",
    "\n",
    "plt.bar(ind + width, list(list(resdict_KLL.values())[3:5]), width, align='edge', color='orange', label='BG-KLL')\n",
    "\n",
    "plt.bar(ind + 2*width, list(list(resdict_KLL_no_GB.values())[3:5]), width, align='edge', color='red', label='BG-KLL (no GB)')\n",
    "\n",
    "\n",
    "plt.xticks(range(len(list(resdict_MD.values())[3:5])), list(resdict_MD.keys())[3:5], ha='center', rotation=0)\n",
    "ax = plt.gca()\n",
    "#ax.set_ylim([-1000, 4000])\n",
    "max_y_lim = max(resdict_KLL.values()) + 50\n",
    "min_y_lim = min(resdict_KLL.values()) - 50\n",
    "plt.ylim(min_y_lim, max_y_lim)\n",
    "plt.ylabel('Energy Term [kbT]')\n",
    "#ax.set_yscale('symlog')\n",
    "#plt.xticks(ha='right', rotation=0)\n",
    "plt.legend(loc='lower left')\n",
    "plt.savefig(f\"figures/ETerms_{nb_fname}_comp_NB_GB_MD_KLL.png\", bbox_inches=\"tight\")\n",
    "plt.show()"
   ]
  },
  {
   "cell_type": "markdown",
   "id": "cd29aedd-e3fa-4aeb-a49e-587e1976d470",
   "metadata": {},
   "source": [
    "It can now clearly be seen that the BG samples do not reach the nonbonded energy of the MD samples. Even though, the nonbonded energy reduces after the training by energy. Only looking at the total energy is not sufficient to approximate if the samples of the BG are good. As we can see here, while the nonbonded energy is not as minimised as in the MD data, the GB energy is even lower compared to the MD data. This can already observed for pure training by example, indicating that the BG generally samples samples with a lower GB energy more easily."
   ]
  },
  {
   "cell_type": "markdown",
   "id": "e222d945-3dd9-47cb-ab8f-cdbb8a60847c",
   "metadata": {},
   "source": [
    "## Visualize Energies"
   ]
  },
  {
   "cell_type": "code",
   "execution_count": null,
   "id": "4843a8c3-cbf8-4417-99a7-bcecdd872096",
   "metadata": {
    "tags": []
   },
   "outputs": [],
   "source": [
    "def plot_tics2(xyz, ax, system=system, lims=((-1.5, 2), (-1.5, 3.5))):\n",
    "    n_samples = xyz.shape[0]\n",
    "    xyz = as_numpy(xyz.reshape(n_samples, -1))\n",
    "    tics = system.to_tics(xyz)\n",
    "    \n",
    "    ax.hist2d(\n",
    "        tics[:,0], tics[:,1], \n",
    "        bins=100,\n",
    "        range=lims, \n",
    "        norm=LogNorm(vmax=10, vmin=1e-4),\n",
    "        density=True\n",
    "    )\n",
    "    ax.set_xlabel(\"TIC1\")\n",
    "    ax.set_ylabel(\"TIC2\")\n",
    "    ax.set_xlim(*lims[0])\n",
    "    ax.set_ylim(*lims[1])\n",
    "    \n",
    "    \n",
    "\n",
    "def show_structures(traj, top=system.mdtraj_topology):\n",
    "    if not isinstance(traj, md.Trajectory):\n",
    "        n_samples = traj.shape[0]\n",
    "        traj = md.Trajectory(traj.reshape(n_samples, -1, 3), topology=top)\n",
    "    traj.superpose(traj)\n",
    "    widget = nv.show_mdtraj(traj)\n",
    "    widget.add_representation(\"licorice\")\n",
    "    return widget\n",
    "    \n",
    "def evaluate_generator_unsorted(generator, samples, energies, true_target = False, num_energy = 1000, num_widget = 100, cut = None):\n",
    "    fig, axes = plt.subplots(1, 2, figsize=(10,5))\n",
    "    \n",
    "    if true_target:\n",
    "        plot_energies(axes[1], samples[:num_energy], generator._target, test_data, cut)\n",
    "    else:\n",
    "        plot_energies(axes[1], samples[:num_energy], CutTarget, test_data, cut)\n",
    "        \n",
    "    #c_atoms = system.mdtraj_topology.select(\"backbone and (name C or name N)\")#[:3]\n",
    "    #pcs = system.pca_model.transform(coordinate_transform(torch.Tensor(samples))[2])\n",
    "    \n",
    "    dihed = dihedrals(samples.reshape((10000,n_atoms,3)))\n",
    "    dihed = pca_fit_md.transform(dihed)\n",
    "    \n",
    "    #tics = system.tica_model.transform(distances(samples.reshape(samples.shape[0],-1,3)[:,c_atoms,:]), eigs_kept=2) \n",
    "    #tics = system.to_tics(samples.reshape(samples.shape[0],-1,3), eigs_kept=2)\n",
    "    #plot_tics(axes[0], tics)\n",
    "    \n",
    "    plot_pcs(axes[0], dihed)\n",
    "    fig.tight_layout()\n",
    "    \n",
    "    plt.savefig(f\"figures/EVis_{nb_fname}_KLL_no_GB.png\")\n",
    "    \n",
    "    global widget\n",
    "    widget = show_structures(samples[:100])\n",
    "    \n",
    "    init_value = np.around(energies[0].item(), decimals = 2)\n",
    "    output2 = widgets.BoundedFloatText(\n",
    "        value = init_value,\n",
    "        description='Energy:',\n",
    "        disabled=True,\n",
    "        min = -1e20,\n",
    "        max = 1e50\n",
    "    )\n",
    "    display(output2)\n",
    "    \n",
    "    def on_value_change(change):\n",
    "        value = np.around(energies[change['new']].item(), decimals = 2)\n",
    "        output2.value = value\n",
    "    widget._iplayer._trait_values[\"children\"][1].observe(on_value_change, names='value')\n",
    "\n",
    "    display(widget)    \n",
    "\n",
    "\n",
    "    \n",
    "    \n",
    "def plot_energies(ax, samples, target_energy, test_data, train_type, cut = None):\n",
    "    sample_energies = target_energy.energy(torch.Tensor(samples)).numpy()\n",
    "\n",
    "    md_energies = target_energy.energy(test_data[:len(samples)]).cpu().detach().numpy()\n",
    "    if cut is None:   \n",
    "        cut = max(np.percentile(sample_energies, 80), 20)\n",
    "    ax.set_xlabel(\"Energy   [$k_B T$]\")\n",
    "    # y-axis on the right\n",
    "    ax2 = plt.twinx(ax)\n",
    "    ax.get_yaxis().set_visible(False)\n",
    "    \n",
    "    ax2.hist(sample_energies, range=(min(md_energies).item(), cut), bins=40, density=False, label=\"BG\")\n",
    "    ax2.hist(md_energies, range=(min(md_energies).item(), cut), bins=40, density=False, label=\"MD\", alpha = 0.5)\n",
    "    ax2.set_ylabel(f\"Count   [#Samples / {len(samples)}]\")\n",
    "    ax2.legend()"
   ]
  },
  {
   "cell_type": "code",
   "execution_count": null,
   "id": "f1b303b9-246f-4077-a3a2-9c7f88b8039a",
   "metadata": {},
   "outputs": [],
   "source": [
    "torsions = coordinate_transform(training_data[3000:].cpu())[2]\n",
    "\n",
    "pca = IncrementalPCA(n_components=2, batch_size = 100)\n",
    "for k in range(100):\n",
    "    pca.fit(torsions[k*100:(k+1)*100])\n",
    "\n",
    "system.pca_model = pca\n",
    "\n",
    "CutTarget = LinLogCutEnergy(generator._target)\n",
    "\n",
    "#evaluate_generator_unsorted(generator, samples, samples_energies,true_target = True, cut = 0)"
   ]
  },
  {
   "cell_type": "code",
   "execution_count": null,
   "id": "cf0f8db8-e07e-416e-b161-8a4ed202cdd6",
   "metadata": {},
   "outputs": [],
   "source": [
    "#we have to take these with a grain of salt: still the energy is so low, because we compensate our high lennard jones with GB terms.\n",
    "#if we remove the GB term completely, we get mode collapse\n",
    "#this is because the reverse KL divergence (KLL) is mode seeking, whereas the forward KL divergence (NLL) is mean seeking (or mode covering)\n",
    "\n",
    "#it would be better if we had used a combinatin of NLL and KLL to avoid mode collapse, but this doesnt get used the low energies we ask for"
   ]
  },
  {
   "cell_type": "markdown",
   "id": "8c7732de-21ef-464c-abb6-87ff37e84ab0",
   "metadata": {},
   "source": [
    "### NLL"
   ]
  },
  {
   "cell_type": "code",
   "execution_count": null,
   "id": "3da6aa67-2cad-47e1-9e0a-907ea5b04611",
   "metadata": {
    "tags": []
   },
   "outputs": [],
   "source": [
    "num_samples = 10000\n",
    "samples = np.concatenate([\n",
    "    as_numpy(generator.sample(100))\n",
    "    for _ in tqdm(range(100))\n",
    "])\n",
    "bg_samples = generator.sample(num_samples)\n",
    "bg_traj = md.Trajectory(bg_samples.reshape(num_samples,-1,3).cpu().detach().numpy(), system.mdtraj_topology)\n",
    "#bg_traj.save_hdf5(f\"bg_traj_NLL_{nb_fname}.h5\")\n",
    "#bg_traj.save_pdb(f\"bg_traj_NLL_{nb_fname}.pdb\")\n",
    "\n",
    "samples_energies = generator._target.energy(torch.Tensor(samples))\n",
    "\n",
    "sort = torch.argsort(samples_energies,0)\n",
    "energies_sorted = samples_energies[sort].squeeze()\n",
    "samples_sorted = samples[sort]\n",
    "\n",
    "evaluate_generator_unsorted(generator, samples, samples_energies)"
   ]
  },
  {
   "cell_type": "code",
   "execution_count": 50,
   "id": "7a78b5d1-3aac-4d65-b9ed-0a9dd0b0d85c",
   "metadata": {},
   "outputs": [
    {
     "data": {
      "application/vnd.jupyter.widget-view+json": {
       "model_id": "67b380c7088a466b8e93cf0d9c0a909c",
       "version_major": 2,
       "version_minor": 0
      },
      "text/plain": [
       "NGLWidget(max_frame=9999)"
      ]
     },
     "metadata": {},
     "output_type": "display_data"
    }
   ],
   "source": [
    "traj_NLL=md.load_hdf5(f\"bg_traj_NLL_{nb_fname}.h5\")\n",
    "\n",
    "traj_NLL.n_atoms\n",
    "data = traj_NLL.xyz.reshape(len(traj_NLL.xyz), -1)\n",
    "\n",
    "wid=show_structures(data)\n",
    "wid"
   ]
  },
  {
   "cell_type": "markdown",
   "id": "14a0bd0c-3079-4d84-a7b8-dbf2212e0482",
   "metadata": {},
   "source": [
    "### NLL + KLL"
   ]
  },
  {
   "cell_type": "code",
   "execution_count": null,
   "id": "1acb2840-ca69-47ac-9609-b712c56daa54",
   "metadata": {
    "tags": []
   },
   "outputs": [],
   "source": [
    "num_samples = 10000\n",
    "bg_samples = generator.sample(num_samples)\n",
    "bg_traj = md.Trajectory(bg_samples.reshape(num_samples,-1,3).cpu().detach().numpy(), system.mdtraj_topology)\n",
    "#bg_traj.save_hdf5(f\"bg_traj_Mixed_{nb_fname}.h5\")\n",
    "#bg_traj.save_pdb(f\"bg_traj_Mixed_{nb_fname}.pdb\")\n",
    "\n",
    "samples = np.concatenate([\n",
    "    as_numpy(generator.sample(100))\n",
    "    for _ in tqdm(range(100))\n",
    "])\n",
    "\n",
    "samples_energies = generator._target.energy(torch.Tensor(samples))\n",
    "\n",
    "sort = torch.argsort(samples_energies,0)\n",
    "energies_sorted = samples_energies[sort].squeeze()\n",
    "samples_sorted = samples[sort]\n",
    "\n",
    "evaluate_generator_unsorted(generator, samples, samples_energies)"
   ]
  },
  {
   "cell_type": "code",
   "execution_count": 51,
   "id": "2d9417f0-f1b1-41f6-9614-a02930f1ea8a",
   "metadata": {},
   "outputs": [
    {
     "data": {
      "application/vnd.jupyter.widget-view+json": {
       "model_id": "84ce0e01fc3249f9965ea03973e22520",
       "version_major": 2,
       "version_minor": 0
      },
      "text/plain": [
       "NGLWidget(max_frame=9999)"
      ]
     },
     "metadata": {},
     "output_type": "display_data"
    }
   ],
   "source": [
    "traj_Mixed=md.load_hdf5(f\"bg_traj_Mixed_{nb_fname}.h5\")\n",
    "\n",
    "traj_Mixed.n_atoms\n",
    "data = traj_Mixed.xyz.reshape(len(traj_Mixed.xyz), -1)\n",
    "\n",
    "wid=show_structures(data)\n",
    "wid"
   ]
  },
  {
   "cell_type": "markdown",
   "id": "73a7beaf-54ea-49db-a14a-90c29c74e90c",
   "metadata": {},
   "source": [
    "### KLL"
   ]
  },
  {
   "cell_type": "code",
   "execution_count": null,
   "id": "39459421-6b65-45aa-8f76-38540cbde3a1",
   "metadata": {
    "tags": []
   },
   "outputs": [],
   "source": [
    "num_samples = 10000\n",
    "bg_samples = generator.sample(num_samples)\n",
    "bg_traj = md.Trajectory(bg_samples.reshape(num_samples,-1,3).cpu().detach().numpy(), system.mdtraj_topology)\n",
    "#bg_traj.save_hdf5(f\"bg_traj_KLL_{nb_fname}.h5\")\n",
    "#bg_traj.save_pdb(f\"bg_traj_KLL_{nb_fname}.pdb\")\n",
    "\n",
    "samples = np.concatenate([\n",
    "    as_numpy(generator.sample(100))\n",
    "    for _ in tqdm(range(100))\n",
    "])\n",
    "\n",
    "samples_energies = generator._target.energy(torch.Tensor(samples))\n",
    "\n",
    "sort = torch.argsort(samples_energies,0)\n",
    "energies_sorted = samples_energies[sort].squeeze()\n",
    "samples_sorted = samples[sort]\n",
    "\n",
    "evaluate_generator_unsorted(generator, samples, samples_energies)"
   ]
  },
  {
   "cell_type": "markdown",
   "id": "a3a0daed-0865-453b-8885-1b6a5c8aedbd",
   "metadata": {},
   "source": [
    "## Investigate Energies of open and closed samples"
   ]
  },
  {
   "cell_type": "code",
   "execution_count": null,
   "id": "b375d191-ea06-43ba-965c-71ce2f1cc05a",
   "metadata": {},
   "outputs": [],
   "source": [
    "pos = []\n",
    "        #B, A, T, BB, c1, C2, C3, C4, j = generator.flow(torch.Tensor(valdata[:BATCHSIZE]).to(ctx[\"device\"]), inverse = True)\n",
    "for _ in tqdm(range(n_batches)):\n",
    "\n",
    "\n",
    "    zB, zA, znT, ztT = generator.prior.sample(BATCHSIZE)\n",
    "    #bp()\n",
    "    samples = generator.flow(zB, zA, znT, ztT)[0].detach().cpu().reshape(BATCHSIZE,-1,3).numpy()\n",
    "    #p = generator.sample(BATCHSIZE).cpu().detach().reshape(BATCHSIZE,-1,3).numpy()\n",
    "    pos.append(samples)\n",
    "\n",
    "\n",
    "positions = np.concatenate(pos)\n",
    "for p in tqdm(positions):\n",
    "    Context.setPositions(p)\n",
    "    for i, (q, n) in enumerate(zip(quants,names)):\n",
    "        #ipdb.set_trace()\n",
    "        state = Context.getState(\n",
    "                        getEnergy=True,\n",
    "                        getForces=False,\n",
    "                        getPositions=False,\n",
    "                        groups = {i})\n",
    "        #ipdb.set_trace()\n",
    "        energies[n].append(state.getPotentialEnergy())"
   ]
  },
  {
   "cell_type": "code",
   "execution_count": null,
   "id": "09c3fa35-3fe6-4bc5-91f6-6e9e03ecaf13",
   "metadata": {},
   "outputs": [],
   "source": [
    "samples_energies[0]"
   ]
  },
  {
   "cell_type": "code",
   "execution_count": null,
   "id": "f1ce20d5-cfa2-43d3-ba8e-29ed80994b66",
   "metadata": {},
   "outputs": [],
   "source": [
    "# First, the generator after KLL training is loaded and energies are calculated with the code block above\n",
    "# Using the following the GB and NB energy of a certain sample can be accessed\n",
    "\n",
    "# Sample number X is a very 'open' confirmation (can be seen in nglviewer below)\n",
    "\n",
    "GB_14 = np.array(energies['GB']._value[14])\n",
    "NB_14 = np.array(energies['Nonbonded']._value[14])\n",
    "\n",
    "GB_19 = np.array(energies['GB']._value[19])\n",
    "NB_19 = np.array(energies['Nonbonded']._value[19])\n",
    "\n",
    "GB_20 = np.array(energies['GB']._value[20])\n",
    "NB_20 = np.array(energies['Nonbonded']._value[20])\n",
    "\n",
    "GB_30 = np.array(energies['GB']._value[30])\n",
    "NB_30 = np.array(energies['Nonbonded']._value[30])\n",
    "\n",
    "\n",
    "# Sample number X is a very 'closed' confirmation (can be seen in nglviewer below)\n",
    "GB_0 = np.array(energies['GB']._value[0])\n",
    "NB_0 = np.array(energies['Nonbonded']._value[0])\n",
    "\n",
    "GB_1 = np.array(energies['GB']._value[1])\n",
    "NB_1 = np.array(energies['Nonbonded']._value[1])\n",
    "\n",
    "GB_2 = np.array(energies['GB']._value[2])\n",
    "NB_2 = np.array(energies['Nonbonded']._value[2])\n",
    "\n",
    "GB_6 = np.array(energies['GB']._value[6])\n",
    "NB_6 = np.array(energies['Nonbonded']._value[6])"
   ]
  },
  {
   "cell_type": "code",
   "execution_count": null,
   "id": "206db394-97b1-4818-b5ea-bb49d8d88e06",
   "metadata": {},
   "outputs": [],
   "source": [
    "GB_c = [GB_0, GB_1, GB_2, GB_6]\n",
    "GB_o = [GB_14, GB_19, GB_20, GB_30]\n",
    "NB_c = [NB_0, NB_1, NB_2, NB_6]\n",
    "NB_o = [NB_14, NB_19, NB_20, NB_30]\n",
    "\n",
    "keys = [\"GB - closed\", \"GB - open\", \"NB - closed\", \"NB - open\"]\n",
    "\n",
    "dist_values = [GB_c, GB_o, NB_c, NB_o]\n",
    "\n",
    "\n",
    "# Plot in Boxplot\n",
    "fig = plt.figure()\n",
    " \n",
    "# Creating axes instance\n",
    "ax = fig.add_axes([0, 0, 1, 1])\n",
    "ax.set_xticklabels(keys)\n",
    " \n",
    "# Creating plot\n",
    "bp = ax.boxplot(dist_values)\n",
    "\n",
    "plt.xticks(rotation=90)\n",
    "plt.ylabel('Energy [kbT]')\n",
    "\n",
    "plt.savefig(f\"figures/open_closed_conf_GB_NB_{nb_fname}.png\", bbox_inches=\"tight\")\n",
    "plt.show()\n",
    "\n",
    "#Performing a 2-sided t-test on the data\n",
    "test = scipy.stats.ttest_ind(GB_c, GB_o)\n",
    "print(test)"
   ]
  },
  {
   "cell_type": "code",
   "execution_count": 52,
   "id": "6feb00a1-7c15-4bca-826b-2bae24030191",
   "metadata": {},
   "outputs": [
    {
     "data": {
      "application/vnd.jupyter.widget-view+json": {
       "model_id": "d9538cfb99c64d83b0764ad21bee8e19",
       "version_major": 2,
       "version_minor": 0
      },
      "text/plain": [
       "NGLWidget(max_frame=9999)"
      ]
     },
     "metadata": {},
     "output_type": "display_data"
    }
   ],
   "source": [
    "traj_KLL=md.load_hdf5(f\"bg_traj_KLL_{nb_fname}.h5\")\n",
    "\n",
    "traj_KLL.n_atoms\n",
    "data = traj_KLL.xyz.reshape(len(traj_KLL.xyz), -1)\n",
    "\n",
    "wid=show_structures(data)\n",
    "wid"
   ]
  },
  {
   "cell_type": "markdown",
   "id": "16dc395a-b13e-4458-9574-23bc9b0abb0d",
   "metadata": {},
   "source": [
    "### KLL (no GB)"
   ]
  },
  {
   "cell_type": "code",
   "execution_count": null,
   "id": "34c47f2f-a2b5-4d86-9565-8187eecf2a57",
   "metadata": {
    "tags": []
   },
   "outputs": [],
   "source": [
    "num_samples = 10000\n",
    "bg_samples = generator.sample(num_samples)\n",
    "bg_traj = md.Trajectory(bg_samples.reshape(num_samples,-1,3).cpu().detach().numpy(), system.mdtraj_topology)\n",
    "#bg_traj.save_hdf5(f\"bg_traj_KLL_no_GB_{nb_fname}.h5\")\n",
    "#bg_traj.save_pdb(f\"bg_traj_KLL__no_GB{nb_fname}.pdb\")\n",
    "\n",
    "samples = np.concatenate([\n",
    "    as_numpy(generator.sample(100))\n",
    "    for _ in tqdm(range(100))\n",
    "])\n",
    "\n",
    "samples_energies = generator._target.energy(torch.Tensor(samples))\n",
    "\n",
    "sort = torch.argsort(samples_energies,0)\n",
    "energies_sorted = samples_energies[sort].squeeze()\n",
    "samples_sorted = samples[sort]\n",
    "\n",
    "evaluate_generator_unsorted(generator, samples, samples_energies)"
   ]
  },
  {
   "cell_type": "code",
   "execution_count": 53,
   "id": "4afd05dc-fb9c-4eb7-91c6-7b10e1df1d78",
   "metadata": {},
   "outputs": [
    {
     "data": {
      "application/vnd.jupyter.widget-view+json": {
       "model_id": "6bc2122f1b3747b4b5a3ed268b46e947",
       "version_major": 2,
       "version_minor": 0
      },
      "text/plain": [
       "NGLWidget(max_frame=9999)"
      ]
     },
     "metadata": {},
     "output_type": "display_data"
    }
   ],
   "source": [
    "traj_KLL_no_GB=md.load_hdf5(f\"bg_traj_KLL_no_GB_{nb_fname}.h5\")\n",
    "\n",
    "traj_KLL_no_GB.n_atoms\n",
    "data = traj_KLL_no_GB.xyz.reshape(len(traj_KLL_no_GB.xyz), -1)\n",
    "\n",
    "wid=show_structures(data)\n",
    "wid"
   ]
  },
  {
   "cell_type": "code",
   "execution_count": null,
   "id": "19682dc4-c092-4802-b8a3-87bae486679a",
   "metadata": {},
   "outputs": [],
   "source": [
    "# wir sehen hier einen versteckten Mode collapse. Es sind zwar alle TICA-moden drin, aber die samples sind nicht mehr ganz so divers. \n",
    "# das ist vermutlich weil wir im letzten training teil den NLL Loss komplett raus genommen haben, dadurch gibt es keine \"Bestrafung\" mehr,\n",
    "# wenn Moden aus den training data im latent space \"zusammengequentscht\" werden. Diesse werden dann nicht mehr gesampled."
   ]
  },
  {
   "cell_type": "markdown",
   "id": "8267ac49-85bf-48a6-97d4-84b8d377bfea",
   "metadata": {},
   "source": [
    "## Highlight Clashes"
   ]
  },
  {
   "cell_type": "code",
   "execution_count": null,
   "id": "02bf1a22-a189-4094-bed2-b0707bdcdca9",
   "metadata": {},
   "outputs": [],
   "source": [
    "target_real = system._energy_model\n",
    "samples_xyz = samples.reshape(len(samples),samples.shape[-1]//3,3)\n",
    "\n",
    "context = target_real._bridge.context_wrapper._openmm_context\n",
    "\n",
    "forcelist = []\n",
    "for id,sample_xyz in tqdm(enumerate(samples_xyz)):\n",
    "    vec = []\n",
    "    for i in range(len(sample_xyz)):\n",
    "        vec.append(openmm.vec3.Vec3(sample_xyz[i,0],sample_xyz[i,1],sample_xyz[i,2]))\n",
    "    context.setPositions(vec)\n",
    "\n",
    "    state = context.getState(getPositions = True, getEnergy = True, getForces = True)\n",
    "    forces = state.getForces(asNumpy = True)._value\n",
    "    force_magn = np.linalg.norm(forces, axis=1)\n",
    "    forcelist.append(force_magn)\n",
    "forces = np.stack(forcelist,axis = 0)        \n",
    "        #force_magn.argmax()\n",
    "\n",
    "max_indices = forces.argsort(axis = -1)[:,-2:]\n",
    "\n",
    "top = system._mdtraj_topology\n",
    "traj = md.Trajectory(np.array(samples.reshape(samples.shape[0],-1,3)), topology=top)#[5:]\n",
    "traj.superpose(traj)\n",
    "#widget = nv.show_mdtraj(traj)\n",
    "#widget.add_representation(\"licorice\")\n",
    "#widget\n",
    "\n",
    "view = nv.show_mdtraj(traj, default_representation=False)\n",
    "view.add_licorice()\n",
    "view.add_cartoon(colorScheme = \"residueindex\")\n",
    "view.add_ball_and_stick(selection = max_indices[0], color = \"pink\", aspectRatio = 3.)\n",
    "view.center()\n",
    "\n",
    "import time\n",
    "\n",
    "def on_frame_change(change):\n",
    "    frame = change['new']\n",
    "    clashes = max_indices[frame]    \n",
    "    view._remove_representation(repr_index = 2)\n",
    "    view.add_ball_and_stick(selection = clashes, color = \"pink\", aspectRatio = 3.)\n",
    "\n",
    "\n",
    "view.observe(on_frame_change, names=['frame'])\n",
    "\n",
    "view"
   ]
  },
  {
   "cell_type": "markdown",
   "id": "ab6aab97-83d1-4c35-aa0e-cdd28972b980",
   "metadata": {
    "tags": []
   },
   "source": [
    "# Further Steps"
   ]
  },
  {
   "cell_type": "markdown",
   "id": "c37fddac-3061-4ffe-991f-398a7b39abe1",
   "metadata": {},
   "source": [
    "## Minimize Samples Energy"
   ]
  },
  {
   "cell_type": "code",
   "execution_count": null,
   "id": "a5dc2bbc-7480-4244-af2a-e63a8727ff52",
   "metadata": {},
   "outputs": [],
   "source": [
    "#target_real._openmm_energy_bridge._n_simulation_steps = 0\n",
    "samples_xyz = samples.reshape(len(samples),samples.shape[-1]//3,3)\n",
    "#prmtop = openmm.app.amberprmtopfile.AmberPrmtopFile(os.path.join(filepath,'stripped_combined.prmtop'))\n",
    "simulation = openmm.app.simulation.Simulation(system._topology, system.system, openmm.LangevinIntegrator(300, 1, 0.002))\n",
    "threshold = Quantity(value=-1655.9926, unit=kilojoule/mole)\n",
    "\n",
    "#context = target_real._openmm_energy_bridge.context_wrapper._openmm_context\n",
    "\n",
    "samples_xyz_subset = samples_xyz[:10]"
   ]
  },
  {
   "cell_type": "code",
   "execution_count": null,
   "id": "b1b77111-6bbd-4bc1-b69a-8369c09b5287",
   "metadata": {},
   "outputs": [],
   "source": [
    "# do keyboard interrupt once you have minimized some samples, no need to minimize them all.\n",
    "reporter = NetCDFReporter('relaxation.nc', 1)\n",
    "reporter_bad = NetCDFReporter('relaxation_bad.nc', 1)\n",
    "\n",
    "samples_minimized =  []\n",
    "samples_energies = []\n",
    "for id,sample_xyz in tqdm(enumerate(samples_xyz_subset)):\n",
    "    vec = []\n",
    "    for i in range(len(sample_xyz)):\n",
    "        vec.append(openmm.vec3.Vec3(sample_xyz[i,0],sample_xyz[i,1],sample_xyz[i,2]))\n",
    "    #context = target_real._openmm_energy_bridge.context_wrapper._openmm_context\n",
    "    context.setPositions(positions = vec)\n",
    "    state = context.getState(getPositions = True, getEnergy = True)\n",
    "    #simulation.reporters.append(NetCDFReporter('relaxation.nc', 1))\n",
    "    #state = simulation.context.getState(getPositions = True, getEnergy = True)\n",
    "    #e0 = state.getPotentialEnergy()\n",
    "    energies = []\n",
    "    #positions = []\n",
    "    e = state.getPotentialEnergy()\n",
    "    energies.append(e)\n",
    "    reporter.report(simulation,state)\n",
    "    while e > threshold:\n",
    "        e2 = copy.copy(e)\n",
    "        LocalEnergyMinimizer.minimize(context,maxIterations = 2)\n",
    "        state = context.getState(getPositions = True, getEnergy = True)\n",
    "        #pos = state.getPositions()\n",
    "        \n",
    "        e = state.getPotentialEnergy()\n",
    "        #ipdb.set_trace()\n",
    "        if e2 == e or len(energies) > 20:\n",
    "            if e2 == e:\n",
    "                reporter_bad.report(simulation,state)\n",
    "            break\n",
    "        energies.append(e)\n",
    "        reporter.report(simulation,state)\n",
    "\n",
    "        #simulation.minimizeEnergy(maxIterations = 2)\n",
    "        \n",
    "        #ipdb.set_trace()\n",
    "        #positions.append(pos)\n",
    "        \n",
    "    #state = context.getState(getPositions = True, getEnergy = True)\n",
    "    #pos = state.getPositions()\n",
    "    #e = state.getPotentialEnergy()\n",
    "    reporter.report(simulation,state)\n",
    "    energies.append(e)\n",
    "    #positions.append(pos)\n",
    "\n",
    "\n",
    "    #simulation.step(1i00)\n",
    "    #state = simulation.context.getState(getPositions = True, getEnergy = True)\n",
    "    minimized = torch.Tensor(np.array(state.getPositions(asNumpy = True).reshape((1,system.topology._numAtoms*3))))\n",
    "\n",
    "    samples_minimized.append(minimized)\n",
    "    #ipdb.set_trace()\n",
    "    samples_energies.append(e)\n",
    "samples_minimized = torch.cat(samples_minimized)\n",
    "samples_energies = torch.cat(samples_energies)\n",
    "\n",
    "#inp.median([energy._value for energy in samples_energies])"
   ]
  },
  {
   "cell_type": "markdown",
   "id": "b0379ffc-d637-4e53-ba3c-d28231b06361",
   "metadata": {},
   "source": [
    "### Visualize Relaxation"
   ]
  },
  {
   "cell_type": "code",
   "execution_count": null,
   "id": "68b27c8e-2673-42ec-b79d-625728cb6348",
   "metadata": {},
   "outputs": [],
   "source": [
    "#traj = pt.load('relaxation.nc', top=os.path.join(filepath,'stripped_combined.prmtop'))\n",
    "##traj = traj.superpose(traj)\n",
    "##data_relax = traj.xyz.reshape(len(traj.xyz), -1)\n",
    "#wid = nglview.show_pytraj(traj)\n",
    "#wid.add_representation(\"licorice\")\n",
    "#wid\n",
    "\n",
    "traj = md.load_netcdf('relaxation.nc', top=system._mdtraj_topology)\n",
    "traj = traj.superpose(traj)\n",
    "data_relax = traj.xyz.reshape(len(traj.xyz), -1)[31:]\n",
    "wid = show_structures(data_relax)\n",
    "wid"
   ]
  },
  {
   "cell_type": "markdown",
   "id": "6f3e2b94-63ca-455f-bb3b-34145a4d230a",
   "metadata": {},
   "source": [
    "## Sampling Efficiency"
   ]
  },
  {
   "cell_type": "code",
   "execution_count": null,
   "id": "6906092a-edbf-43f4-b97e-13160b16a899",
   "metadata": {},
   "outputs": [],
   "source": [
    "#this is a measure for the quality of the BG samples.\n",
    "#A perfect generator would have sampling efficiency of 1.\n",
    "from torch.utils.data import DataLoader \n",
    "\n",
    "weightdata = test_data[list(np.random.choice(len(test_data),1000))]\n",
    "weightloader = DataLoader(weightdata, batch_size=100, shuffle=True, drop_last = True)\n",
    "log_w = []\n",
    "for batch in weightloader:\n",
    "    log_w.append(generator.log_weights(batch.to(**ctx)))\n",
    "log_w = torch.cat(log_w)\n",
    "bg.sampling_efficiency(log_w)\n"
   ]
  },
  {
   "cell_type": "markdown",
   "id": "ea18af5c-7d4b-4cf0-aaf6-1632a90ab120",
   "metadata": {
    "tags": []
   },
   "source": [
    "# Marginals of the torsions/angles/bonds"
   ]
  },
  {
   "cell_type": "code",
   "execution_count": null,
   "id": "a713ccb8-b009-472b-a4a1-9a139f5d3096",
   "metadata": {},
   "outputs": [],
   "source": [
    "def plot_ics(name, data, data2=None, data3=None, chosen=None):\n",
    "    data = assert_numpy(data)\n",
    "    if data2 is not None:\n",
    "        data2 = assert_numpy(data2)\n",
    "    if data3 is not None:\n",
    "        data3 = assert_numpy(data3)\n",
    "    if chosen is None:\n",
    "        chosen = np.random.choice(range(len(data[0,:])))\n",
    "    plt.figure(figsize=(14, 4))\n",
    "    plt.subplot(1,2,1)\n",
    "    plt.title(name+' %d of %d'%(chosen+1, len(data[0,:])))\n",
    "    plt.plot(data[:,chosen], 'o')\n",
    "    if data2 is not None:\n",
    "        plt.plot(data2[:,chosen], 'o')\n",
    "    if data3 is not None:\n",
    "        plt.plot(data3[:,chosen], 'o')\n",
    "    plt.subplot(1,2,2)\n",
    "    plt.hist(data[:,chosen], bins=50, density=True, histtype='step', label='target')\n",
    "    if data2 is not None:\n",
    "        plt.hist(data2[:,chosen], bins=50, density=True, histtype='step', label='generated')\n",
    "    if data3 is not None:\n",
    "        plt.hist(data3[:,chosen], bins=50, density=True, histtype='step', label='prior')\n",
    "    plt.legend()\n",
    "    plt.show()"
   ]
  },
  {
   "cell_type": "markdown",
   "id": "ad6a9f4b-188a-4ea7-8bfa-417130fcb7ee",
   "metadata": {},
   "source": [
    "## NLL"
   ]
  },
  {
   "cell_type": "code",
   "execution_count": null,
   "id": "a79e69f6-196e-41d9-be71-77129d88a03b",
   "metadata": {},
   "outputs": [],
   "source": [
    "n_samples = 10000\n",
    "\n",
    "samples = np.concatenate([\n",
    "    as_numpy(generator.sample(100))\n",
    "    for _ in tqdm(range(100))\n",
    "])\n",
    "\n",
    "with torch.no_grad():\n",
    "    ics_t = coordinate_transform.forward(training_data[:n_samples].to(**ctx))\n",
    "    ics_m = coordinate_transform.forward(torch.Tensor(samples).to(**ctx))\n",
    "    # ics_m = generator.prior.sample(n_samples)\n",
    "    l = 2\n",
    "    title = ['bonds', 'angles', 'torsions', 'fixed', 'euler', 'dlogp']\n",
    "    for i in range(ics_t[l].shape[1]):\n",
    "        plot_ics(title[l], ics_t[l], data2=ics_m[l], chosen=i)\n",
    "    del ics_t, ics_m"
   ]
  },
  {
   "cell_type": "markdown",
   "id": "3b39729f-d574-4183-99b6-3f5bdaab8f6b",
   "metadata": {},
   "source": [
    "## NLL + KLL"
   ]
  },
  {
   "cell_type": "code",
   "execution_count": null,
   "id": "4f924985-b40f-41b0-aba3-30046467f6de",
   "metadata": {},
   "outputs": [],
   "source": [
    "n_samples = 10000\n",
    "\n",
    "samples = np.concatenate([\n",
    "    as_numpy(generator.sample(100))\n",
    "    for _ in tqdm(range(100))\n",
    "])\n",
    "\n",
    "\n",
    "with torch.no_grad():\n",
    "    ics_t = coordinate_transform.forward(training_data[:n_samples].to(**ctx))\n",
    "    ics_m = coordinate_transform.forward(torch.Tensor(samples).to(**ctx))\n",
    "    # ics_m = generator.prior.sample(n_samples)\n",
    "    l = 2\n",
    "    title = ['bonds', 'angles', 'torsions', 'fixed', '???', 'dlogp']\n",
    "    for i in range(ics_t[l].shape[1]):\n",
    "        plot_ics(title[l], ics_t[l], data2=ics_m[l], chosen=i)\n",
    "    del ics_t, ics_m"
   ]
  },
  {
   "cell_type": "markdown",
   "id": "c2197750-f072-489c-9fb9-0ad83091c646",
   "metadata": {},
   "source": [
    "## KLL"
   ]
  },
  {
   "cell_type": "code",
   "execution_count": null,
   "id": "3f3fe947-d8e0-4258-a27d-38a68a52b411",
   "metadata": {},
   "outputs": [],
   "source": [
    "n_samples = 10000\n",
    "\n",
    "samples = np.concatenate([\n",
    "    as_numpy(generator.sample(100))\n",
    "    for _ in tqdm(range(100))\n",
    "])\n",
    "\n",
    "with torch.no_grad():\n",
    "    ics_t = coordinate_transform.forward(training_data[:n_samples].to(**ctx))\n",
    "    ics_m = coordinate_transform.forward(torch.Tensor(samples).to(**ctx))\n",
    "    # ics_m = generator.prior.sample(n_samples)\n",
    "    l = 2\n",
    "    title = ['bonds', 'angles', 'torsions', 'fixed', '???', 'dlogp']\n",
    "    for i in range(ics_t[l].shape[1]):\n",
    "        plot_ics(title[l], ics_t[l], data2=ics_m[l], chosen=i)\n",
    "    del ics_t, ics_m"
   ]
  },
  {
   "cell_type": "markdown",
   "id": "bf1e1fec-4f21-446d-8c61-87ae2553f10b",
   "metadata": {},
   "source": [
    "## KLL (no GB)"
   ]
  },
  {
   "cell_type": "code",
   "execution_count": null,
   "id": "f684b718-aae3-4304-b7b8-27a02018b174",
   "metadata": {},
   "outputs": [],
   "source": [
    "from tqdm import tqdm\n",
    "from bgflow.utils import as_numpy\n",
    "\n",
    "n_samples = 10000\n",
    "\n",
    "samples = np.concatenate([\n",
    "    as_numpy(generator.sample(100))\n",
    "    for _ in tqdm(range(100))\n",
    "])\n",
    "\n",
    "\n",
    "with torch.no_grad():\n",
    "    ics_t = coordinate_transform.forward(training_data[:n_samples].to(**ctx))\n",
    "    ics_m = coordinate_transform.forward(torch.Tensor(samples).to(**ctx))\n",
    "    # ics_m = generator.prior.sample(n_samples)\n",
    "    l = 2\n",
    "    title = ['bonds', 'angles', 'torsions', 'fixed', '???', 'dlogp']\n",
    "    for i in range(ics_t[l].shape[1]):\n",
    "        plot_ics(title[l], ics_t[l], data2=ics_m[l], chosen=i)\n",
    "    del ics_t, ics_m"
   ]
  },
  {
   "cell_type": "code",
   "execution_count": null,
   "id": "5aadfe63-f258-4fcc-a299-8ab23dc571bf",
   "metadata": {},
   "outputs": [],
   "source": []
  }
 ],
 "metadata": {
  "kernelspec": {
   "display_name": "Python 3 (ipykernel)",
   "language": "python",
   "name": "python3"
  },
  "language_info": {
   "codemirror_mode": {
    "name": "ipython",
    "version": 3
   },
   "file_extension": ".py",
   "mimetype": "text/x-python",
   "name": "python",
   "nbconvert_exporter": "python",
   "pygments_lexer": "ipython3",
   "version": "3.11.0"
  }
 },
 "nbformat": 4,
 "nbformat_minor": 5
}
