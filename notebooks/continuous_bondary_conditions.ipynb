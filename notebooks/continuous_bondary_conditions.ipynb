{
 "cells": [
  {
   "cell_type": "code",
   "id": "initial_id",
   "metadata": {
    "collapsed": true,
    "ExecuteTime": {
     "end_time": "2024-07-05T13:24:19.870778Z",
     "start_time": "2024-07-05T13:24:19.867661Z"
    }
   },
   "source": [
    "import torch\n",
    "from torch import nn\n",
    "from torch import distributions as D\n",
    "from matplotlib import pyplot as plt"
   ],
   "outputs": [],
   "execution_count": 8
  },
  {
   "metadata": {
    "ExecuteTime": {
     "end_time": "2024-07-05T13:24:21.461788Z",
     "start_time": "2024-07-05T13:24:21.235748Z"
    }
   },
   "cell_type": "code",
   "source": [
    "class ShiftedNormal(D.normal.Normal):\n",
    "    def sample(self, sample_shape=torch.Size()):\n",
    "        return (super().sample(sample_shape) % 1).unsqueeze(-1)\n",
    "\n",
    "from lightning_trainable.datasets import DistributionDataset\n",
    "\n",
    "class ShiftedGaussDataset(DistributionDataset):\n",
    "    def __init__(self, dimensions: int = 1, **kwargs):\n",
    "        distribution = ShiftedNormal(torch.zeros(dimensions), .1*torch.ones(dimensions))\n",
    "        super().__init__(distribution, **kwargs)\n",
    "\n",
    "    \n",
    "x = ShiftedNormal(0, .1).sample((1000,))\n",
    "bin_edges = plt.hist(x.detach().numpy(), bins=40)"
   ],
   "id": "f02858742d529cf6",
   "outputs": [
    {
     "data": {
      "text/plain": [
       "<Figure size 640x480 with 1 Axes>"
      ],
      "image/png": "[encoded data removed]"
     },
     "metadata": {},
     "output_type": "display_data"
    }
   ],
   "execution_count": 9
  },
  {
   "metadata": {
    "ExecuteTime": {
     "end_time": "2024-07-05T13:24:23.108186Z",
     "start_time": "2024-07-05T13:24:23.100806Z"
    }
   },
   "cell_type": "code",
   "source": [
    "from simplebg.latent import DistributionHParams\n",
    "from simplebg.loss.core import LossWeights\n",
    "from simplebg.model.core import ToyHParams, ToyModel\n",
    "from simplebg.data.loaders import ToyLoader, ToyLoaderHParams\n",
    "\n",
    "class GaussLoaderHParams(ToyLoaderHParams):\n",
    "    name = \"ShiftedGauss\"\n",
    "    kwargs = {\"dimensions\": 1}\n",
    "\n",
    "class GaussLoader(ToyLoader):\n",
    "    def __init__(self, loader_hparams: ToyLoaderHParams):\n",
    "        super().__init__(loader_hparams)\n",
    "        \n",
    "    def generate_datasets(self):\n",
    "        # calculate the split sizes\n",
    "        train_split = int(self.hparams.train_split * self.hparams.samples)\n",
    "        val_split = int(self.hparams.val_split * self.hparams.samples)\n",
    "        test_split = self.hparams.samples - train_split - val_split\n",
    "        # sanity test\n",
    "        assert (self.hparams.samples * self.hparams.test_split - 2 <= test_split <=\n",
    "                self.hparams.samples * self.hparams.test_split + 2), \\\n",
    "            \"something has gone wrong with the calculation of test_split.\"\n",
    "\n",
    "        ToyDataSet = ShiftedGaussDataset\n",
    "        return (\n",
    "            ToyDataSet(max_samples=train_split, **self.hparams.kwargs),\n",
    "            ToyDataSet(max_samples=val_split, **self.hparams.kwargs),\n",
    "            ToyDataSet(max_samples=test_split, **self.hparams.kwargs)\n",
    "        )\n",
    "\n",
    "class MyToyHParams(ToyHParams):\n",
    "    loader_hparams: GaussLoaderHParams\n",
    "\n",
    "class MyToyModel(ToyModel):\n",
    "    loader_class = GaussLoader\n",
    "    hparams: MyToyHParams"
   ],
   "id": "1f64695528f9edec",
   "outputs": [],
   "execution_count": 10
  },
  {
   "metadata": {
    "ExecuteTime": {
     "end_time": "2024-07-05T13:24:24.501363Z",
     "start_time": "2024-07-05T13:24:24.407470Z"
    }
   },
   "cell_type": "code",
   "source": [
    "from simplebg.network.subnets.resnets import ResNetHParams\n",
    "from simplebg.network.fff import SubNetFreeFormFlowHParams\n",
    "\n",
    "loader_hparams = GaussLoaderHParams(\n",
    "    train_split=0.75,\n",
    "    val_split=0.05,\n",
    "    test_split=0.2,\n",
    "    kwargs={\"dimensions\": 1},\n",
    "    samples=10_000,\n",
    ")\n",
    "\n",
    "resnet_network_hparams = ResNetHParams(\n",
    "   depth_scheme=[6],\n",
    "    width_scheme=[64],\n",
    "    batch_norm=False,\n",
    ")\n",
    "\n",
    "fff_network_hparams = SubNetFreeFormFlowHParams(\n",
    "    subnet_hparams=resnet_network_hparams,\n",
    "    bottleneck=1,\n",
    "    transform=\"identity\",\n",
    ")\n",
    "\n",
    "hparams = MyToyHParams(\n",
    "    loader_hparams=loader_hparams,\n",
    "    network_hparams=fff_network_hparams,    \n",
    "    latent_hparams=DistributionHParams(\n",
    "        name=\"Normal\",\n",
    "        kwargs={\"sigma\": .1}\n",
    "    ),\n",
    "    loss_weights=LossWeights(\n",
    "        forward_kl=1.,\n",
    "        reconstruction=10.,\n",
    "    ),\n",
    "    max_epochs=20,\n",
    "    batch_size=1_000,\n",
    "    lr_scheduler=\"OneCycleLR\",\n",
    "    optimizer=dict(\n",
    "        name=\"Adam\",\n",
    "        lr=1.e-3,\n",
    "        betas=[.99, .9999],\n",
    "    ),\n",
    "    accelerator=\"auto\",\n",
    "    gradient_clip=10.,\n",
    ")\n",
    "\n",
    "trainer_kwargs = {\"fast_dev_run\": True, \"enable_progress_bar\": False}\n",
    "logger_kwargs = {\"name\": \"ShiftedGauss\"}"
   ],
   "id": "ecdd1a435312ef86",
   "outputs": [],
   "execution_count": 11
  },
  {
   "metadata": {
    "ExecuteTime": {
     "end_time": "2024-07-05T13:24:28.151725Z",
     "start_time": "2024-07-05T13:24:28.146851Z"
    }
   },
   "cell_type": "code",
   "source": [
    "from simplebg.network.fff import SubNetFreeFormFlow\n",
    "SubNetFreeFormFlow.hparams_type"
   ],
   "id": "82563e128a69910f",
   "outputs": [
    {
     "data": {
      "text/plain": [
       "simplebg.network.fff.SubNetFreeFormFlowHParams"
      ]
     },
     "execution_count": 12,
     "metadata": {},
     "output_type": "execute_result"
    }
   ],
   "execution_count": 12
  },
  {
   "metadata": {
    "ExecuteTime": {
     "end_time": "2024-07-05T13:24:31.014089Z",
     "start_time": "2024-07-05T13:24:30.094223Z"
    }
   },
   "cell_type": "code",
   "source": [
    "my_model = MyToyModel(hparams)\n",
    "my_model.fit(trainer_kwargs=trainer_kwargs, logger_kwargs=logger_kwargs)"
   ],
   "id": "a1167eccae739cc5",
   "outputs": [
    {
     "name": "stderr",
     "output_type": "stream",
     "text": [
      "GPU available: False, used: False\n",
      "TPU available: False, using: 0 TPU cores\n",
      "IPU available: False, using: 0 IPUs\n",
      "HPU available: False, using: 0 HPUs\n",
      "Running in `fast_dev_run` mode: will run the requested loop using 1 batch(es). Logging and checkpointing is suppressed.\n",
      "The following callbacks returned in `LightningModule.configure_callbacks` will override existing callbacks passed to Trainer: ModelCheckpoint\n",
      "\n",
      "  | Name | Type               | Params\n",
      "--------------------------------------------\n",
      "0 | nn   | SubNetFreeFormFlow | 100 K \n",
      "--------------------------------------------\n",
      "100 K     Trainable params\n",
      "0         Non-trainable params\n",
      "100 K     Total params\n",
      "0.401     Total estimated model params size (MB)\n"
     ]
    },
    {
     "ename": "RuntimeError",
     "evalue": "output with shape [125, 1, 1] doesn't match the broadcast shape [125, 1, 125]",
     "output_type": "error",
     "traceback": [
      "\u001B[0;31m---------------------------------------------------------------------------\u001B[0m",
      "\u001B[0;31mRuntimeError\u001B[0m                              Traceback (most recent call last)",
      "Cell \u001B[0;32mIn[13], line 2\u001B[0m\n\u001B[1;32m      1\u001B[0m my_model \u001B[38;5;241m=\u001B[39m MyToyModel(hparams)\n\u001B[0;32m----> 2\u001B[0m \u001B[43mmy_model\u001B[49m\u001B[38;5;241;43m.\u001B[39;49m\u001B[43mfit\u001B[49m\u001B[43m(\u001B[49m\u001B[43mtrainer_kwargs\u001B[49m\u001B[38;5;241;43m=\u001B[39;49m\u001B[43mtrainer_kwargs\u001B[49m\u001B[43m,\u001B[49m\u001B[43m \u001B[49m\u001B[43mlogger_kwargs\u001B[49m\u001B[38;5;241;43m=\u001B[39;49m\u001B[43mlogger_kwargs\u001B[49m\u001B[43m)\u001B[49m\n",
      "File \u001B[0;32m~/.local/lib/python3.11/site-packages/torch/utils/_contextlib.py:115\u001B[0m, in \u001B[0;36mcontext_decorator.<locals>.decorate_context\u001B[0;34m(*args, **kwargs)\u001B[0m\n\u001B[1;32m    112\u001B[0m \u001B[38;5;129m@functools\u001B[39m\u001B[38;5;241m.\u001B[39mwraps(func)\n\u001B[1;32m    113\u001B[0m \u001B[38;5;28;01mdef\u001B[39;00m \u001B[38;5;21mdecorate_context\u001B[39m(\u001B[38;5;241m*\u001B[39margs, \u001B[38;5;241m*\u001B[39m\u001B[38;5;241m*\u001B[39mkwargs):\n\u001B[1;32m    114\u001B[0m     \u001B[38;5;28;01mwith\u001B[39;00m ctx_factory():\n\u001B[0;32m--> 115\u001B[0m         \u001B[38;5;28;01mreturn\u001B[39;00m \u001B[43mfunc\u001B[49m\u001B[43m(\u001B[49m\u001B[38;5;241;43m*\u001B[39;49m\u001B[43margs\u001B[49m\u001B[43m,\u001B[49m\u001B[43m \u001B[49m\u001B[38;5;241;43m*\u001B[39;49m\u001B[38;5;241;43m*\u001B[39;49m\u001B[43mkwargs\u001B[49m\u001B[43m)\u001B[49m\n",
      "File \u001B[0;32m~/Python/bg/modules/lightning-trainable/src/lightning_trainable/trainable/trainable.py:285\u001B[0m, in \u001B[0;36mTrainable.fit\u001B[0;34m(self, logger_kwargs, trainer_kwargs, fit_kwargs)\u001B[0m\n\u001B[1;32m    281\u001B[0m fit_kwargs \u001B[38;5;241m=\u001B[39m fit_kwargs \u001B[38;5;129;01mor\u001B[39;00m {}\n\u001B[1;32m    283\u001B[0m trainer \u001B[38;5;241m=\u001B[39m \u001B[38;5;28mself\u001B[39m\u001B[38;5;241m.\u001B[39mconfigure_trainer(logger_kwargs, trainer_kwargs)\n\u001B[0;32m--> 285\u001B[0m \u001B[43mtrainer\u001B[49m\u001B[38;5;241;43m.\u001B[39;49m\u001B[43mfit\u001B[49m\u001B[43m(\u001B[49m\u001B[38;5;28;43mself\u001B[39;49m\u001B[43m,\u001B[49m\u001B[43m \u001B[49m\u001B[38;5;241;43m*\u001B[39;49m\u001B[38;5;241;43m*\u001B[39;49m\u001B[43mfit_kwargs\u001B[49m\u001B[43m)\u001B[49m\n\u001B[1;32m    287\u001B[0m \u001B[38;5;28;01mreturn\u001B[39;00m {\n\u001B[1;32m    288\u001B[0m     key: value\u001B[38;5;241m.\u001B[39mitem()\n\u001B[1;32m    289\u001B[0m     \u001B[38;5;28;01mfor\u001B[39;00m key, value \u001B[38;5;129;01min\u001B[39;00m trainer\u001B[38;5;241m.\u001B[39mcallback_metrics\u001B[38;5;241m.\u001B[39mitems()\n\u001B[1;32m    290\u001B[0m     \u001B[38;5;28;01mif\u001B[39;00m \u001B[38;5;28many\u001B[39m(key\u001B[38;5;241m.\u001B[39mstartswith(k) \u001B[38;5;28;01mfor\u001B[39;00m k \u001B[38;5;129;01min\u001B[39;00m [\u001B[38;5;124m\"\u001B[39m\u001B[38;5;124mtraining/\u001B[39m\u001B[38;5;124m\"\u001B[39m, \u001B[38;5;124m\"\u001B[39m\u001B[38;5;124mvalidation/\u001B[39m\u001B[38;5;124m\"\u001B[39m])\n\u001B[1;32m    291\u001B[0m }\n",
      "File \u001B[0;32m~/.local/lib/python3.11/site-packages/lightning/pytorch/trainer/trainer.py:544\u001B[0m, in \u001B[0;36mTrainer.fit\u001B[0;34m(self, model, train_dataloaders, val_dataloaders, datamodule, ckpt_path)\u001B[0m\n\u001B[1;32m    542\u001B[0m \u001B[38;5;28mself\u001B[39m\u001B[38;5;241m.\u001B[39mstate\u001B[38;5;241m.\u001B[39mstatus \u001B[38;5;241m=\u001B[39m TrainerStatus\u001B[38;5;241m.\u001B[39mRUNNING\n\u001B[1;32m    543\u001B[0m \u001B[38;5;28mself\u001B[39m\u001B[38;5;241m.\u001B[39mtraining \u001B[38;5;241m=\u001B[39m \u001B[38;5;28;01mTrue\u001B[39;00m\n\u001B[0;32m--> 544\u001B[0m \u001B[43mcall\u001B[49m\u001B[38;5;241;43m.\u001B[39;49m\u001B[43m_call_and_handle_interrupt\u001B[49m\u001B[43m(\u001B[49m\n\u001B[1;32m    545\u001B[0m \u001B[43m    \u001B[49m\u001B[38;5;28;43mself\u001B[39;49m\u001B[43m,\u001B[49m\u001B[43m \u001B[49m\u001B[38;5;28;43mself\u001B[39;49m\u001B[38;5;241;43m.\u001B[39;49m\u001B[43m_fit_impl\u001B[49m\u001B[43m,\u001B[49m\u001B[43m \u001B[49m\u001B[43mmodel\u001B[49m\u001B[43m,\u001B[49m\u001B[43m \u001B[49m\u001B[43mtrain_dataloaders\u001B[49m\u001B[43m,\u001B[49m\u001B[43m \u001B[49m\u001B[43mval_dataloaders\u001B[49m\u001B[43m,\u001B[49m\u001B[43m \u001B[49m\u001B[43mdatamodule\u001B[49m\u001B[43m,\u001B[49m\u001B[43m \u001B[49m\u001B[43mckpt_path\u001B[49m\n\u001B[1;32m    546\u001B[0m \u001B[43m\u001B[49m\u001B[43m)\u001B[49m\n",
      "File \u001B[0;32m~/.local/lib/python3.11/site-packages/lightning/pytorch/trainer/call.py:44\u001B[0m, in \u001B[0;36m_call_and_handle_interrupt\u001B[0;34m(trainer, trainer_fn, *args, **kwargs)\u001B[0m\n\u001B[1;32m     42\u001B[0m     \u001B[38;5;28;01mif\u001B[39;00m trainer\u001B[38;5;241m.\u001B[39mstrategy\u001B[38;5;241m.\u001B[39mlauncher \u001B[38;5;129;01mis\u001B[39;00m \u001B[38;5;129;01mnot\u001B[39;00m \u001B[38;5;28;01mNone\u001B[39;00m:\n\u001B[1;32m     43\u001B[0m         \u001B[38;5;28;01mreturn\u001B[39;00m trainer\u001B[38;5;241m.\u001B[39mstrategy\u001B[38;5;241m.\u001B[39mlauncher\u001B[38;5;241m.\u001B[39mlaunch(trainer_fn, \u001B[38;5;241m*\u001B[39margs, trainer\u001B[38;5;241m=\u001B[39mtrainer, \u001B[38;5;241m*\u001B[39m\u001B[38;5;241m*\u001B[39mkwargs)\n\u001B[0;32m---> 44\u001B[0m     \u001B[38;5;28;01mreturn\u001B[39;00m \u001B[43mtrainer_fn\u001B[49m\u001B[43m(\u001B[49m\u001B[38;5;241;43m*\u001B[39;49m\u001B[43margs\u001B[49m\u001B[43m,\u001B[49m\u001B[43m \u001B[49m\u001B[38;5;241;43m*\u001B[39;49m\u001B[38;5;241;43m*\u001B[39;49m\u001B[43mkwargs\u001B[49m\u001B[43m)\u001B[49m\n\u001B[1;32m     46\u001B[0m \u001B[38;5;28;01mexcept\u001B[39;00m _TunerExitException:\n\u001B[1;32m     47\u001B[0m     _call_teardown_hook(trainer)\n",
      "File \u001B[0;32m~/.local/lib/python3.11/site-packages/lightning/pytorch/trainer/trainer.py:580\u001B[0m, in \u001B[0;36mTrainer._fit_impl\u001B[0;34m(self, model, train_dataloaders, val_dataloaders, datamodule, ckpt_path)\u001B[0m\n\u001B[1;32m    573\u001B[0m \u001B[38;5;28;01massert\u001B[39;00m \u001B[38;5;28mself\u001B[39m\u001B[38;5;241m.\u001B[39mstate\u001B[38;5;241m.\u001B[39mfn \u001B[38;5;129;01mis\u001B[39;00m \u001B[38;5;129;01mnot\u001B[39;00m \u001B[38;5;28;01mNone\u001B[39;00m\n\u001B[1;32m    574\u001B[0m ckpt_path \u001B[38;5;241m=\u001B[39m \u001B[38;5;28mself\u001B[39m\u001B[38;5;241m.\u001B[39m_checkpoint_connector\u001B[38;5;241m.\u001B[39m_select_ckpt_path(\n\u001B[1;32m    575\u001B[0m     \u001B[38;5;28mself\u001B[39m\u001B[38;5;241m.\u001B[39mstate\u001B[38;5;241m.\u001B[39mfn,\n\u001B[1;32m    576\u001B[0m     ckpt_path,\n\u001B[1;32m    577\u001B[0m     model_provided\u001B[38;5;241m=\u001B[39m\u001B[38;5;28;01mTrue\u001B[39;00m,\n\u001B[1;32m    578\u001B[0m     model_connected\u001B[38;5;241m=\u001B[39m\u001B[38;5;28mself\u001B[39m\u001B[38;5;241m.\u001B[39mlightning_module \u001B[38;5;129;01mis\u001B[39;00m \u001B[38;5;129;01mnot\u001B[39;00m \u001B[38;5;28;01mNone\u001B[39;00m,\n\u001B[1;32m    579\u001B[0m )\n\u001B[0;32m--> 580\u001B[0m \u001B[38;5;28;43mself\u001B[39;49m\u001B[38;5;241;43m.\u001B[39;49m\u001B[43m_run\u001B[49m\u001B[43m(\u001B[49m\u001B[43mmodel\u001B[49m\u001B[43m,\u001B[49m\u001B[43m \u001B[49m\u001B[43mckpt_path\u001B[49m\u001B[38;5;241;43m=\u001B[39;49m\u001B[43mckpt_path\u001B[49m\u001B[43m)\u001B[49m\n\u001B[1;32m    582\u001B[0m \u001B[38;5;28;01massert\u001B[39;00m \u001B[38;5;28mself\u001B[39m\u001B[38;5;241m.\u001B[39mstate\u001B[38;5;241m.\u001B[39mstopped\n\u001B[1;32m    583\u001B[0m \u001B[38;5;28mself\u001B[39m\u001B[38;5;241m.\u001B[39mtraining \u001B[38;5;241m=\u001B[39m \u001B[38;5;28;01mFalse\u001B[39;00m\n",
      "File \u001B[0;32m~/.local/lib/python3.11/site-packages/lightning/pytorch/trainer/trainer.py:989\u001B[0m, in \u001B[0;36mTrainer._run\u001B[0;34m(self, model, ckpt_path)\u001B[0m\n\u001B[1;32m    984\u001B[0m \u001B[38;5;28mself\u001B[39m\u001B[38;5;241m.\u001B[39m_signal_connector\u001B[38;5;241m.\u001B[39mregister_signal_handlers()\n\u001B[1;32m    986\u001B[0m \u001B[38;5;66;03m# ----------------------------\u001B[39;00m\n\u001B[1;32m    987\u001B[0m \u001B[38;5;66;03m# RUN THE TRAINER\u001B[39;00m\n\u001B[1;32m    988\u001B[0m \u001B[38;5;66;03m# ----------------------------\u001B[39;00m\n\u001B[0;32m--> 989\u001B[0m results \u001B[38;5;241m=\u001B[39m \u001B[38;5;28;43mself\u001B[39;49m\u001B[38;5;241;43m.\u001B[39;49m\u001B[43m_run_stage\u001B[49m\u001B[43m(\u001B[49m\u001B[43m)\u001B[49m\n\u001B[1;32m    991\u001B[0m \u001B[38;5;66;03m# ----------------------------\u001B[39;00m\n\u001B[1;32m    992\u001B[0m \u001B[38;5;66;03m# POST-Training CLEAN UP\u001B[39;00m\n\u001B[1;32m    993\u001B[0m \u001B[38;5;66;03m# ----------------------------\u001B[39;00m\n\u001B[1;32m    994\u001B[0m log\u001B[38;5;241m.\u001B[39mdebug(\u001B[38;5;124mf\u001B[39m\u001B[38;5;124m\"\u001B[39m\u001B[38;5;132;01m{\u001B[39;00m\u001B[38;5;28mself\u001B[39m\u001B[38;5;241m.\u001B[39m\u001B[38;5;18m__class__\u001B[39m\u001B[38;5;241m.\u001B[39m\u001B[38;5;18m__name__\u001B[39m\u001B[38;5;132;01m}\u001B[39;00m\u001B[38;5;124m: trainer tearing down\u001B[39m\u001B[38;5;124m\"\u001B[39m)\n",
      "File \u001B[0;32m~/.local/lib/python3.11/site-packages/lightning/pytorch/trainer/trainer.py:1035\u001B[0m, in \u001B[0;36mTrainer._run_stage\u001B[0;34m(self)\u001B[0m\n\u001B[1;32m   1033\u001B[0m         \u001B[38;5;28mself\u001B[39m\u001B[38;5;241m.\u001B[39m_run_sanity_check()\n\u001B[1;32m   1034\u001B[0m     \u001B[38;5;28;01mwith\u001B[39;00m torch\u001B[38;5;241m.\u001B[39mautograd\u001B[38;5;241m.\u001B[39mset_detect_anomaly(\u001B[38;5;28mself\u001B[39m\u001B[38;5;241m.\u001B[39m_detect_anomaly):\n\u001B[0;32m-> 1035\u001B[0m         \u001B[38;5;28;43mself\u001B[39;49m\u001B[38;5;241;43m.\u001B[39;49m\u001B[43mfit_loop\u001B[49m\u001B[38;5;241;43m.\u001B[39;49m\u001B[43mrun\u001B[49m\u001B[43m(\u001B[49m\u001B[43m)\u001B[49m\n\u001B[1;32m   1036\u001B[0m     \u001B[38;5;28;01mreturn\u001B[39;00m \u001B[38;5;28;01mNone\u001B[39;00m\n\u001B[1;32m   1037\u001B[0m \u001B[38;5;28;01mraise\u001B[39;00m \u001B[38;5;167;01mRuntimeError\u001B[39;00m(\u001B[38;5;124mf\u001B[39m\u001B[38;5;124m\"\u001B[39m\u001B[38;5;124mUnexpected state \u001B[39m\u001B[38;5;132;01m{\u001B[39;00m\u001B[38;5;28mself\u001B[39m\u001B[38;5;241m.\u001B[39mstate\u001B[38;5;132;01m}\u001B[39;00m\u001B[38;5;124m\"\u001B[39m)\n",
      "File \u001B[0;32m~/.local/lib/python3.11/site-packages/lightning/pytorch/loops/fit_loop.py:198\u001B[0m, in \u001B[0;36m_FitLoop.run\u001B[0;34m(self)\u001B[0m\n\u001B[1;32m    196\u001B[0m     \u001B[38;5;28;01mreturn\u001B[39;00m\n\u001B[1;32m    197\u001B[0m \u001B[38;5;28mself\u001B[39m\u001B[38;5;241m.\u001B[39mreset()\n\u001B[0;32m--> 198\u001B[0m \u001B[38;5;28;43mself\u001B[39;49m\u001B[38;5;241;43m.\u001B[39;49m\u001B[43mon_run_start\u001B[49m\u001B[43m(\u001B[49m\u001B[43m)\u001B[49m\n\u001B[1;32m    199\u001B[0m \u001B[38;5;28;01mwhile\u001B[39;00m \u001B[38;5;129;01mnot\u001B[39;00m \u001B[38;5;28mself\u001B[39m\u001B[38;5;241m.\u001B[39mdone:\n\u001B[1;32m    200\u001B[0m     \u001B[38;5;28;01mtry\u001B[39;00m:\n",
      "File \u001B[0;32m~/.local/lib/python3.11/site-packages/lightning/pytorch/loops/fit_loop.py:324\u001B[0m, in \u001B[0;36m_FitLoop.on_run_start\u001B[0;34m(self)\u001B[0m\n\u001B[1;32m    321\u001B[0m     trainer\u001B[38;5;241m.\u001B[39mtraining \u001B[38;5;241m=\u001B[39m \u001B[38;5;28;01mTrue\u001B[39;00m\n\u001B[1;32m    323\u001B[0m call\u001B[38;5;241m.\u001B[39m_call_callback_hooks(trainer, \u001B[38;5;124m\"\u001B[39m\u001B[38;5;124mon_train_start\u001B[39m\u001B[38;5;124m\"\u001B[39m)\n\u001B[0;32m--> 324\u001B[0m \u001B[43mcall\u001B[49m\u001B[38;5;241;43m.\u001B[39;49m\u001B[43m_call_lightning_module_hook\u001B[49m\u001B[43m(\u001B[49m\u001B[43mtrainer\u001B[49m\u001B[43m,\u001B[49m\u001B[43m \u001B[49m\u001B[38;5;124;43m\"\u001B[39;49m\u001B[38;5;124;43mon_train_start\u001B[39;49m\u001B[38;5;124;43m\"\u001B[39;49m\u001B[43m)\u001B[49m\n\u001B[1;32m    325\u001B[0m call\u001B[38;5;241m.\u001B[39m_call_strategy_hook(trainer, \u001B[38;5;124m\"\u001B[39m\u001B[38;5;124mon_train_start\u001B[39m\u001B[38;5;124m\"\u001B[39m)\n",
      "File \u001B[0;32m~/.local/lib/python3.11/site-packages/lightning/pytorch/trainer/call.py:157\u001B[0m, in \u001B[0;36m_call_lightning_module_hook\u001B[0;34m(trainer, hook_name, pl_module, *args, **kwargs)\u001B[0m\n\u001B[1;32m    154\u001B[0m pl_module\u001B[38;5;241m.\u001B[39m_current_fx_name \u001B[38;5;241m=\u001B[39m hook_name\n\u001B[1;32m    156\u001B[0m \u001B[38;5;28;01mwith\u001B[39;00m trainer\u001B[38;5;241m.\u001B[39mprofiler\u001B[38;5;241m.\u001B[39mprofile(\u001B[38;5;124mf\u001B[39m\u001B[38;5;124m\"\u001B[39m\u001B[38;5;124m[LightningModule]\u001B[39m\u001B[38;5;132;01m{\u001B[39;00mpl_module\u001B[38;5;241m.\u001B[39m\u001B[38;5;18m__class__\u001B[39m\u001B[38;5;241m.\u001B[39m\u001B[38;5;18m__name__\u001B[39m\u001B[38;5;132;01m}\u001B[39;00m\u001B[38;5;124m.\u001B[39m\u001B[38;5;132;01m{\u001B[39;00mhook_name\u001B[38;5;132;01m}\u001B[39;00m\u001B[38;5;124m\"\u001B[39m):\n\u001B[0;32m--> 157\u001B[0m     output \u001B[38;5;241m=\u001B[39m \u001B[43mfn\u001B[49m\u001B[43m(\u001B[49m\u001B[38;5;241;43m*\u001B[39;49m\u001B[43margs\u001B[49m\u001B[43m,\u001B[49m\u001B[43m \u001B[49m\u001B[38;5;241;43m*\u001B[39;49m\u001B[38;5;241;43m*\u001B[39;49m\u001B[43mkwargs\u001B[49m\u001B[43m)\u001B[49m\n\u001B[1;32m    159\u001B[0m \u001B[38;5;66;03m# restore current_fx when nested context\u001B[39;00m\n\u001B[1;32m    160\u001B[0m pl_module\u001B[38;5;241m.\u001B[39m_current_fx_name \u001B[38;5;241m=\u001B[39m prev_fx_name\n",
      "File \u001B[0;32m~/Python/bg/modules/lightning-trainable/src/lightning_trainable/trainable/trainable.py:263\u001B[0m, in \u001B[0;36mTrainable.on_train_start\u001B[0;34m(self)\u001B[0m\n\u001B[1;32m    259\u001B[0m     \u001B[38;5;28;01mreturn\u001B[39;00m\n\u001B[1;32m    261\u001B[0m test_batch \u001B[38;5;241m=\u001B[39m \u001B[38;5;28mself\u001B[39m\u001B[38;5;241m.\u001B[39mtransfer_batch_to_device(test_batch, \u001B[38;5;28mself\u001B[39m\u001B[38;5;241m.\u001B[39mdevice, \u001B[38;5;241m0\u001B[39m)\n\u001B[0;32m--> 263\u001B[0m metrics \u001B[38;5;241m=\u001B[39m \u001B[38;5;28;43mself\u001B[39;49m\u001B[38;5;241;43m.\u001B[39;49m\u001B[43mcompute_metrics\u001B[49m\u001B[43m(\u001B[49m\u001B[43mtest_batch\u001B[49m\u001B[43m,\u001B[49m\u001B[43m \u001B[49m\u001B[38;5;241;43m0\u001B[39;49m\u001B[43m)\u001B[49m\n\u001B[1;32m    265\u001B[0m \u001B[38;5;28mself\u001B[39m\u001B[38;5;241m.\u001B[39mlogger\u001B[38;5;241m.\u001B[39mlog_hyperparams(\u001B[38;5;28mself\u001B[39m\u001B[38;5;241m.\u001B[39mhparams, {\u001B[38;5;124mf\u001B[39m\u001B[38;5;124m\"\u001B[39m\u001B[38;5;132;01m{\u001B[39;00mprefix\u001B[38;5;132;01m}\u001B[39;00m\u001B[38;5;124m/\u001B[39m\u001B[38;5;132;01m{\u001B[39;00mkey\u001B[38;5;132;01m}\u001B[39;00m\u001B[38;5;124m\"\u001B[39m: value \u001B[38;5;28;01mfor\u001B[39;00m key, value \u001B[38;5;129;01min\u001B[39;00m metrics\u001B[38;5;241m.\u001B[39mitems()})\n",
      "File \u001B[0;32m~/Python/bg/simplebg/src/simplebg/model/core.py:54\u001B[0m, in \u001B[0;36mBaseModel.compute_metrics\u001B[0;34m(self, batch, batch_idx)\u001B[0m\n\u001B[1;32m     52\u001B[0m \u001B[38;5;28;01mif\u001B[39;00m \u001B[38;5;28mtype\u001B[39m(batch) \u001B[38;5;129;01mis\u001B[39;00m \u001B[38;5;28mlist\u001B[39m:\n\u001B[1;32m     53\u001B[0m     batch \u001B[38;5;241m=\u001B[39m batch[\u001B[38;5;241m0\u001B[39m]\n\u001B[0;32m---> 54\u001B[0m total_loss, loss_dict \u001B[38;5;241m=\u001B[39m \u001B[43mloss\u001B[49m\u001B[38;5;241;43m.\u001B[39;49m\u001B[43mcompute_losses\u001B[49m\u001B[43m(\u001B[49m\u001B[43mbatch\u001B[49m\u001B[43m,\u001B[49m\u001B[43m \u001B[49m\u001B[38;5;28;43mself\u001B[39;49m\u001B[38;5;241;43m.\u001B[39;49m\u001B[43mnn\u001B[49m\u001B[43m,\u001B[49m\u001B[43m \u001B[49m\u001B[38;5;28;43mself\u001B[39;49m\u001B[38;5;241;43m.\u001B[39;49m\u001B[43mq\u001B[49m\u001B[43m,\u001B[49m\u001B[43m \u001B[49m\u001B[38;5;28;43mself\u001B[39;49m\u001B[38;5;241;43m.\u001B[39;49m\u001B[43mhparams\u001B[49m\u001B[38;5;241;43m.\u001B[39;49m\u001B[43mloss_weights\u001B[49m\u001B[43m,\u001B[49m\n\u001B[1;32m     55\u001B[0m \u001B[43m                                            \u001B[49m\u001B[43mtraining\u001B[49m\u001B[38;5;241;43m=\u001B[39;49m\u001B[38;5;28;43mself\u001B[39;49m\u001B[38;5;241;43m.\u001B[39;49m\u001B[43mtraining\u001B[49m\u001B[43m,\u001B[49m\u001B[43m \u001B[49m\u001B[38;5;241;43m*\u001B[39;49m\u001B[38;5;241;43m*\u001B[39;49m\u001B[43mkwargs\u001B[49m\u001B[43m)\u001B[49m\n\u001B[1;32m     56\u001B[0m \u001B[38;5;28;01mreturn\u001B[39;00m \u001B[38;5;28mdict\u001B[39m(loss\u001B[38;5;241m=\u001B[39mtotal_loss, \u001B[38;5;241m*\u001B[39m\u001B[38;5;241m*\u001B[39mloss_dict)\n",
      "File \u001B[0;32m~/Python/bg/simplebg/src/simplebg/loss/core.py:39\u001B[0m, in \u001B[0;36mcompute_losses\u001B[0;34m(x, nn, latent_distribution, loss_weights, training, nn_kwargs, **kwargs)\u001B[0m\n\u001B[1;32m     37\u001B[0m forward_pass \u001B[38;5;241m=\u001B[39m \u001B[38;5;28;01mNone\u001B[39;00m\n\u001B[1;32m     38\u001B[0m \u001B[38;5;28;01mif\u001B[39;00m \u001B[38;5;124m\"\u001B[39m\u001B[38;5;124mforward_kl\u001B[39m\u001B[38;5;124m\"\u001B[39m \u001B[38;5;129;01min\u001B[39;00m active:\n\u001B[0;32m---> 39\u001B[0m     forward_pass \u001B[38;5;241m=\u001B[39m \u001B[43mnn\u001B[49m\u001B[38;5;241;43m.\u001B[39;49m\u001B[43mforward\u001B[49m\u001B[43m(\u001B[49m\u001B[43mx\u001B[49m\u001B[43m,\u001B[49m\u001B[43m \u001B[49m\u001B[43mjac\u001B[49m\u001B[38;5;241;43m=\u001B[39;49m\u001B[38;5;28;43;01mTrue\u001B[39;49;00m\u001B[43m,\u001B[49m\u001B[43m \u001B[49m\u001B[38;5;241;43m*\u001B[39;49m\u001B[38;5;241;43m*\u001B[39;49m\u001B[43mnn_kwargs\u001B[49m\u001B[43m)\u001B[49m\n\u001B[1;32m     40\u001B[0m     forward_kl \u001B[38;5;241m=\u001B[39m kl\u001B[38;5;241m.\u001B[39mforward_kl(forward_pass\u001B[38;5;241m.\u001B[39moutput, forward_pass\u001B[38;5;241m.\u001B[39mlog_det_j, latent_distribution)\u001B[38;5;241m.\u001B[39mmean()\n\u001B[1;32m     41\u001B[0m     loss_dict[\u001B[38;5;124m\"\u001B[39m\u001B[38;5;124mforward_kl\u001B[39m\u001B[38;5;124m\"\u001B[39m] \u001B[38;5;241m=\u001B[39m forward_kl\n",
      "File \u001B[0;32m~/Python/bg/simplebg/src/simplebg/network/fff.py:55\u001B[0m, in \u001B[0;36mBaseFreeFormFlow.forward\u001B[0;34m(self, x, jac, **kwargs)\u001B[0m\n\u001B[1;32m     53\u001B[0m surrogate \u001B[38;5;241m=\u001B[39m fff\u001B[38;5;241m.\u001B[39mloss\u001B[38;5;241m.\u001B[39mvolume_change_surrogate(x, \u001B[38;5;28mself\u001B[39m\u001B[38;5;241m.\u001B[39m_encode, \u001B[38;5;28mself\u001B[39m\u001B[38;5;241m.\u001B[39m_decode, \u001B[38;5;241m*\u001B[39m\u001B[38;5;241m*\u001B[39mkwargs)\n\u001B[1;32m     54\u001B[0m z \u001B[38;5;241m=\u001B[39m surrogate\u001B[38;5;241m.\u001B[39mz\n\u001B[0;32m---> 55\u001B[0m \u001B[43mlog_det_j\u001B[49m\u001B[43m \u001B[49m\u001B[38;5;241;43m+\u001B[39;49m\u001B[38;5;241;43m=\u001B[39;49m\u001B[43m \u001B[49m\u001B[43msurrogate\u001B[49m\u001B[38;5;241;43m.\u001B[39;49m\u001B[43msurrogate\u001B[49m\n\u001B[1;32m     56\u001B[0m byproducts\u001B[38;5;241m.\u001B[39mx1 \u001B[38;5;241m=\u001B[39m surrogate\u001B[38;5;241m.\u001B[39mx1\n\u001B[1;32m     57\u001B[0m byproducts\u001B[38;5;241m.\u001B[39mregularizations \u001B[38;5;241m=\u001B[39m surrogate\u001B[38;5;241m.\u001B[39mregularizations\n",
      "\u001B[0;31mRuntimeError\u001B[0m: output with shape [125, 1, 1] doesn't match the broadcast shape [125, 1, 125]"
     ]
    }
   ],
   "execution_count": 13
  },
  {
   "metadata": {},
   "cell_type": "code",
   "source": "my_model.nn.forward(x).output.squeeze(1)",
   "id": "9a0ed4e69396b718",
   "outputs": [],
   "execution_count": null
  },
  {
   "metadata": {},
   "cell_type": "code",
   "source": "from lightning_trainable.hparams import HParams",
   "id": "d1b1651289d6196d",
   "outputs": [],
   "execution_count": null
  },
  {
   "metadata": {},
   "cell_type": "code",
   "source": "",
   "id": "6e3ab35c17d8e742",
   "outputs": [],
   "execution_count": null
  }
 ],
 "metadata": {
  "kernelspec": {
   "display_name": "Python 3",
   "language": "python",
   "name": "python3"
  },
  "language_info": {
   "codemirror_mode": {
    "name": "ipython",
    "version": 2
   },
   "file_extension": ".py",
   "mimetype": "text/x-python",
   "name": "python",
   "nbconvert_exporter": "python",
   "pygments_lexer": "ipython2",
   "version": "2.7.6"
  }
 },
 "nbformat": 4,
 "nbformat_minor": 5
}
